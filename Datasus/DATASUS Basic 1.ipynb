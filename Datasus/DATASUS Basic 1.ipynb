{
 "cells": [
  {
   "attachments": {},
   "cell_type": "markdown",
   "metadata": {},
   "source": [
    "Baixando dados do DATASUS\n",
    "Baseado em : https://medium.com/psicodata/baixando-e-processando-dados-do-datasus-sobre-suic%C3%ADdio-com-python-656afa17f6ad\n",
    "\n",
    "Importante: Rodar no Python 3.9.7 "
   ]
  },
  {
   "attachments": {},
   "cell_type": "markdown",
   "metadata": {},
   "source": [
    "#Busca as bases de dados no Datasus"
   ]
  },
  {
   "cell_type": "code",
   "execution_count": 3,
   "metadata": {},
   "outputs": [
    {
     "name": "stderr",
     "output_type": "stream",
     "text": [
      "2023-01-17 21:00:39.075 | DEBUG    | pysus.online_data.SIM:download:62 - Stablishing connection with ftp.datasus.gov.br.\n",
      "220 Microsoft FTP Service\n",
      "2023-01-17 21:00:39.119 | DEBUG    | pysus.online_data.SIM:download:64 - Changing FTP work dir to: /dissemin/publicos/SIM/CID10/DORES\n",
      "2023-01-17 21:02:09.406 | INFO     | pysus.online_data.SIM:download:79 - Data stored as parquet at /Users/luisurso/pysus/SIM_DOSP2017_.parquet\n",
      "2023-01-17 21:02:09.412 | DEBUG    | pysus.online_data.SIM:download:82 - DOSP2017.DBC removed\n",
      "2023-01-17 21:02:09.555 | DEBUG    | pysus.online_data.SIM:download:62 - Stablishing connection with ftp.datasus.gov.br.\n",
      "220 Microsoft FTP Service\n",
      "2023-01-17 21:02:09.589 | DEBUG    | pysus.online_data.SIM:download:64 - Changing FTP work dir to: /dissemin/publicos/SIM/CID10/DORES\n"
     ]
    },
    {
     "name": "stdout",
     "output_type": "stream",
     "text": [
      "Banco de 2017 de SP baixado!\n"
     ]
    },
    {
     "name": "stderr",
     "output_type": "stream",
     "text": [
      "2023-01-17 21:02:50.123 | INFO     | pysus.online_data.SIM:download:79 - Data stored as parquet at /Users/luisurso/pysus/SIM_DORJ2017_.parquet\n",
      "2023-01-17 21:02:50.125 | DEBUG    | pysus.online_data.SIM:download:82 - DORJ2017.DBC removed\n",
      "2023-01-17 21:02:50.251 | DEBUG    | pysus.online_data.SIM:download:62 - Stablishing connection with ftp.datasus.gov.br.\n",
      "220 Microsoft FTP Service\n",
      "2023-01-17 21:02:50.284 | DEBUG    | pysus.online_data.SIM:download:64 - Changing FTP work dir to: /dissemin/publicos/SIM/CID10/DORES\n"
     ]
    },
    {
     "name": "stdout",
     "output_type": "stream",
     "text": [
      "Banco de 2017 de RJ baixado!\n"
     ]
    },
    {
     "name": "stderr",
     "output_type": "stream",
     "text": [
      "2023-01-17 21:04:22.227 | INFO     | pysus.online_data.SIM:download:79 - Data stored as parquet at /Users/luisurso/pysus/SIM_DOSP2018_.parquet\n",
      "2023-01-17 21:04:22.230 | DEBUG    | pysus.online_data.SIM:download:82 - DOSP2018.DBC removed\n",
      "2023-01-17 21:04:22.391 | DEBUG    | pysus.online_data.SIM:download:62 - Stablishing connection with ftp.datasus.gov.br.\n",
      "220 Microsoft FTP Service\n",
      "2023-01-17 21:04:22.428 | DEBUG    | pysus.online_data.SIM:download:64 - Changing FTP work dir to: /dissemin/publicos/SIM/CID10/DORES\n"
     ]
    },
    {
     "name": "stdout",
     "output_type": "stream",
     "text": [
      "Banco de 2018 de SP baixado!\n"
     ]
    },
    {
     "name": "stderr",
     "output_type": "stream",
     "text": [
      "2023-01-17 21:05:02.059 | INFO     | pysus.online_data.SIM:download:79 - Data stored as parquet at /Users/luisurso/pysus/SIM_DORJ2018_.parquet\n",
      "2023-01-17 21:05:02.062 | DEBUG    | pysus.online_data.SIM:download:82 - DORJ2018.DBC removed\n"
     ]
    },
    {
     "name": "stdout",
     "output_type": "stream",
     "text": [
      "Banco de 2018 de RJ baixado!\n"
     ]
    }
   ],
   "source": [
    "\n",
    "from pysus.online_data.SIM import download\n",
    "\n",
    "estados =['SP','RJ']\n",
    "\n",
    "anos = [2017, 2018]\n",
    "\n",
    "banco={}\n",
    "\n",
    "for y in anos:\n",
    " for uf in estados: \n",
    "    banco[uf, y] = download(state = uf, year=y)\n",
    "    print('Banco de ' + str(y) + ' de ' + str(uf) + ' baixado!')"
   ]
  },
  {
   "attachments": {},
   "cell_type": "markdown",
   "metadata": {},
   "source": [
    "#Concatena todas as bases de dados recebidas (FTP download)"
   ]
  },
  {
   "cell_type": "code",
   "execution_count": 5,
   "metadata": {},
   "outputs": [],
   "source": [
    "import pandas as pd\n",
    "\n",
    "todos = pd.concat({ k: pd.DataFrame.from_dict(v) for k, v in banco.items() }, axis=0).reset_index()"
   ]
  },
  {
   "cell_type": "code",
   "execution_count": 6,
   "metadata": {},
   "outputs": [
    {
     "data": {
      "text/html": [
       "<div>\n",
       "<style scoped>\n",
       "    .dataframe tbody tr th:only-of-type {\n",
       "        vertical-align: middle;\n",
       "    }\n",
       "\n",
       "    .dataframe tbody tr th {\n",
       "        vertical-align: top;\n",
       "    }\n",
       "\n",
       "    .dataframe thead th {\n",
       "        text-align: right;\n",
       "    }\n",
       "</style>\n",
       "<table border=\"1\" class=\"dataframe\">\n",
       "  <thead>\n",
       "    <tr style=\"text-align: right;\">\n",
       "      <th></th>\n",
       "      <th>level_0</th>\n",
       "      <th>level_1</th>\n",
       "      <th>level_2</th>\n",
       "      <th>CONTADOR</th>\n",
       "      <th>ORIGEM</th>\n",
       "      <th>TIPOBITO</th>\n",
       "      <th>DTOBITO</th>\n",
       "      <th>HORAOBITO</th>\n",
       "      <th>NATURAL</th>\n",
       "      <th>CODMUNNATU</th>\n",
       "      <th>...</th>\n",
       "      <th>DTCONINV</th>\n",
       "      <th>FONTES</th>\n",
       "      <th>TPRESGINFO</th>\n",
       "      <th>TPNIVELINV</th>\n",
       "      <th>NUDIASINF</th>\n",
       "      <th>DTCADINF</th>\n",
       "      <th>MORTEPARTO</th>\n",
       "      <th>DTCONCASO</th>\n",
       "      <th>FONTESINF</th>\n",
       "      <th>ALTCAUSA</th>\n",
       "    </tr>\n",
       "  </thead>\n",
       "  <tbody>\n",
       "    <tr>\n",
       "      <th>0</th>\n",
       "      <td>SP</td>\n",
       "      <td>2017</td>\n",
       "      <td>0</td>\n",
       "      <td>1</td>\n",
       "      <td>1</td>\n",
       "      <td>2</td>\n",
       "      <td>08072017</td>\n",
       "      <td>1232</td>\n",
       "      <td>835</td>\n",
       "      <td>350400</td>\n",
       "      <td>...</td>\n",
       "      <td></td>\n",
       "      <td></td>\n",
       "      <td></td>\n",
       "      <td></td>\n",
       "      <td></td>\n",
       "      <td></td>\n",
       "      <td></td>\n",
       "      <td></td>\n",
       "      <td></td>\n",
       "      <td></td>\n",
       "    </tr>\n",
       "    <tr>\n",
       "      <th>1</th>\n",
       "      <td>SP</td>\n",
       "      <td>2017</td>\n",
       "      <td>1</td>\n",
       "      <td>2</td>\n",
       "      <td>1</td>\n",
       "      <td>2</td>\n",
       "      <td>13062017</td>\n",
       "      <td>0810</td>\n",
       "      <td>835</td>\n",
       "      <td>353870</td>\n",
       "      <td>...</td>\n",
       "      <td>13092017</td>\n",
       "      <td>SXSXXX</td>\n",
       "      <td></td>\n",
       "      <td>M</td>\n",
       "      <td></td>\n",
       "      <td></td>\n",
       "      <td></td>\n",
       "      <td></td>\n",
       "      <td></td>\n",
       "      <td></td>\n",
       "    </tr>\n",
       "    <tr>\n",
       "      <th>2</th>\n",
       "      <td>SP</td>\n",
       "      <td>2017</td>\n",
       "      <td>2</td>\n",
       "      <td>3</td>\n",
       "      <td>1</td>\n",
       "      <td>2</td>\n",
       "      <td>05072017</td>\n",
       "      <td>1100</td>\n",
       "      <td>827</td>\n",
       "      <td>270170</td>\n",
       "      <td>...</td>\n",
       "      <td>21072017</td>\n",
       "      <td>XSXXXS</td>\n",
       "      <td></td>\n",
       "      <td>M</td>\n",
       "      <td></td>\n",
       "      <td></td>\n",
       "      <td></td>\n",
       "      <td></td>\n",
       "      <td></td>\n",
       "      <td></td>\n",
       "    </tr>\n",
       "    <tr>\n",
       "      <th>3</th>\n",
       "      <td>SP</td>\n",
       "      <td>2017</td>\n",
       "      <td>3</td>\n",
       "      <td>4</td>\n",
       "      <td>1</td>\n",
       "      <td>2</td>\n",
       "      <td>23062017</td>\n",
       "      <td>1910</td>\n",
       "      <td>835</td>\n",
       "      <td>350290</td>\n",
       "      <td>...</td>\n",
       "      <td></td>\n",
       "      <td></td>\n",
       "      <td></td>\n",
       "      <td></td>\n",
       "      <td></td>\n",
       "      <td></td>\n",
       "      <td></td>\n",
       "      <td></td>\n",
       "      <td></td>\n",
       "      <td></td>\n",
       "    </tr>\n",
       "    <tr>\n",
       "      <th>4</th>\n",
       "      <td>SP</td>\n",
       "      <td>2017</td>\n",
       "      <td>4</td>\n",
       "      <td>5</td>\n",
       "      <td>1</td>\n",
       "      <td>2</td>\n",
       "      <td>07062017</td>\n",
       "      <td>0551</td>\n",
       "      <td>835</td>\n",
       "      <td>350290</td>\n",
       "      <td>...</td>\n",
       "      <td></td>\n",
       "      <td></td>\n",
       "      <td></td>\n",
       "      <td></td>\n",
       "      <td></td>\n",
       "      <td></td>\n",
       "      <td></td>\n",
       "      <td></td>\n",
       "      <td></td>\n",
       "      <td></td>\n",
       "    </tr>\n",
       "  </tbody>\n",
       "</table>\n",
       "<p>5 rows × 91 columns</p>\n",
       "</div>"
      ],
      "text/plain": [
       "  level_0  level_1  level_2 CONTADOR ORIGEM TIPOBITO   DTOBITO HORAOBITO  \\\n",
       "0      SP     2017        0        1      1        2  08072017      1232   \n",
       "1      SP     2017        1        2      1        2  13062017      0810   \n",
       "2      SP     2017        2        3      1        2  05072017      1100   \n",
       "3      SP     2017        3        4      1        2  23062017      1910   \n",
       "4      SP     2017        4        5      1        2  07062017      0551   \n",
       "\n",
       "  NATURAL CODMUNNATU  ...  DTCONINV  FONTES TPRESGINFO TPNIVELINV NUDIASINF  \\\n",
       "0     835     350400  ...                                                     \n",
       "1     835     353870  ...  13092017  SXSXXX                     M             \n",
       "2     827     270170  ...  21072017  XSXXXS                     M             \n",
       "3     835     350290  ...                                                     \n",
       "4     835     350290  ...                                                     \n",
       "\n",
       "  DTCADINF MORTEPARTO DTCONCASO FONTESINF ALTCAUSA  \n",
       "0                                                   \n",
       "1                                                   \n",
       "2                                                   \n",
       "3                                                   \n",
       "4                                                   \n",
       "\n",
       "[5 rows x 91 columns]"
      ]
     },
     "execution_count": 6,
     "metadata": {},
     "output_type": "execute_result"
    }
   ],
   "source": [
    "todos.head()"
   ]
  }
 ],
 "metadata": {
  "kernelspec": {
   "display_name": "base",
   "language": "python",
   "name": "python3"
  },
  "language_info": {
   "codemirror_mode": {
    "name": "ipython",
    "version": 3
   },
   "file_extension": ".py",
   "mimetype": "text/x-python",
   "name": "python",
   "nbconvert_exporter": "python",
   "pygments_lexer": "ipython3",
   "version": "3.9.7"
  },
  "orig_nbformat": 4,
  "vscode": {
   "interpreter": {
    "hash": "40d3a090f54c6569ab1632332b64b2c03c39dcf918b08424e98f38b5ae0af88f"
   }
  }
 },
 "nbformat": 4,
 "nbformat_minor": 2
}
