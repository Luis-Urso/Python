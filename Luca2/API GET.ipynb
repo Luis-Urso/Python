{
 "cells": [
  {
   "cell_type": "code",
   "execution_count": null,
   "metadata": {},
   "outputs": [],
   "source": [
    "import requests\n",
    "from requests.auth import HTTPBasicAuth\n",
    "  \n",
    "# Making a get request\n",
    "response = requests.get('https://soag-z1-d.am.lilly.com:8443/rest/edb_csad-org/v1.0/WorkdayOrganizations', auth = HTTPBasicAuth('WB02554', 'Junsaopaulo2@20'))"
   ]
  }
 ],
 "metadata": {
  "language_info": {
   "name": "python"
  },
  "orig_nbformat": 4
 },
 "nbformat": 4,
 "nbformat_minor": 2
}
