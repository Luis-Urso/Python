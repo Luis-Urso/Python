{
 "cells": [
  {
   "attachments": {},
   "cell_type": "markdown",
   "metadata": {},
   "source": [
    "# Model for Count Data\n",
    "\n",
    "Version 2.1 - 14-July-2023\n",
    "\n",
    "by Luis A. Urso (compilation), USP-EALQ, INSPER, UNIMEP\n",
    "\n",
    "Credits to: Prof. Luis Paulo Favero, USP-ESALQ\n"
   ]
  },
  {
   "attachments": {},
   "cell_type": "markdown",
   "metadata": {},
   "source": [
    "## Introduction\n",
    "\n",
    "This scrip must be execute from top down, witout let any execution block behind, since there are futher steps those depend on the created variables and functions. \n",
    "\n",
    "The dataset used for this exercise is based in a real situation (see the reference)\n",
    "\n",
    "Reference:\n",
    "Fisman, R.; Miguel, E. Corruption, Norms, and Legal Enforcement: Evidence from Diplomatic Parking Tickets.  Journal of Political Economy, v. 15, n. 6, p. 1020-1048, 2007. https://www.journals.uchicago.edu/doi/abs/10.1086/527495\n"
   ]
  },
  {
   "attachments": {},
   "cell_type": "markdown",
   "metadata": {},
   "source": [
    "## 1. REQUIRED PACKAGES AND GLOBAL FUNCTIONS"
   ]
  },
  {
   "attachments": {},
   "cell_type": "markdown",
   "metadata": {},
   "source": [
    "### 1.1. PACKAGES"
   ]
  },
  {
   "cell_type": "code",
   "execution_count": null,
   "metadata": {},
   "outputs": [],
   "source": [
    "## Required Packages Import\n",
    "\n",
    "import pandas as pd\n",
    "import numpy as np\n",
    "from math import exp, factorial\n",
    "\n",
    "import statsmodels.api as sm # Stats Models Package\n",
    "import statsmodels.formula.api as smf\n",
    "from statsmodels.iolib.summary2 import summary_col\n",
    "from statsmodels.discrete.count_model import ZeroInflatedNegativeBinomialP\n",
    "\n",
    "from scipy import stats\n",
    "from scipy.stats import norm\n",
    "from scipy.interpolate import interp1d\n",
    "\n",
    "import seaborn as sns \n",
    "import matplotlib.pyplot as plt \n",
    "\n",
    "import warnings\n",
    "warnings.filterwarnings('ignore')"
   ]
  },
  {
   "attachments": {},
   "cell_type": "markdown",
   "metadata": {},
   "source": [
    "### 1.2. GLOBAL FUNCTIONS"
   ]
  },
  {
   "cell_type": "code",
   "execution_count": null,
   "metadata": {},
   "outputs": [],
   "source": [
    "## FUNCTION: LR TEST (LOG-LIK RATIO TEST) - as known as WILKS TEST\n",
    "## Access the godness of fit for 2 competing model, specifically one found by \n",
    "## maximization against other with constraints. \n",
    "## It is expected a p-value < 0.05 to demostrate that the parameters are statistically significantt\n",
    "\n",
    "def lrtest(modelos):\n",
    "    modelo_1 = modelos[0]\n",
    "    llk_1 = modelo_1.llnull\n",
    "    llk_2 = modelo_1.llf\n",
    "    \n",
    "    if len(modelos)>1:\n",
    "        llk_1 = modelo_1.llf\n",
    "        llk_2 = modelos[1].llf\n",
    "    LR_statistic = -2*(llk_1-llk_2)\n",
    "    p_val = stats.chi2.sf(LR_statistic, 1)\n",
    "    return round(LR_statistic,2), round(p_val,2)"
   ]
  },
  {
   "attachments": {},
   "cell_type": "markdown",
   "metadata": {},
   "source": [
    "## 2. INITIAL EXPLORATORY ANALYSIS"
   ]
  },
  {
   "cell_type": "code",
   "execution_count": null,
   "metadata": {},
   "outputs": [],
   "source": [
    "## Load the Dataset CORRUPTION\n",
    "## Makes basic verifications and Statistics\n",
    "\n",
    "df_corruption = pd.read_csv('corruption.csv', delimiter=',')\n",
    "df_corruption\n",
    "\n",
    "## See Dataset Characteristics \n",
    "df_corruption.info()\n",
    "\n",
    "## See Univariate Statistics \n",
    "df_corruption.describe()"
   ]
  },
  {
   "cell_type": "code",
   "execution_count": null,
   "metadata": {},
   "outputs": [],
   "source": [
    "## Makes a Frequency Table for Dependent Dariable (Y) 'violations'\n",
    "## Uses the function 'values_counts' from PANDAS, without normalization to generate the percentage counts\n",
    "\n",
    "## Check Point: Observa that majority (52.3%) of the violations are 0 (Zero) which suggested Excess of Zeros and \n",
    "##              a ZIP or ZINB Model maybe more adequate. Later we will verify with detail. \n",
    "\n",
    "contagem = df_corruption['violations'].value_counts(dropna=False)\n",
    "percent = df_corruption['violations'].value_counts(dropna=False, normalize=True)\n",
    "pd.concat([contagem, percent], axis=1, keys=['contagem', '%'], sort=True)"
   ]
  },
  {
   "cell_type": "code",
   "execution_count": null,
   "metadata": {},
   "outputs": [],
   "source": [
    "## See the Histogram of Dependent Variable (Y) 'violations'\n",
    "\n",
    "## Check Point: See that a preliminary view of Y variable in the Histogram, suggests:\n",
    "##              - Excess of Zeros (Zero-Inflated Models) - concentrate amount of zeros (as verified before)\n",
    "##              - Overdispersion (Negative Binomial Models) - long tail on right od distribution \n",
    "\n",
    "plt.figure(figsize=(10,5))\n",
    "sns.histplot(data=df_corruption, x=\"violations\", bins=20, color='darkorchid')\n",
    "plt.show()"
   ]
  },
  {
   "cell_type": "code",
   "execution_count": null,
   "metadata": {},
   "outputs": [],
   "source": [
    "## Prelimar diagnostic to observe the equality (or proximity) between MEAN and VARIANCE of the \n",
    "## Dependente Variable (Y) 'violations'. \n",
    "\n",
    "## Check Point: As in this exercise it is observed a considerable difference (VARIANCE > MEAN),\n",
    "##              the OVERDISPERSION is present. Therefore this is not the ultimate test, we will verify\n",
    "##              with more preision ahead in the script\n",
    "\n",
    "\n",
    "pd.DataFrame({'Mean':[df_corruption.violations.mean()],\n",
    "              'Variance':[df_corruption.violations.var()]})\n"
   ]
  },
  {
   "cell_type": "code",
   "execution_count": null,
   "metadata": {},
   "outputs": [],
   "source": [
    "## Check the behavior of variables 'corruption' (X) versus 'violations'(Y), BEFORE the law enforcement \n",
    "## (variable 'post'='no') and AFTER the law enforcement (variable 'post'='no') \n",
    "\n",
    "fig, axs = plt.subplots(ncols=2, figsize=(20,10), sharey=True)\n",
    "\n",
    "fig.suptitle('Transit Violation in NY BEFORE and AFTER the Law Enforcement',\n",
    "             fontsize = 20)\n",
    "\n",
    "post = ['no','yes']\n",
    "\n",
    "def label_point(x, y, val, ax):\n",
    "    a = pd.concat({'x': x, 'y': y, 'val': val}, axis=1)\n",
    "    for i, point in a.iterrows():\n",
    "        ax.text(point['x']+.02, point['y']+.1, str(point['val']))\n",
    "\n",
    "for i, v in enumerate(post):\n",
    "    df = df_corruption[df_corruption.post==v]\n",
    "    df['violations'] = np.log(df.violations)\n",
    "    df.loc[df['violations']==np.inf, 'violations'] = 0\n",
    "    df.loc[df['violations']==-np.inf, 'violations'] = 0\n",
    "    sns.regplot(data=df, x='corruption', y='violations',order=3, ax=axs[i],\n",
    "                ci=False, color='darkorchid')\n",
    "    axs[i].set_title(v)\n",
    "    axs[i].set_ylabel(\"Transit Violations in NY (logs)\", fontsize = 17)\n",
    "    axs[i].set_xlabel(\"Countries Corruption Indexes\", fontsize = 17)\n",
    "    label_point(df.corruption, df.violations, df.code, axs[i])  \n",
    "\n",
    "plt.show()"
   ]
  },
  {
   "attachments": {},
   "cell_type": "markdown",
   "metadata": {},
   "source": [
    "## 3. POISSON MODEL [POISSON]"
   ]
  },
  {
   "attachments": {},
   "cell_type": "markdown",
   "metadata": {},
   "source": [
    "### 3.1. POISSON DISTRIBUTION CONCEPTS"
   ]
  },
  {
   "cell_type": "code",
   "execution_count": null,
   "metadata": {},
   "outputs": [],
   "source": [
    "## POISSON DISTRIBUTION CONCEPTUAL PART (ACADEMIC)\n",
    "\n",
    "## References: \n",
    "## Fisman, R.; Miguel, E. Corruption, Norms, and Legal Enforcement:\n",
    "## Evidence from Diplomatic Parking Tickets.\n",
    "## Journal of Political Economy, v. 15, n. 6, p. 1020-1048, 2007.\n",
    "## https://www.journals.uchicago.edu/doi/abs/10.1086/527495\n",
    "\n",
    "## Creating a POISSON Distribution function based on determined values of LAMBDA and for M data point.\n",
    "\n",
    "def poisson_lambda(lmbda,m):\n",
    "    return (exp(-lmbda) * lmbda ** m) / factorial(m)"
   ]
  },
  {
   "cell_type": "code",
   "execution_count": null,
   "metadata": {},
   "outputs": [],
   "source": [
    "## Preparing for plotting the different values of LAMBDA\n",
    "\n",
    "m = np.arange(0,21)\n",
    "\n",
    "lmbda_1 = []\n",
    "lmbda_2 = []\n",
    "lmbda_4 = []\n",
    "\n",
    "for item in m:\n",
    "    ## for lambda = 1\n",
    "    lmbda_1.append(poisson_lambda(1,item))\n",
    "    ## for lambda = 2\n",
    "    lmbda_2.append(poisson_lambda(2,item))\n",
    "    ## for lambda = 4\n",
    "    lmbda_4.append(poisson_lambda(4,item))\n",
    "\n",
    "## Temporary Data Frame with lambdas values \n",
    "\n",
    "df_lambda = pd.DataFrame({'m':m,\n",
    "                          'lambda_1':lmbda_1,\n",
    "                          'lambda_2':lmbda_2,\n",
    "                          'lambda_4':lmbda_4})\n",
    "df_lambda"
   ]
  },
  {
   "cell_type": "code",
   "execution_count": null,
   "metadata": {},
   "outputs": [],
   "source": [
    "## Plot the graph with diferent values of lambda\n",
    "\n",
    "from scipy.interpolate import interp1d\n",
    "\n",
    "def smooth_line_plot(x,y):\n",
    "    x_new = np.linspace(x.min(), x.max(),500)\n",
    "    f = interp1d(x, y, kind='quadratic')\n",
    "    y_smooth=f(x_new)\n",
    "    return x_new, y_smooth\n",
    "\n",
    "x_new, lambda_1 = smooth_line_plot(df_lambda.m, df_lambda.lambda_1)\n",
    "x_new, lambda_2 = smooth_line_plot(df_lambda.m, df_lambda.lambda_2)\n",
    "x_new, lambda_4 = smooth_line_plot(df_lambda.m, df_lambda.lambda_4)\n",
    "\n",
    "plt.figure(figsize=(7,5))\n",
    "plt.plot(x_new,lambda_1, linewidth=5, color='#440154FF')\n",
    "plt.plot(x_new,lambda_2, linewidth=5, color='#22A884FF')\n",
    "plt.plot(x_new,lambda_4, linewidth=5, color='#FDE725FF')\n",
    "plt.xlabel('m', fontsize=10)\n",
    "plt.ylabel('Probabilidades', fontsize=10)\n",
    "plt.legend([r'$\\lambda$ = 1',r'$\\lambda$ = 2',r'$\\lambda$ = 4'], fontsize=12)\n",
    "plt.show\n"
   ]
  },
  {
   "attachments": {},
   "cell_type": "markdown",
   "metadata": {},
   "source": [
    "### 3.2. POISSON REGRESSION MODEL ESTIMATION"
   ]
  },
  {
   "cell_type": "code",
   "execution_count": null,
   "metadata": {},
   "outputs": [],
   "source": [
    "## Makes a POISSON Regression using an open database called CORRUPTION. \n",
    "\n",
    "## The argument 'family=sm.families.Poisson()' of function 'smf.glm' defines the \n",
    "## estimation model. In our case is Poisson\n",
    "\n",
    "modelo_poisson = smf.glm(formula='violations ~ staff + post + corruption',\n",
    "                         data=df_corruption,\n",
    "                         family=sm.families.Poisson()).fit()\n",
    "\n",
    "## Verify the model parameters\n",
    "modelo_poisson.summary()"
   ]
  },
  {
   "cell_type": "code",
   "execution_count": null,
   "metadata": {},
   "outputs": [],
   "source": [
    "## TIP: Another way to se a more complete models is by using the function 'summary_col'\n",
    "\n",
    "summary_col([modelo_poisson],\n",
    "            model_names=[\"MODEL\"],\n",
    "            stars=True,\n",
    "            info_dict = {\n",
    "                'N':lambda x: \"{0:d}\".format(int(x.nobs)),\n",
    "                'Log-lik':lambda x: \"{:.2f}\".format(x.llf)\n",
    "        })\n"
   ]
  },
  {
   "cell_type": "code",
   "execution_count": null,
   "metadata": {},
   "outputs": [],
   "source": [
    "## Check Point: Based on analysis All Prection Variables (X) are statistically different of 0 (zero)\n",
    "##              considering a Confidence Index [CI] of 5% (ceteris paribus), therefore, can we assume \n",
    "##              that the POISSON model is the best to use ?\n",
    "##              \n",
    "##              Now we will check the OVERDISPERSION again to confirm and depending on the results, decide\n",
    "##              if we will have to go for a Negative Binomial Model [NB2]\n",
    "\n",
    "## OVERDISPESION CAMERON and TRIVEDI Test\n",
    "\n",
    "## Reference: \n",
    "##CAMERON, A. C.; TRIVEDI, P. K. Regression-based tests for overdispersion in\n",
    "##the Poisson model. Journal of Econometrics, v. 46, n. 3, p. 347-364, 1990.\n",
    "\n",
    "## Steps:\n",
    "## 1º : Estimate a POISSON Model (done in the steps before);\n",
    "## 2º : Create a new (Y) variable (Y*) using the fitted values of POISSON Model used before.\n",
    "## 3º : Estimate an auxiliary OLS Model, with the Y* dependent variable and without a INTERCEPT\n",
    "##      formula='ystar ~ 0 + lambda_poisson\n",
    "## 4º : Observe BETA parameter significance\n",
    "\n",
    "## Adding the lambda POISSON (lambda_poisson) to the original dataframe:\n",
    "df_corruption['lambda_poisson'] = modelo_poisson.fittedvalues\n",
    "df_corruption\n",
    "\n",
    "## Creating the Y* to the original dataframe. It will be called 'ystar':\n",
    "df_corruption['ystar'] = (((df_corruption['violations']\n",
    "                            -df_corruption['lambda_poisson'])**2)\n",
    "                          -df_corruption['violations'])/df_corruption['lambda_poisson']\n",
    "df_corruption\n",
    "\n",
    "## Estimating the auxiliary OLS, without INTERCEPT - see that the intercept is 0:\n",
    "modelo_auxiliar = smf.ols(formula='ystar ~ 0 + lambda_poisson',\n",
    "                          data=df_corruption).fit()\n",
    "\n",
    "## See the parameter os the Auxiliary OLS Model\n",
    "modelo_auxiliar.summary()\n",
    "\n",
    "## IMPORTANT\n",
    "##\n",
    "## EVALUATING THE RESULTS: If p-value of lambda_poisson parameter is lower than 0.05 (< 0.05)\n",
    "##                         indicated that the OVERDISPERSION exists, then the POISSON model may not have \n",
    "##                         the maximum Log-Lik which suggestes that he estimation of a Negative Binomial [NB2] model\n",
    "##                         will probably ofer a better maximization of the Log-Lik"
   ]
  },
  {
   "cell_type": "code",
   "execution_count": null,
   "metadata": {},
   "outputs": [],
   "source": [
    "## For didatic purposes, lets makes some estimations with POISSON Model.\n",
    "## What would be the expected amount of TRANSIT VIOLATIONS for a DIPLOMATIC STAFF with 23 people\n",
    "## consindering BEFORE the LAW ENFORCEMENT for a country with CORRUPTION INDEX = 0.5 ?\n",
    "\n",
    "modelo_poisson.predict(pd.DataFrame({'staff':[23],\n",
    "                                     'post':['no'],\n",
    "                                     'corruption':[0.5]}))\n"
   ]
  },
  {
   "cell_type": "code",
   "execution_count": null,
   "metadata": {},
   "outputs": [],
   "source": [
    "\n",
    "## Now lets check AFTER the LAW ENFORCEMENT\n",
    "\n",
    "modelo_poisson.predict(pd.DataFrame({'staff':[23],\n",
    "                                     'post':['yes'],\n",
    "                                     'corruption':[0.5]}))"
   ]
  },
  {
   "attachments": {},
   "cell_type": "markdown",
   "metadata": {},
   "source": [
    "## 4. NEGATIVE BINOMIAL MODEL [NB2]"
   ]
  },
  {
   "attachments": {},
   "cell_type": "markdown",
   "metadata": {},
   "source": [
    "### 4.1. NEGATIVE BINOMIAL DISTRIBUTION CONCEPTS"
   ]
  },
  {
   "cell_type": "code",
   "execution_count": null,
   "metadata": {},
   "outputs": [],
   "source": [
    "## BINOMIAL NEGATIVE [NB2] DISTRIBUTION CONCEPTUAL PART (ACADEMIC)\n",
    "\n",
    "## Creating a BINOMIAL NEGATIVE Distribution function based on determined values of THETA AND DELTA and for M data point.\n",
    "\n",
    "#theta: FORM parameter for Poisson-Gama (binomial negative)\n",
    "#delta: DECAY RATE parameter for Poisson-Gama (binomial negative)\n",
    "\n",
    "def bneg(theta, delta, m):\n",
    "    return ((delta ** theta) * (m ** (theta - 1)) * (exp(-m * delta))) / factorial(theta - 1)"
   ]
  },
  {
   "cell_type": "code",
   "execution_count": null,
   "metadata": {},
   "outputs": [],
   "source": [
    "## Preparing for plotting the different values of THETA and DELTA\n",
    "\n",
    "m = np.arange(1,21)\n",
    "\n",
    "bneg_theta2_delta2 = []\n",
    "bneg_theta3_delta1 = []\n",
    "bneg_theta3_delta05 = []\n",
    "\n",
    "for item in m:\n",
    "    ## theta=2 and delta=2\n",
    "    bneg_theta2_delta2.append(bneg(2,2,item))\n",
    "    ## theta=3 and delta=1\n",
    "    bneg_theta3_delta1.append(bneg(3,1,item))\n",
    "    ## theta=3 and delta=0.5\n",
    "    bneg_theta3_delta05.append(bneg(3,0.5,item))\n",
    "   \n",
    "# Creating a data frame variating from 1 to 20 and different values of theta and delta\n",
    "\n",
    "df_bneg = pd.DataFrame({'m':m,\n",
    "                        'bneg_theta2_delta2':bneg_theta2_delta2,\n",
    "                        'bneg_theta3_delta1':bneg_theta3_delta1,\n",
    "                        'bneg_theta3_delta05':bneg_theta3_delta05})\n",
    "\n",
    "df_bneg"
   ]
  },
  {
   "cell_type": "code",
   "execution_count": null,
   "metadata": {},
   "outputs": [],
   "source": [
    "## Plot the graph with diferent values of THETA and DELTA\n",
    "\n",
    "def smooth_line_plot(x,y):\n",
    "    x_new = np.linspace(x.min(), x.max(),500)\n",
    "    f = interp1d(x, y, kind='quadratic')\n",
    "    y_smooth=f(x_new)\n",
    "    return x_new, y_smooth\n",
    "\n",
    "x_new, bneg_theta2_delta2 = smooth_line_plot(df_bneg.m,\n",
    "                                             df_bneg.bneg_theta2_delta2)\n",
    "x_new, bneg_theta3_delta1 = smooth_line_plot(df_bneg.m,\n",
    "                                             df_bneg.bneg_theta3_delta1)\n",
    "x_new, bneg_theta3_delta05 = smooth_line_plot(df_bneg.m,\n",
    "                                              df_bneg.bneg_theta3_delta05)\n",
    "\n",
    "plt.figure(figsize=(7,5))\n",
    "plt.plot(x_new,bneg_theta2_delta2, linewidth=5, color='#440154FF')\n",
    "plt.plot(x_new,bneg_theta3_delta1, linewidth=5, color='#22A884FF')\n",
    "plt.plot(x_new,bneg_theta3_delta05, linewidth=5, color='#FDE725FF')\n",
    "plt.xlabel('m', fontsize=12)\n",
    "plt.ylabel('Probabilities', fontsize=12)\n",
    "plt.legend([r'$\\theta$ = 2 and $\\delta$ = 2',\n",
    "            r'$\\theta$ = 3 and $\\delta$ = 1',\n",
    "            r'$\\theta$ = 3 and $\\delta$ = 0.5'],\n",
    "           fontsize=12)\n",
    "plt.show"
   ]
  },
  {
   "attachments": {},
   "cell_type": "markdown",
   "metadata": {},
   "source": [
    "### 4.2. NEGATIVE BINOMIAL [NB2] REGRESSION MODEL ESTIMATION"
   ]
  },
  {
   "cell_type": "code",
   "execution_count": null,
   "metadata": {},
   "outputs": [],
   "source": [
    "## Estimating a Binomial Negative [NB2] Model\n",
    "\n",
    "## See the parameter 'family=sm.families.NegativeBinomial(alpha=2.0963)' of the function \n",
    "## 'smf.glm' that defines the estimation of a Binomial Negative Model Type NB2\n",
    "## with a 'fi' ('alpha' no Python) equal to 2.0963. 'fi' is the inverse of FORM Parameter TETHA\n",
    "## of Poisson-Gama Distribution (fi=1/theta)\n",
    "\n",
    "modelo_bneg = smf.glm(formula='violations ~ staff + post + corruption',\n",
    "                      data=df_corruption,\n",
    "                      family=sm.families.NegativeBinomial(alpha=2.0963)).fit()\n",
    "\n",
    "#Parâmetros do modelo\n",
    "modelo_bneg.summary()"
   ]
  },
  {
   "cell_type": "code",
   "execution_count": null,
   "metadata": {},
   "outputs": [],
   "source": [
    "## IMPORTANT : Defining the optimal aplha ('fi') that MAXIMIZES the Log-Lik\n",
    "\n",
    "n_samples = 10000\n",
    "alphas = np.linspace(0, 10, n_samples)\n",
    "llf = np.full(n_samples, fill_value=np.nan)\n",
    "for i, alpha in enumerate(alphas):\n",
    "    try:\n",
    "        model = smf.glm(formula = 'violations ~ staff + post + corruption',\n",
    "                        data=df_corruption,\n",
    "                        family=sm.families.NegativeBinomial(alpha=alpha)).fit()\n",
    "    except:\n",
    "        continue\n",
    "    llf[i] = model.llf\n",
    "alpha_otimo = alphas[np.nanargmax(llf)]\n",
    "alpha_otimo"
   ]
  },
  {
   "cell_type": "code",
   "execution_count": null,
   "metadata": {},
   "outputs": [],
   "source": [
    "## Plot the ALPHAs Simulation Results \n",
    "\n",
    "plt.plot(alphas, llf, label='Log-Likelihood')\n",
    "plt.axvline(x=alpha_otimo, color='#440154FF',\n",
    "            label=f'alpha: {alpha_otimo:0.5f}')\n",
    "plt.legend()"
   ]
  },
  {
   "cell_type": "code",
   "execution_count": null,
   "metadata": {},
   "outputs": [],
   "source": [
    "#### I M P O R T A N T ####\n",
    "\n",
    "## IMPORTANT: Reestimates the Negative Binomial Model with the optimal alpha ('alpha_otimo')\n",
    "\n",
    "modelo_bneg = smf.glm(formula='violations ~ staff + post + corruption',\n",
    "                      data=df_corruption,\n",
    "                      family=sm.families.NegativeBinomial(alpha=alpha_otimo)).fit()\n",
    "\n",
    "## See the Model Parameters \n",
    "modelo_bneg.summary()\n"
   ]
  },
  {
   "cell_type": "code",
   "execution_count": null,
   "metadata": {},
   "outputs": [],
   "source": [
    "## Compares the Models POISSON x NEGATIVE BINOMIAL (NB2)\n",
    "\n",
    "## Check Point: See that the Log-Lik of the NB2 model is better (higher) than the POISSON MODEL\n",
    "\n",
    "summary_col([modelo_poisson, modelo_bneg], \n",
    "            model_names=[\"Poisson\",\"BNeg\"],\n",
    "            stars=True,\n",
    "            info_dict = {\n",
    "                'N':lambda x: \"{0:d}\".format(int(x.nobs)),\n",
    "                'Log-lik':lambda x: \"{:.2f}\".format(x.llf),\n",
    "                'Pseudo-R2':lambda x: \"{:.4f}\".format(x.pseudo_rsquared()),\n",
    "        })"
   ]
  },
  {
   "cell_type": "code",
   "execution_count": null,
   "metadata": {},
   "outputs": [],
   "source": [
    "## Log-Lik Ratio Test - expectec a p-value < 0.05 \n",
    "## Comparing Significance of Poisson x BNEG\n",
    "\n",
    "lrtest([modelo_poisson, modelo_bneg])"
   ]
  },
  {
   "cell_type": "code",
   "execution_count": null,
   "metadata": {},
   "outputs": [],
   "source": [
    "## Graphic comparing the POISSON and NB2 Log-Liks\n",
    "## See that NB2 has a better performance (higher Log-Lik)\n",
    "\n",
    "## Define a Datafram with the Log-Liks for each model\n",
    "df_llf = pd.DataFrame({'modelo':['Poisson','BNeg'],\n",
    "                      'loglik':[modelo_poisson.llf, modelo_bneg.llf]})\n",
    "df_llf\n",
    "\n",
    "## Plot\n",
    "fig, ax = plt.subplots(figsize=(7,5))\n",
    "\n",
    "c = ['#440154FF', '#22A884FF']\n",
    "\n",
    "ax1 = ax.barh(df_llf.modelo, df_llf.loglik, color = c)\n",
    "ax.bar_label(ax1, label_type='center', color='white', fontsize=12)\n",
    "ax.set_ylabel(\"Estimation\", fontsize=10)\n",
    "ax.set_xlabel(\"Log-Likehood\", fontsize=10)"
   ]
  },
  {
   "cell_type": "code",
   "execution_count": null,
   "metadata": {},
   "outputs": [],
   "source": [
    "## Comparing Prevision NB2 x POISSON\n",
    "\n",
    "## What would be the expected amount of TRANSIT VIOLATIONS for a DIPLOMATIC STAFF with 23 people\n",
    "## consindering BEFORE the LAW ENFORCEMENT for a country with CORRUPTION INDEX = 0.5 ?\n",
    "\n",
    "\n",
    "## Model Poisson:\n",
    "modelo_poisson.predict(pd.DataFrame({'staff':[23],\n",
    "                                     'post':['no'],\n",
    "                                     'corruption':[0.5]}))\n",
    "\n"
   ]
  },
  {
   "cell_type": "code",
   "execution_count": null,
   "metadata": {},
   "outputs": [],
   "source": [
    "## Model NB2:\n",
    "modelo_bneg.predict(pd.DataFrame({'staff':[23],\n",
    "                                     'post':['no'],\n",
    "                                     'corruption':[0.5]}))"
   ]
  },
  {
   "cell_type": "code",
   "execution_count": null,
   "metadata": {},
   "outputs": [],
   "source": [
    "\n",
    "## Now lets check AFTER the LAW ENFORCEMENT\n",
    "\n",
    "## Model Poisson:\n",
    "modelo_poisson.predict(pd.DataFrame({'staff':[23],\n",
    "                                     'post':['yes'],\n",
    "                                     'corruption':[0.5]}))"
   ]
  },
  {
   "cell_type": "code",
   "execution_count": null,
   "metadata": {},
   "outputs": [],
   "source": [
    "## Model NB2\n",
    "modelo_bneg.predict(pd.DataFrame({'staff':[23],\n",
    "                                     'post':['yes'],\n",
    "                                     'corruption':[0.5]}))"
   ]
  },
  {
   "cell_type": "code",
   "execution_count": null,
   "metadata": {},
   "outputs": [],
   "source": [
    "## Addint POISSON and NB2 Fitted Values to the Original Dataset \n",
    "\n",
    "df_corruption['fitted_poisson'] = modelo_poisson.fittedvalues\n",
    "df_corruption['fitted_bneg'] = modelo_bneg.fittedvalues\n",
    "\n",
    "df_corruption"
   ]
  },
  {
   "cell_type": "code",
   "execution_count": null,
   "metadata": {},
   "outputs": [],
   "source": [
    "## Plot a comparission of POISSON x NB2 by STAFF (X) x VIOLATIONS (Y)\n",
    "\n",
    "plt.figure(figsize=(3,3))\n",
    "sns.relplot(data=df_corruption, x='staff', y='violations', color='black', height=8)\n",
    "sns.regplot(data=df_corruption, x='staff', y='fitted_poisson', order=3,\n",
    "            color='#440154FF')\n",
    "sns.regplot(data=df_corruption, x='staff', y='fitted_bneg', order=3,\n",
    "            color='#22A884FF')\n",
    "plt.xlabel('Number of Diplomats (staff)', fontsize=12)\n",
    "plt.ylabel('Unpaid Parking Violations (violations)', fontsize=12)\n",
    "plt.legend(['Observed', 'Poisson', 'Fit Poisson', 'CI Poisson',\n",
    "            'BNeg', 'Fit BNeg', 'CI BNeg'],\n",
    "           fontsize=12)\n",
    "plt.show"
   ]
  },
  {
   "attachments": {},
   "cell_type": "markdown",
   "metadata": {},
   "source": [
    "## 5. ZERO-INFLATED POISSON MODEL [ZIP]"
   ]
  },
  {
   "attachments": {},
   "cell_type": "markdown",
   "metadata": {},
   "source": [
    "### 5.1. ZERO-INFLATED POISSON DISTRIBUTION CONCEPTS"
   ]
  },
  {
   "cell_type": "code",
   "execution_count": null,
   "metadata": {},
   "outputs": [],
   "source": [
    "## ZERO-INFLATED POISSON DISTRIBUTION CONCEPTS \n",
    "\n",
    "## Reference: \n",
    "## LAMBERT, D. Zero-inflated Poisson regression, with an application to defects\n",
    "## in manufacturing. Technometrics, v. 34, n. 1, p. 1-14, 1992.\n",
    "\n",
    "## Creates a function for ZIP , with lambda=1 and plogit=0,7\n",
    "def zip_lambda1_plogit07(m):\n",
    "    lmbda = 1\n",
    "    plogit = 0.7\n",
    "    \n",
    "    if m == 0:\n",
    "        return (plogit) + ((1 - plogit) * exp(-lmbda))\n",
    "    else:\n",
    "        return (1 - plogit) * ((exp(-lmbda) * lmbda ** m) / factorial(m))"
   ]
  },
  {
   "cell_type": "code",
   "execution_count": null,
   "metadata": {},
   "outputs": [],
   "source": [
    "## Prepare the data for plotting\n",
    "\n",
    "m = np.arange(0,21)\n",
    "\n",
    "zip_lambda1_plogit07 = [zip_lambda1_plogit07(i) for i in m]\n",
    "\n",
    "## Creates a dataframe with 'm' from 0 to 20\n",
    "\n",
    "df_zip = pd.DataFrame({'m':m,\n",
    "                       'zip_lambda1_plogit07':zip_lambda1_plogit07})\n",
    "df_zip"
   ]
  },
  {
   "cell_type": "code",
   "execution_count": null,
   "metadata": {},
   "outputs": [],
   "source": [
    "## Plotting ZIP Distribution \n",
    "\n",
    "def smooth_line_plot(x,y):\n",
    "    x_new = np.linspace(x.min(), x.max(),500)\n",
    "    f = interp1d(x, y, kind='quadratic')\n",
    "    y_smooth=f(x_new)\n",
    "    return x_new, y_smooth\n",
    "\n",
    "x_new, zip_lambda1_plogit07 = smooth_line_plot(df_zip.m,\n",
    "                                               df_zip.zip_lambda1_plogit07)\n",
    "\n",
    "plt.figure(figsize=(7,5))\n",
    "plt.plot(x_new,zip_lambda1_plogit07, linewidth=7, color=\"#440154FF\")\n",
    "plt.xlabel('m', fontsize=12)\n",
    "plt.ylabel('Probabilities', fontsize=12)\n",
    "plt.legend([r'ZIP: $\\lambda$ = 1 and plogit = 0.7'],\n",
    "           fontsize=12)\n",
    "plt.show\n"
   ]
  },
  {
   "attachments": {},
   "cell_type": "markdown",
   "metadata": {},
   "source": [
    "### 5.2. ZERO-INFLATED POISSON MODEL ESTIMATION"
   ]
  },
  {
   "cell_type": "code",
   "execution_count": null,
   "metadata": {},
   "outputs": [],
   "source": [
    "## Estimating ZIP Model\n",
    "\n",
    "## Defining the dependent variable (Y) that is 'violations' (dataset 'df_corruption')\n",
    "y = df_corruption.violations\n",
    "\n",
    "## Defining the prediction variables (Xs)\n",
    "x1 = df_corruption[['staff','post','corruption']]\n",
    "X1 = sm.add_constant(x1)\n",
    "\n",
    "## Defining the prediction variables that will be part of LOGIT (inflated) componente. \n",
    "x2 = df_corruption[['corruption']]\n",
    "X2 = sm.add_constant(x2)\n",
    "\n",
    "## For this model it is required to make the categorical variables a DUMMY. \n",
    "## Dummization for 'post' variable.\n",
    "X1 = pd.get_dummies(X1, columns=['post'], drop_first=True)\n",
    "\n",
    "## Impostant - Need to convert to float, else an it will throw an error in the fit function.\n",
    "X1 = X1.astype(float) \n",
    "\n",
    "## Makes the ZIP Model using the ZeroInflatedPoisson from package 'Statsmodels'\n",
    "## Argument: 'exog_infl' are the variables to consider in the LOGIT (Inflated)\n",
    "\n",
    "modelo_zip = sm.ZeroInflatedPoisson(y, X1, exog_infl=X2,\n",
    "                                     inflation='logit').fit()\n",
    "\n",
    "## See the Model Parameters\n",
    "modelo_zip.summary()"
   ]
  },
  {
   "cell_type": "code",
   "execution_count": null,
   "metadata": {},
   "outputs": [],
   "source": [
    "## Plot a Graph to Compare Predicted Transit Violations x Real Transit Violations\n",
    "## Using the fitted ZIP Model \n",
    "\n",
    "## Observations: See that naturaly the ZIP Model removes the outliers\n",
    "\n",
    "zip_predictions = modelo_zip.predict(X1, exog_infl=X2)\n",
    "predicted_counts = np.round(zip_predictions)\n",
    "actual_counts = df_corruption['violations']\n",
    "\n",
    "plt.figure(figsize=(10,5))\n",
    "plt.plot(df_corruption.index, predicted_counts, 'go-',\n",
    "         color='orange')\n",
    "plt.plot(df_corruption.index, actual_counts, 'go-',\n",
    "         color='#440154FF')\n",
    "plt.xlabel('Observation', fontsize=12)\n",
    "plt.ylabel('Transit Violations', fontsize=12)\n",
    "plt.legend(['Predicted by ZIP', 'Real from Dataset'],\n",
    "           fontsize=12)\n",
    "plt.show()"
   ]
  },
  {
   "cell_type": "code",
   "execution_count": null,
   "metadata": {},
   "outputs": [],
   "source": [
    "## Comparing the models performance POISSON x ZIP\n",
    "## POISSON is always compared against ZIP\n",
    "\n",
    "## Check Point: See that the Log-Lik for ZIP Model is better (higher than) the POISSON\n",
    "\n",
    "summary_col([modelo_poisson, modelo_zip], \n",
    "            model_names=[\"Poisson\",\"ZIP\"],\n",
    "            stars=True,\n",
    "            info_dict = {\n",
    "                'N':lambda x: \"{0:d}\".format(int(x.nobs)),\n",
    "                'Log-lik':lambda x: \"{:.2f}\".format(x.llf),\n",
    "                'Pseudo-R2':lambda x: \"{:.4f}\".format(x.pseudo_rsquared()),\n",
    "        })"
   ]
  },
  {
   "cell_type": "code",
   "execution_count": null,
   "metadata": {},
   "outputs": [],
   "source": [
    "## LR - likelihood ratio test to compared the models Log-Lik\n",
    "## Comopare ZIP x POISSON Log-Liks. Expected p-value < 0.05 to confirm it is a Zero Inflated\n",
    "\n",
    "lrtest([modelo_poisson, modelo_zip])"
   ]
  },
  {
   "cell_type": "code",
   "execution_count": null,
   "metadata": {},
   "outputs": [],
   "source": [
    "## Plot a Graph to compare the Log-Liks Poisson, BNeg e ZIP\n",
    "## See that the BNEG model still have better performant (higher Log-Lik) and the reason is\n",
    "## associated to the fact that we have a distribution with EXCESS OF ZEROS, which\n",
    "## sugested we may try a Zero-Inflated Negative Binomial Model (ZINB) that certainly \n",
    "## will offer a better Log-Lik.\n",
    "\n",
    "##Defining a dataframe with the respective LL\n",
    "\n",
    "df_llf = pd.DataFrame({'modelo':['Poisson','ZIP','BNeg'],\n",
    "                      'loglik':[modelo_poisson.llf,\n",
    "                                modelo_zip.llf,\n",
    "                                modelo_bneg.llf]})\n",
    "\n",
    "## Plotting \n",
    "fig, ax = plt.subplots(figsize=(7,5))\n",
    "\n",
    "c = [\"#440154FF\", \"#453781FF\", \"#22A884FF\"]\n",
    "\n",
    "ax1 = ax.barh(df_llf.modelo, df_llf.loglik, color = c)\n",
    "ax.bar_label(ax1, label_type='center', color='white', fontsize=14)\n",
    "ax.set_ylabel(\"Estimation\", fontsize=12)\n",
    "ax.set_xlabel(\"Log-Likehood\", fontsize=12)"
   ]
  },
  {
   "cell_type": "code",
   "execution_count": null,
   "metadata": {},
   "outputs": [],
   "source": [
    "## Comparing Prevision POISSON, NB2, ZIP\n",
    "\n",
    "## What would be the expected amount of TRANSIT VIOLATIONS for a DIPLOMATIC STAFF with 23 people\n",
    "## consindering BEFORE the LAW ENFORCEMENT for a country with CORRUPTION INDEX = 0.5 ?\n",
    "\n",
    "\n",
    "## Model Poisson:\n",
    "modelo_poisson.predict(pd.DataFrame({'staff':[23],\n",
    "                                     'post':['no'],\n",
    "                                     'corruption':[0.5]}))"
   ]
  },
  {
   "cell_type": "code",
   "execution_count": null,
   "metadata": {},
   "outputs": [],
   "source": [
    "## Model NB2:\n",
    "modelo_bneg.predict(pd.DataFrame({'staff':[23],\n",
    "                                  'post':['no'],\n",
    "                                  'corruption':[0.5]}))"
   ]
  },
  {
   "cell_type": "code",
   "execution_count": null,
   "metadata": {},
   "outputs": [],
   "source": [
    "## Model ZIP\n",
    "## IMPORTANT - Must keep the same parameter order used in the FIT function\n",
    "modelo_zip.params\n",
    "\n",
    "modelo_zip.predict(pd.DataFrame({'const':[1],\n",
    "                                 'staff':[23],\n",
    "                                 'corruption':[0.5],\n",
    "                                 'post_yes':[0]}),\n",
    "                   exog_infl=pd.DataFrame({'const':[1],\n",
    "                                           'corruption':[0.5]}))"
   ]
  },
  {
   "cell_type": "code",
   "execution_count": null,
   "metadata": {},
   "outputs": [],
   "source": [
    "## Now lets check AFTER the LAW ENFORCEMENT\n",
    "\n",
    "## Model Poisson:\n",
    "modelo_poisson.predict(pd.DataFrame({'staff':[23],\n",
    "                                     'post':['yes'],\n",
    "                                     'corruption':[0.5]}))"
   ]
  },
  {
   "cell_type": "code",
   "execution_count": null,
   "metadata": {},
   "outputs": [],
   "source": [
    "## Model NB2:\n",
    "modelo_bneg.predict(pd.DataFrame({'staff':[23],\n",
    "                                  'post':['yes'],\n",
    "                                  'corruption':[0.5]}))"
   ]
  },
  {
   "cell_type": "code",
   "execution_count": null,
   "metadata": {},
   "outputs": [],
   "source": [
    "## Modelo ZIP:\n",
    "modelo_zip.predict(pd.DataFrame({'const':[1],\n",
    "                                 'staff':[23],\n",
    "                                 'corruption':[0.5],\n",
    "                                 'post_yes':[1]}),\n",
    "                   exog_infl=pd.DataFrame({'const':[1],\n",
    "                                           'corruption':[0.5]}))\n"
   ]
  },
  {
   "attachments": {},
   "cell_type": "markdown",
   "metadata": {},
   "source": [
    "## 6. ZERO-INFLATED NEGATIVE BINOMIAL [ZINB]"
   ]
  },
  {
   "attachments": {},
   "cell_type": "markdown",
   "metadata": {},
   "source": [
    "### 6.1. ZERO-INFLATED NEGATIVE BINOMIAL DISTRIBUTION CONCEPTS"
   ]
  },
  {
   "cell_type": "code",
   "execution_count": null,
   "metadata": {},
   "outputs": [],
   "source": [
    "## ZINB DISTRIBUTION CONCEPT\n",
    "\n",
    "## Function for ZINB Distributuion, withtheta = 2,\n",
    "## delta = 2, plogit = 0.7 and lambda_bneg = 2\n",
    "\n",
    "def zinb_theta2_delta2_plogit07_lambda2(m):\n",
    "    lambda_bneg = 1\n",
    "    plogit = 0.7\n",
    "    theta = 2\n",
    "    delta = 2\n",
    "    if m == 0:\n",
    "        return (plogit) + ((1 - plogit) *\n",
    "                           (((1) / (1 + 1/theta * lambda_bneg)) ** theta))\n",
    "    else:\n",
    "        return (1 - plogit) * ((delta ** theta) * (m ** (theta - 1)) *\n",
    "                               (exp(-m * delta))) / factorial(theta - 1)"
   ]
  },
  {
   "cell_type": "code",
   "execution_count": null,
   "metadata": {},
   "outputs": [],
   "source": [
    "## Prepare the data to plot ZINB Distribution\n",
    "\n",
    "m = np.arange(0,21)\n",
    "\n",
    "zinb_theta2_delta2_plogit07_lambda2 = [zinb_theta2_delta2_plogit07_lambda2(i)\n",
    "                                       for i in m]\n",
    "\n",
    "#Criando um dataframe com m variando de 0 a 20\n",
    "\n",
    "df_zinb = pd.DataFrame({'m':m,\n",
    "                       'zinb_theta2_delta2_plogit07_lambda2':zinb_theta2_delta2_plogit07_lambda2})\n",
    "df_zinb\n"
   ]
  },
  {
   "cell_type": "code",
   "execution_count": null,
   "metadata": {},
   "outputs": [],
   "source": [
    "## Plot the ZINB Distribution\n",
    "\n",
    "def smooth_line_plot(x,y):\n",
    "    x_new = np.linspace(x.min(), x.max(),500)\n",
    "    f = interp1d(x, y, kind='quadratic')\n",
    "    y_smooth=f(x_new)\n",
    "    return x_new, y_smooth\n",
    "\n",
    "x_new, zinb_theta2_delta2_plogit07_lambda2 = smooth_line_plot(df_zinb.m,\n",
    "                                                              df_zinb.zinb_theta2_delta2_plogit07_lambda2)\n",
    "\n",
    "plt.figure(figsize=(7,5))\n",
    "plt.plot(x_new,zinb_theta2_delta2_plogit07_lambda2, linewidth=7, color=\"red\")\n",
    "plt.xlabel('m', fontsize=10)\n",
    "plt.ylabel('Probabilities', fontsize=10)\n",
    "plt.legend([r'ZINB: $\\lambda$$_{bneg}$ = 1, plogit = 0.7, $\\theta$ = 2 and $\\delta$ = 2'],\n",
    "           fontsize=10)\n",
    "plt.show"
   ]
  },
  {
   "cell_type": "code",
   "execution_count": null,
   "metadata": {},
   "outputs": [],
   "source": [
    "#### NICE TO SEE ####\n",
    "\n",
    "### PLOT A DISTRIBUTION COMPARISION BETWEEN: POISSON, BNEG, ZIP AND ZINB\n",
    "\n",
    "def smooth_line_plot(x,y):\n",
    "    x_new = np.linspace(x.min(), x.max(),500)\n",
    "    f = interp1d(x, y, kind='quadratic')\n",
    "    y_smooth=f(x_new)\n",
    "    return x_new, y_smooth\n",
    "\n",
    "x_new, zinb_theta2_delta2_plogit07_lambda2 = smooth_line_plot(df_zinb.m,\n",
    "                                                              df_zinb.zinb_theta2_delta2_plogit07_lambda2)\n",
    "\n",
    "plt.figure(figsize=(15,10))\n",
    "plt.plot(x_new,lambda_1, linewidth=3, color='#404688FF')\n",
    "plt.plot(x_new,lambda_2, linewidth=3, color='#2C728EFF')\n",
    "plt.plot(x_new,lambda_4, linewidth=3, color='#20A486FF')\n",
    "plt.plot(x_new,bneg_theta2_delta2, linewidth=3, color='#75D054FF')\n",
    "plt.plot(x_new,bneg_theta3_delta1, linewidth=3, color='#C7E020FF')\n",
    "plt.plot(x_new,bneg_theta3_delta05, linewidth=3, color='#FDE725FF')\n",
    "plt.plot(x_new,zip_lambda1_plogit07, linewidth=5, color=\"#440154FF\")\n",
    "plt.plot(x_new,zinb_theta2_delta2_plogit07_lambda2, linewidth=7, color=\"red\")\n",
    "plt.xlabel('m', fontsize=10)\n",
    "plt.ylabel('Probabilities', fontsize=10)\n",
    "plt.legend([r'Poisson: $\\lambda$ = 1',\n",
    "            r'Poisson: $\\lambda$ = 2',\n",
    "            r'Poisson: $\\lambda$ = 4',\n",
    "            r'BNeg: $\\theta$ = 2 and $\\delta$ = 2',\n",
    "            r'BNeg: $\\theta$ = 3 and $\\delta$ = 1',\n",
    "            r'BNeg: $\\theta$ = 3 and $\\delta$ = 0.5',\n",
    "            r'ZIP: $\\lambda$ = 1 and plogit = 0.7',\n",
    "            r'ZINB: $\\lambda$$_{bneg}$ = 1, plogit = 0.7, $\\theta$ = 2 and $\\delta$ = 2'],\n",
    "           fontsize=12)\n",
    "plt.show"
   ]
  },
  {
   "attachments": {},
   "cell_type": "markdown",
   "metadata": {},
   "source": [
    "### 6.2. ZERO-INFLATED NEGATIVE BINOMIAL MODEL ESTIMATION"
   ]
  },
  {
   "cell_type": "code",
   "execution_count": null,
   "metadata": {},
   "outputs": [],
   "source": [
    "## Estimating ZINB Model\n",
    "\n",
    "## Defining the dependent variable (Y) that is 'violations' (dataset 'df_corruption')\n",
    "y = df_corruption.violations\n",
    "\n",
    "## Defining the prediction variables (Xs)\n",
    "x1 = df_corruption[['staff','post','corruption']]\n",
    "X1 = sm.add_constant(x1)\n",
    "\n",
    "## Defining the prediction variables that will be part of LOGIT (inflated) componente. \n",
    "x2 = df_corruption[['corruption']]\n",
    "X2 = sm.add_constant(x2)\n",
    "\n",
    "## For this model it is required to make the categorical variables a DUMMY. \n",
    "## Dummization for 'post' variable.\n",
    "X1 = pd.get_dummies(X1, columns=['post'], drop_first=True)\n",
    "\n",
    "## Impostant - Need to convert to float, else an it will throw an error in the fit function.\n",
    "X1 = X1.astype(float) \n",
    "\n",
    "## Makes the ZIP Model using the ZeroInflatedPoisson from package 'Statsmodels'\n",
    "## Argument: 'exog_infl' are the variables to consider in the LOGIT (Inflated)\n",
    "\n",
    "modelo_zinb = sm.ZeroInflatedNegativeBinomialP(y, X1, exog_infl=X2,\n",
    "                                     inflation='logit').fit()\n",
    "\n",
    "## See the Model Parameters\n",
    "modelo_zinb.summary()"
   ]
  },
  {
   "cell_type": "code",
   "execution_count": null,
   "metadata": {},
   "outputs": [],
   "source": [
    "## Plot a graph to compare the ZINB Estimated Transit Violations x the Real\n",
    "## Transit Violation in the Original Dataset\n",
    "\n",
    "## Checkpoint: See that the ZINB has a higher Log-Lik, so it will be the best model.\n",
    "\n",
    "zinb_predictions = modelo_zinb.predict(X1, exog_infl=X2)\n",
    "predicted_counts = np.round(zinb_predictions)\n",
    "actual_counts = df_corruption['violations']\n",
    "\n",
    "plt.figure(figsize=(9,7))\n",
    "plt.plot(df_corruption.index, predicted_counts, 'go-',\n",
    "         color='orange')\n",
    "plt.plot(df_corruption.index, actual_counts, 'go-',\n",
    "         color='#440154FF')\n",
    "plt.xlabel('Observation', fontsize=10)\n",
    "plt.ylabel('Real Transit Violations', fontsize=10)\n",
    "plt.legend(['Estimated Transit Violation with ZINB', 'Real Transit Violations from Dataset'],\n",
    "           fontsize=10)\n",
    "plt.show()"
   ]
  },
  {
   "cell_type": "code",
   "execution_count": null,
   "metadata": {},
   "outputs": [],
   "source": [
    "## Comparing Models BNeg e ZINB\n",
    "## BNEG is always compared against ZINB\n",
    "\n",
    "summary_col([modelo_bneg, modelo_zinb], \n",
    "            model_names=[\"BNeg\",\"ZINB\"],\n",
    "            stars=True,\n",
    "            info_dict = {\n",
    "                'N':lambda x: \"{0:d}\".format(int(x.nobs)),\n",
    "                'Log-lik':lambda x: \"{:.2f}\".format(x.llf),\n",
    "                'Pseudo-R2':lambda x: \"{:.4f}\".format(x.pseudo_rsquared()),\n",
    "        })"
   ]
  },
  {
   "cell_type": "code",
   "execution_count": null,
   "metadata": {},
   "outputs": [],
   "source": [
    "## Verify the Lok-Lik Ratio (BNEG x ZINB)\n",
    "## Expetected a p-value < 0.05 - Confirmation it is a Zero Inflated\n",
    "\n",
    "lrtest([modelo_bneg, modelo_zinb])"
   ]
  },
  {
   "cell_type": "code",
   "execution_count": null,
   "metadata": {},
   "outputs": [],
   "source": [
    "## Graph comparing All Models Lok-liks\n",
    "\n",
    "## CHECK POINT : See that the ZINB Model has the higher Log-lik (close to 0), this indicates that this \n",
    "##               model offers the best performance and the BETAs + additional parameters will offer\n",
    "##               good values for exploratory analysis and prediction. \n",
    "\n",
    "## Define a dataframe with all LLs\n",
    "df_llf = pd.DataFrame({'modelo':['Poisson','ZIP','BNeg','ZINB'],\n",
    "                      'loglik':[modelo_poisson.llf,\n",
    "                                modelo_zip.llf,\n",
    "                                modelo_bneg.llf,\n",
    "                                modelo_zinb.llf]})\n",
    "df_llf\n",
    "\n",
    "## Plot the Lok-liks for each Model\n",
    "\n",
    "fig, ax = plt.subplots(figsize=(7,5))\n",
    "\n",
    "c = [\"#440154FF\", \"#453781FF\", \"#22A884FF\", \"orange\"]\n",
    "\n",
    "ax1 = ax.barh(df_llf.modelo, df_llf.loglik, color = c)\n",
    "ax.bar_label(ax1, label_type='center', color='white', fontsize=12)\n",
    "ax.set_ylabel(\"Estimation\", fontsize=10)\n",
    "ax.set_xlabel(\"Log-Likehood\", fontsize=10)"
   ]
  },
  {
   "cell_type": "code",
   "execution_count": null,
   "metadata": {},
   "outputs": [],
   "source": [
    "## Comparing Previsions POISSON, NB2, ZIP, ZINB\n",
    "\n",
    "## What would be the expected amount of TRANSIT VIOLATIONS for a DIPLOMATIC STAFF with 23 people\n",
    "## consindering BEFORE the LAW ENFORCEMENT for a country with CORRUPTION INDEX = 0.5 ?\n",
    "\n",
    "\n",
    "## Model Poisson:\n",
    "modelo_poisson.predict(pd.DataFrame({'staff':[23],\n",
    "                                     'post':['no'],\n",
    "                                     'corruption':[0.5]}))"
   ]
  },
  {
   "cell_type": "code",
   "execution_count": null,
   "metadata": {},
   "outputs": [],
   "source": [
    "## Model NB2\n",
    "modelo_bneg.predict(pd.DataFrame({'staff':[23],\n",
    "                                  'post':['no'],\n",
    "                                  'corruption':[0.5]}))"
   ]
  },
  {
   "cell_type": "code",
   "execution_count": null,
   "metadata": {},
   "outputs": [],
   "source": [
    "## Model ZIP\n",
    "## Obs: Keep the same parameter order used in the ZIP Model FIT\n",
    "modelo_zip.params\n",
    "\n",
    "modelo_zip.predict(pd.DataFrame({'const':[1],\n",
    "                                 'staff':[23],\n",
    "                                 'corruption':[0.5],\n",
    "                                 'post_yes':[0]}),\n",
    "                   exog_infl=pd.DataFrame({'const':[1],\n",
    "                                           'corruption':[0.5]}))"
   ]
  },
  {
   "cell_type": "code",
   "execution_count": null,
   "metadata": {},
   "outputs": [],
   "source": [
    "## Modelo ZINB:\n",
    "## Obs: Keep the same parameter order used in the ZINB Model FIT\n",
    "modelo_zinb.params\n",
    "\n",
    "modelo_zinb.predict(pd.DataFrame({'const':[1],\n",
    "                                  'staff':[23],\n",
    "                                  'corruption':[0.5],\n",
    "                                  'post_yes':[0]}),\n",
    "                    exog_infl=pd.DataFrame({'const':[1],\n",
    "                                            'corruption':[0.5]}))"
   ]
  },
  {
   "cell_type": "code",
   "execution_count": null,
   "metadata": {},
   "outputs": [],
   "source": [
    "## Now lets check AFTER the LAW ENFORCEMENT\n",
    "\n",
    "## Model Poisson\n",
    "modelo_poisson.predict(pd.DataFrame({'staff':[23],\n",
    "                                     'post':['yes'],\n",
    "                                     'corruption':[0.5]}))"
   ]
  },
  {
   "cell_type": "code",
   "execution_count": null,
   "metadata": {},
   "outputs": [],
   "source": [
    "## Model NB2:\n",
    "modelo_bneg.predict(pd.DataFrame({'staff':[23],\n",
    "                                  'post':['yes'],\n",
    "                                  'corruption':[0.5]}))"
   ]
  },
  {
   "cell_type": "code",
   "execution_count": null,
   "metadata": {},
   "outputs": [],
   "source": [
    "## Model ZIP:\n",
    "modelo_zip.predict(pd.DataFrame({'const':[1],\n",
    "                                 'staff':[23],\n",
    "                                 'corruption':[0.5],\n",
    "                                 'post_yes':[1]}),\n",
    "                   exog_infl=pd.DataFrame({'const':[1],\n",
    "                                           'corruption':[0.5]}))"
   ]
  },
  {
   "cell_type": "code",
   "execution_count": null,
   "metadata": {},
   "outputs": [],
   "source": [
    "## Model ZINB\n",
    "modelo_zinb.predict(pd.DataFrame({'const':[1],\n",
    "                                  'staff':[23],\n",
    "                                  'corruption':[0.5],\n",
    "                                  'post_yes':[1]}),\n",
    "                    exog_infl=pd.DataFrame({'const':[1],\n",
    "                                            'corruption':[0.5]}))"
   ]
  },
  {
   "cell_type": "code",
   "execution_count": null,
   "metadata": {},
   "outputs": [],
   "source": [
    "## Add ZIP and ZINB Fitted Values to the Original Dataset\n",
    "\n",
    "df_corruption['fitted_zip'] = modelo_zip.predict(X1, exog_infl=X2)\n",
    "df_corruption['fitted_zinb'] = modelo_zinb.predict(X1, exog_infl=X2)\n",
    "df_corruption"
   ]
  },
  {
   "cell_type": "code",
   "execution_count": null,
   "metadata": {},
   "outputs": [],
   "source": [
    "## Plot a Graph with the fitted values for all models (POISSON, BNEG, ZIP e ZINB)\n",
    "## considering 'violations' on Y axis, in function of 'staff'on X axis, and show the CI intervalc\n",
    "\n",
    "plt.figure(figsize=(20,10))\n",
    "sns.relplot(data=df_corruption, x='staff', y='violations', color='black', height=8)\n",
    "sns.regplot(data=df_corruption, x='staff', y='fitted_poisson', order=3,\n",
    "            color='#440154FF')\n",
    "sns.regplot(data=df_corruption, x='staff', y='fitted_bneg', order=3,\n",
    "            color='#22A884FF')\n",
    "sns.regplot(data=df_corruption, x='staff', y='fitted_zip', order=3,\n",
    "            color='#453781FF')\n",
    "sns.regplot(data=df_corruption, x='staff', y='fitted_zinb', order=3,\n",
    "            color='orange')\n",
    "plt.xlabel('Number of Diplomats (staff)', fontsize=12)\n",
    "plt.ylabel('Unpaid Parking Violations (violations)', fontsize=12)\n",
    "plt.legend(['Observed', 'Poisson', 'Fit Poisson', 'CI Poisson',\n",
    "            'BNeg', 'Fit BNeg', 'CI BNeg',\n",
    "            'ZIP', 'Fit ZIP', 'CI ZIP',\n",
    "            'ZINB', 'Fit ZINB', 'CI ZINB'],\n",
    "           fontsize=10)\n",
    "plt.show"
   ]
  },
  {
   "cell_type": "code",
   "execution_count": null,
   "metadata": {},
   "outputs": [],
   "source": [
    "## Visualize the dataset with Fitted Values\n",
    "\n",
    "df_corruption"
   ]
  },
  {
   "cell_type": "code",
   "execution_count": null,
   "metadata": {},
   "outputs": [],
   "source": [
    "## Save the Dataset with Fitted Values to Excel\n",
    "\n",
    "df_corruption.to_excel('corruption_fitted.xlsx', index=False)"
   ]
  },
  {
   "cell_type": "code",
   "execution_count": null,
   "metadata": {},
   "outputs": [],
   "source": [
    "### END OF THE SCRIPT ###"
   ]
  },
  {
   "attachments": {},
   "cell_type": "markdown",
   "metadata": {},
   "source": [
    "## 7. Conclusion\n",
    "\n",
    "This exercise was made for didatic purposes, so it shows in a evolutive way, how the Lok-Lik increases by\n",
    "selection the proper distribution model. \n",
    "\n",
    "The final conclusion is that based on the distribution of the dependent variable (Y), the ZINB models offers a \n",
    "better fit and provided the Max Log-Lik. "
   ]
  }
 ],
 "metadata": {
  "kernelspec": {
   "display_name": "Python 3",
   "language": "python",
   "name": "python3"
  },
  "language_info": {
   "codemirror_mode": {
    "name": "ipython",
    "version": 3
   },
   "file_extension": ".py",
   "mimetype": "text/x-python",
   "name": "python",
   "nbconvert_exporter": "python",
   "pygments_lexer": "ipython3",
   "version": "3.11.4"
  },
  "orig_nbformat": 4
 },
 "nbformat": 4,
 "nbformat_minor": 2
}
