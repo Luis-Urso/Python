{
 "cells": [
  {
   "cell_type": "code",
   "execution_count": 3,
   "metadata": {},
   "outputs": [],
   "source": [
    "import requests\n",
    "from requests.auth import HTTPBasicAuth\n",
    "  \n",
    "# Making a get request using HTTP Basic Authentication \n",
    "\n",
    "response = requests.get('https://soag-z1-d.am.lilly.com:8443/rest/edb_csad-org/v1.0/WorkdayOrganizations', auth = HTTPBasicAuth('<usr>, '<pwd>'))"
   ]
  },
  {
   "cell_type": "code",
   "execution_count": 4,
   "metadata": {},
   "outputs": [],
   "source": [
    "data = response.json()"
   ]
  },
  {
   "cell_type": "code",
   "execution_count": 6,
   "metadata": {},
   "outputs": [
    {
     "name": "stdout",
     "output_type": "stream",
     "text": [
      "['00001000', '02C/SOX/GA', '00002315', 2147853]\n"
     ]
    }
   ],
   "source": [
    "print(data['returnValue']['rows'][0]['data'][0:4])"
   ]
  }
 ],
 "metadata": {
  "kernelspec": {
   "display_name": "Python 3.10.8 64-bit (microsoft store)",
   "language": "python",
   "name": "python3"
  },
  "language_info": {
   "codemirror_mode": {
    "name": "ipython",
    "version": 3
   },
   "file_extension": ".py",
   "mimetype": "text/x-python",
   "name": "python",
   "nbconvert_exporter": "python",
   "pygments_lexer": "ipython3",
   "version": "3.10.8"
  },
  "orig_nbformat": 4,
  "vscode": {
   "interpreter": {
    "hash": "540b1d93a0206432ea81f0358eb88b71755f9df1b03cc764dbc9d8857e2e8ba5"
   }
  }
 },
 "nbformat": 4,
 "nbformat_minor": 2
}
