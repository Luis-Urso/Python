{
  "cells": [
    {
      "attachments": {},
      "cell_type": "markdown",
      "metadata": {},
      "source": [
        "## SLI Training Script \n",
        "## By Luis A. Urso\n",
        "## 27-JAN-2023 - version 1\n",
        "##"
      ]
    },
    {
      "cell_type": "code",
      "execution_count": 1,
      "metadata": {
        "id": "igMyGnjE9hEp"
      },
      "outputs": [],
      "source": [
        "import csv\n",
        "import os\n",
        "import sys\n",
        "import numpy as np\n",
        "import tensorflow as tf\n",
        "import pydot\n",
        "from sklearn.model_selection import train_test_split\n",
        "from keras.utils import plot_model\n",
        "\n",
        "RANDOM_SEED = 42"
      ]
    },
    {
      "cell_type": "markdown",
      "metadata": {},
      "source": [
        "# Setup Global Variables"
      ]
    },
    {
      "attachments": {},
      "cell_type": "markdown",
      "metadata": {
        "id": "t2HDvhIu9hEr"
      },
      "source": [
        " Define the files path"
      ]
    },
    {
      "cell_type": "code",
      "execution_count": 2,
      "metadata": {
        "id": "9NvZP2Zn9hEy"
      },
      "outputs": [],
      "source": [
        "dataset = 'model/training_data.csv'\n",
        "model_save_path = 'model/training_classifierf.hdf5'\n",
        "tflite_save_path = 'model/training_classifier.tflite'\n",
        "\n",
        "def get_script_path():\n",
        "    return os.path.dirname(os.path.realpath(sys.argv[0]))\n",
        "\n",
        "\n",
        "app_path=get_script_path()"
      ]
    },
    {
      "attachments": {},
      "cell_type": "markdown",
      "metadata": {
        "id": "s5oMH7x19hEz"
      },
      "source": [
        "Set number of classes to be trained"
      ]
    },
    {
      "cell_type": "code",
      "execution_count": 3,
      "metadata": {
        "id": "du4kodXL9hEz"
      },
      "outputs": [
        {
          "name": "stdout",
          "output_type": "stream",
          "text": [
            "Classes to be trained: 5\n"
          ]
        }
      ],
      "source": [
        "# Define the number of classes to be trained \n",
        "\n",
        "with open('model/labels.csv',encoding='utf-8-sig') as f_labels:\n",
        "\tlabels_class = csv.reader(f_labels)\n",
        "\tlabels_class = [\n",
        "\t\trow[0] for row in labels_class\n",
        "\t]\n",
        "\n",
        "\n",
        "\n",
        "NUM_CLASSES = len(labels_class)\n",
        "\n",
        "print(\"Classes to be trained:\",NUM_CLASSES)"
      ]
    },
    {
      "attachments": {},
      "cell_type": "markdown",
      "metadata": {},
      "source": [
        "# Dataset Preparation"
      ]
    },
    {
      "attachments": {},
      "cell_type": "markdown",
      "metadata": {
        "id": "XjnL0uso9hEz"
      },
      "source": [
        "Dataset loading"
      ]
    },
    {
      "cell_type": "code",
      "execution_count": 4,
      "metadata": {
        "id": "QT5ZqtEz9hE0"
      },
      "outputs": [],
      "source": [
        "X_dataset = np.loadtxt(dataset, delimiter=',', dtype='float32', usecols=list(range(1, (21 * 2) + 1)))"
      ]
    },
    {
      "cell_type": "code",
      "execution_count": 5,
      "metadata": {},
      "outputs": [
        {
          "data": {
            "text/plain": [
              "(1579, 42)"
            ]
          },
          "execution_count": 5,
          "metadata": {},
          "output_type": "execute_result"
        }
      ],
      "source": [
        "X_dataset.shape"
      ]
    },
    {
      "cell_type": "code",
      "execution_count": 6,
      "metadata": {
        "id": "QmoKFsp49hE0"
      },
      "outputs": [],
      "source": [
        "y_dataset = np.loadtxt(dataset, delimiter=',', dtype='int32', usecols=(0))"
      ]
    },
    {
      "cell_type": "code",
      "execution_count": 7,
      "metadata": {},
      "outputs": [
        {
          "data": {
            "text/plain": [
              "(1579,)"
            ]
          },
          "execution_count": 7,
          "metadata": {},
          "output_type": "execute_result"
        }
      ],
      "source": [
        "y_dataset.shape"
      ]
    },
    {
      "attachments": {},
      "cell_type": "markdown",
      "metadata": {},
      "source": [
        "Split Data Sets into Train and Test"
      ]
    },
    {
      "cell_type": "code",
      "execution_count": 8,
      "metadata": {
        "id": "xQU7JTZ_9hE0"
      },
      "outputs": [],
      "source": [
        "X_train, X_test, y_train, y_test = train_test_split(X_dataset, y_dataset, train_size=0.75, random_state=RANDOM_SEED)"
      ]
    },
    {
      "attachments": {},
      "cell_type": "markdown",
      "metadata": {
        "id": "mxK_lETT9hE0"
      },
      "source": [
        "# Model Architecture & Building"
      ]
    },
    {
      "attachments": {},
      "cell_type": "markdown",
      "metadata": {},
      "source": [
        "FNN Model Arquitecture"
      ]
    },
    {
      "cell_type": "code",
      "execution_count": 9,
      "metadata": {
        "id": "vHBmUf1t9hE1"
      },
      "outputs": [],
      "source": [
        "model = tf.keras.models.Sequential([\n",
        "    tf.keras.layers.Input((21 * 2, )),\n",
        "    tf.keras.layers.Dropout(0.2),\n",
        "    tf.keras.layers.Dense(20, activation='relu'),\n",
        "    tf.keras.layers.Dropout(0.4),\n",
        "    tf.keras.layers.Dense(10, activation='relu'),\n",
        "    tf.keras.layers.Dense(NUM_CLASSES, activation='softmax')\n",
        "])"
      ]
    },
    {
      "cell_type": "code",
      "execution_count": 10,
      "metadata": {
        "colab": {
          "base_uri": "https://localhost:8080/"
        },
        "id": "ypqky9tc9hE1",
        "outputId": "5db082bb-30e3-4110-bf63-a1ee777ecd46"
      },
      "outputs": [
        {
          "name": "stdout",
          "output_type": "stream",
          "text": [
            "Model: \"sequential\"\n",
            "_________________________________________________________________\n",
            " Layer (type)                Output Shape              Param #   \n",
            "=================================================================\n",
            " dropout (Dropout)           (None, 42)                0         \n",
            "                                                                 \n",
            " dense (Dense)               (None, 20)                860       \n",
            "                                                                 \n",
            " dropout_1 (Dropout)         (None, 20)                0         \n",
            "                                                                 \n",
            " dense_1 (Dense)             (None, 10)                210       \n",
            "                                                                 \n",
            " dense_2 (Dense)             (None, 5)                 55        \n",
            "                                                                 \n",
            "=================================================================\n",
            "Total params: 1,125\n",
            "Trainable params: 1,125\n",
            "Non-trainable params: 0\n",
            "_________________________________________________________________\n"
          ]
        }
      ],
      "source": [
        "model.summary()  # tf.keras.utils.plot_model(model, show_shapes=True)"
      ]
    },
    {
      "attachments": {},
      "cell_type": "markdown",
      "metadata": {},
      "source": [
        "Model Pre-building Verification "
      ]
    },
    {
      "cell_type": "code",
      "execution_count": 11,
      "metadata": {
        "id": "MbMjOflQ9hE1"
      },
      "outputs": [],
      "source": [
        "# Model checkpoint callback\n",
        "cp_callback = tf.keras.callbacks.ModelCheckpoint(\n",
        "    model_save_path, verbose=1, save_weights_only=False)\n",
        "\n",
        "# Callback for early stopping\n",
        "es_callback = tf.keras.callbacks.EarlyStopping(patience=20, verbose=1)"
      ]
    },
    {
      "attachments": {},
      "cell_type": "markdown",
      "metadata": {},
      "source": [
        "Model Compilation"
      ]
    },
    {
      "cell_type": "code",
      "execution_count": 12,
      "metadata": {
        "id": "c3Dac0M_9hE2"
      },
      "outputs": [],
      "source": [
        "# Model compilation\n",
        "\n",
        "model.compile(\n",
        "    optimizer='adam',\n",
        "    loss='sparse_categorical_crossentropy',\n",
        "    metrics=['accuracy']\n",
        ")"
      ]
    },
    {
      "attachments": {},
      "cell_type": "markdown",
      "metadata": {
        "id": "7XI0j1Iu9hE2"
      },
      "source": [
        "# Model Training"
      ]
    },
    {
      "cell_type": "code",
      "execution_count": 13,
      "metadata": {
        "colab": {
          "base_uri": "https://localhost:8080/"
        },
        "id": "WirBl-JE9hE3",
        "outputId": "71b30ca2-8294-4d9d-8aa2-800d90d399de",
        "scrolled": true
      },
      "outputs": [
        {
          "name": "stdout",
          "output_type": "stream",
          "text": [
            "Epoch 1/1000\n",
            " 1/10 [==>...........................] - ETA: 3s - loss: 1.7673 - accuracy: 0.2500\n",
            "Epoch 1: saving model to model\\training_classifierf.hdf5\n",
            "10/10 [==============================] - 1s 17ms/step - loss: 1.7346 - accuracy: 0.2331 - val_loss: 1.6332 - val_accuracy: 0.2608\n",
            "Epoch 2/1000\n",
            " 1/10 [==>...........................] - ETA: 0s - loss: 1.6321 - accuracy: 0.2656\n",
            "Epoch 2: saving model to model\\training_classifierf.hdf5\n",
            "10/10 [==============================] - 0s 5ms/step - loss: 1.6384 - accuracy: 0.2500 - val_loss: 1.5886 - val_accuracy: 0.2608\n",
            "Epoch 3/1000\n",
            " 1/10 [==>...........................] - ETA: 0s - loss: 1.6250 - accuracy: 0.2266\n",
            "Epoch 3: saving model to model\\training_classifierf.hdf5\n",
            "10/10 [==============================] - 0s 5ms/step - loss: 1.5903 - accuracy: 0.2863 - val_loss: 1.5499 - val_accuracy: 0.2684\n",
            "Epoch 4/1000\n",
            " 1/10 [==>...........................] - ETA: 0s - loss: 1.5567 - accuracy: 0.2891\n",
            "Epoch 4: saving model to model\\training_classifierf.hdf5\n",
            "10/10 [==============================] - 0s 5ms/step - loss: 1.5217 - accuracy: 0.3193 - val_loss: 1.4560 - val_accuracy: 0.3924\n",
            "Epoch 5/1000\n",
            " 1/10 [==>...........................] - ETA: 0s - loss: 1.5024 - accuracy: 0.3047\n",
            "Epoch 5: saving model to model\\training_classifierf.hdf5\n",
            "10/10 [==============================] - 0s 5ms/step - loss: 1.4584 - accuracy: 0.3328 - val_loss: 1.3726 - val_accuracy: 0.4532\n",
            "Epoch 6/1000\n",
            " 1/10 [==>...........................] - ETA: 0s - loss: 1.4127 - accuracy: 0.3203\n",
            "Epoch 6: saving model to model\\training_classifierf.hdf5\n",
            "10/10 [==============================] - 0s 5ms/step - loss: 1.4192 - accuracy: 0.3682 - val_loss: 1.3203 - val_accuracy: 0.4557\n",
            "Epoch 7/1000\n",
            " 1/10 [==>...........................] - ETA: 0s - loss: 1.3844 - accuracy: 0.3281\n",
            "Epoch 7: saving model to model\\training_classifierf.hdf5\n",
            "10/10 [==============================] - 0s 5ms/step - loss: 1.3689 - accuracy: 0.3564 - val_loss: 1.2844 - val_accuracy: 0.4380\n",
            "Epoch 8/1000\n",
            " 1/10 [==>...........................] - ETA: 0s - loss: 1.3884 - accuracy: 0.3594\n",
            "Epoch 8: saving model to model\\training_classifierf.hdf5\n",
            "10/10 [==============================] - 0s 5ms/step - loss: 1.3376 - accuracy: 0.3843 - val_loss: 1.2509 - val_accuracy: 0.4430\n",
            "Epoch 9/1000\n",
            " 1/10 [==>...........................] - ETA: 0s - loss: 1.3386 - accuracy: 0.3828\n",
            "Epoch 9: saving model to model\\training_classifierf.hdf5\n",
            "10/10 [==============================] - 0s 5ms/step - loss: 1.3136 - accuracy: 0.3877 - val_loss: 1.2176 - val_accuracy: 0.4557\n",
            "Epoch 10/1000\n",
            " 1/10 [==>...........................] - ETA: 0s - loss: 1.2730 - accuracy: 0.3984\n",
            "Epoch 10: saving model to model\\training_classifierf.hdf5\n",
            "10/10 [==============================] - 0s 5ms/step - loss: 1.2964 - accuracy: 0.3936 - val_loss: 1.1871 - val_accuracy: 0.5418\n",
            "Epoch 11/1000\n",
            " 1/10 [==>...........................] - ETA: 0s - loss: 1.2768 - accuracy: 0.4531\n",
            "Epoch 11: saving model to model\\training_classifierf.hdf5\n",
            "10/10 [==============================] - 0s 5ms/step - loss: 1.2469 - accuracy: 0.4400 - val_loss: 1.1589 - val_accuracy: 0.5797\n",
            "Epoch 12/1000\n",
            " 1/10 [==>...........................] - ETA: 0s - loss: 1.2073 - accuracy: 0.4609\n",
            "Epoch 12: saving model to model\\training_classifierf.hdf5\n",
            "10/10 [==============================] - 0s 5ms/step - loss: 1.2310 - accuracy: 0.4367 - val_loss: 1.1311 - val_accuracy: 0.5468\n",
            "Epoch 13/1000\n",
            " 1/10 [==>...........................] - ETA: 0s - loss: 1.2395 - accuracy: 0.4453\n",
            "Epoch 13: saving model to model\\training_classifierf.hdf5\n",
            "10/10 [==============================] - 0s 5ms/step - loss: 1.1899 - accuracy: 0.4527 - val_loss: 1.1000 - val_accuracy: 0.5823\n",
            "Epoch 14/1000\n",
            " 1/10 [==>...........................] - ETA: 0s - loss: 1.1770 - accuracy: 0.4531\n",
            "Epoch 14: saving model to model\\training_classifierf.hdf5\n",
            "10/10 [==============================] - 0s 6ms/step - loss: 1.1861 - accuracy: 0.4544 - val_loss: 1.0709 - val_accuracy: 0.5873\n",
            "Epoch 15/1000\n",
            " 1/10 [==>...........................] - ETA: 0s - loss: 1.2389 - accuracy: 0.4688\n",
            "Epoch 15: saving model to model\\training_classifierf.hdf5\n",
            "10/10 [==============================] - 0s 5ms/step - loss: 1.1698 - accuracy: 0.4840 - val_loss: 1.0484 - val_accuracy: 0.5899\n",
            "Epoch 16/1000\n",
            " 1/10 [==>...........................] - ETA: 0s - loss: 1.1483 - accuracy: 0.4453\n",
            "Epoch 16: saving model to model\\training_classifierf.hdf5\n",
            "10/10 [==============================] - 0s 5ms/step - loss: 1.1498 - accuracy: 0.4916 - val_loss: 1.0155 - val_accuracy: 0.6203\n",
            "Epoch 17/1000\n",
            " 1/10 [==>...........................] - ETA: 0s - loss: 1.1646 - accuracy: 0.5000\n",
            "Epoch 17: saving model to model\\training_classifierf.hdf5\n",
            "10/10 [==============================] - 0s 5ms/step - loss: 1.1367 - accuracy: 0.4992 - val_loss: 0.9922 - val_accuracy: 0.6785\n",
            "Epoch 18/1000\n",
            " 1/10 [==>...........................] - ETA: 0s - loss: 1.1262 - accuracy: 0.4844\n",
            "Epoch 18: saving model to model\\training_classifierf.hdf5\n",
            "10/10 [==============================] - 0s 5ms/step - loss: 1.1169 - accuracy: 0.5084 - val_loss: 0.9751 - val_accuracy: 0.6962\n",
            "Epoch 19/1000\n",
            " 1/10 [==>...........................] - ETA: 0s - loss: 1.0302 - accuracy: 0.5859\n",
            "Epoch 19: saving model to model\\training_classifierf.hdf5\n",
            "10/10 [==============================] - 0s 5ms/step - loss: 1.0823 - accuracy: 0.5549 - val_loss: 0.9496 - val_accuracy: 0.7443\n",
            "Epoch 20/1000\n",
            " 1/10 [==>...........................] - ETA: 0s - loss: 1.1044 - accuracy: 0.5234\n",
            "Epoch 20: saving model to model\\training_classifierf.hdf5\n",
            "10/10 [==============================] - 0s 5ms/step - loss: 1.0897 - accuracy: 0.5211 - val_loss: 0.9253 - val_accuracy: 0.7772\n",
            "Epoch 21/1000\n",
            " 1/10 [==>...........................] - ETA: 0s - loss: 1.1159 - accuracy: 0.5625\n",
            "Epoch 21: saving model to model\\training_classifierf.hdf5\n",
            "10/10 [==============================] - 0s 5ms/step - loss: 1.0481 - accuracy: 0.5735 - val_loss: 0.9032 - val_accuracy: 0.7975\n",
            "Epoch 22/1000\n",
            " 1/10 [==>...........................] - ETA: 0s - loss: 0.9846 - accuracy: 0.5703\n",
            "Epoch 22: saving model to model\\training_classifierf.hdf5\n",
            "10/10 [==============================] - 0s 5ms/step - loss: 1.0169 - accuracy: 0.5490 - val_loss: 0.8808 - val_accuracy: 0.8025\n",
            "Epoch 23/1000\n",
            " 1/10 [==>...........................] - ETA: 0s - loss: 0.9964 - accuracy: 0.5703\n",
            "Epoch 23: saving model to model\\training_classifierf.hdf5\n",
            "10/10 [==============================] - 0s 5ms/step - loss: 1.0080 - accuracy: 0.5743 - val_loss: 0.8595 - val_accuracy: 0.8076\n",
            "Epoch 24/1000\n",
            " 1/10 [==>...........................] - ETA: 0s - loss: 0.9215 - accuracy: 0.6797\n",
            "Epoch 24: saving model to model\\training_classifierf.hdf5\n",
            "10/10 [==============================] - 0s 5ms/step - loss: 0.9888 - accuracy: 0.5861 - val_loss: 0.8431 - val_accuracy: 0.8127\n",
            "Epoch 25/1000\n",
            " 1/10 [==>...........................] - ETA: 0s - loss: 0.9958 - accuracy: 0.5625\n",
            "Epoch 25: saving model to model\\training_classifierf.hdf5\n",
            "10/10 [==============================] - 0s 5ms/step - loss: 0.9711 - accuracy: 0.5912 - val_loss: 0.8232 - val_accuracy: 0.8127\n",
            "Epoch 26/1000\n",
            " 1/10 [==>...........................] - ETA: 0s - loss: 0.9646 - accuracy: 0.6016\n",
            "Epoch 26: saving model to model\\training_classifierf.hdf5\n",
            "10/10 [==============================] - 0s 5ms/step - loss: 0.9718 - accuracy: 0.5988 - val_loss: 0.8043 - val_accuracy: 0.8127\n",
            "Epoch 27/1000\n",
            " 1/10 [==>...........................] - ETA: 0s - loss: 0.9256 - accuracy: 0.6328\n",
            "Epoch 27: saving model to model\\training_classifierf.hdf5\n",
            "10/10 [==============================] - 0s 5ms/step - loss: 0.9550 - accuracy: 0.6174 - val_loss: 0.7851 - val_accuracy: 0.8203\n",
            "Epoch 28/1000\n",
            " 1/10 [==>...........................] - ETA: 0s - loss: 1.0197 - accuracy: 0.5547\n",
            "Epoch 28: saving model to model\\training_classifierf.hdf5\n",
            "10/10 [==============================] - 0s 5ms/step - loss: 0.9513 - accuracy: 0.5997 - val_loss: 0.7754 - val_accuracy: 0.8177\n",
            "Epoch 29/1000\n",
            " 1/10 [==>...........................] - ETA: 0s - loss: 0.9847 - accuracy: 0.6328\n",
            "Epoch 29: saving model to model\\training_classifierf.hdf5\n",
            "10/10 [==============================] - 0s 6ms/step - loss: 0.9317 - accuracy: 0.6233 - val_loss: 0.7527 - val_accuracy: 0.8203\n",
            "Epoch 30/1000\n",
            " 1/10 [==>...........................] - ETA: 0s - loss: 0.9216 - accuracy: 0.5938\n",
            "Epoch 30: saving model to model\\training_classifierf.hdf5\n",
            "10/10 [==============================] - 0s 6ms/step - loss: 0.8925 - accuracy: 0.6453 - val_loss: 0.7329 - val_accuracy: 0.8177\n",
            "Epoch 31/1000\n",
            " 1/10 [==>...........................] - ETA: 0s - loss: 0.8956 - accuracy: 0.5859\n",
            "Epoch 31: saving model to model\\training_classifierf.hdf5\n",
            "10/10 [==============================] - 0s 5ms/step - loss: 0.8920 - accuracy: 0.6267 - val_loss: 0.7209 - val_accuracy: 0.8228\n",
            "Epoch 32/1000\n",
            " 1/10 [==>...........................] - ETA: 0s - loss: 0.9461 - accuracy: 0.5859\n",
            "Epoch 32: saving model to model\\training_classifierf.hdf5\n",
            "10/10 [==============================] - 0s 5ms/step - loss: 0.8731 - accuracy: 0.6546 - val_loss: 0.7041 - val_accuracy: 0.8253\n",
            "Epoch 33/1000\n",
            " 1/10 [==>...........................] - ETA: 0s - loss: 0.8856 - accuracy: 0.6406\n",
            "Epoch 33: saving model to model\\training_classifierf.hdf5\n",
            "10/10 [==============================] - 0s 5ms/step - loss: 0.8587 - accuracy: 0.6478 - val_loss: 0.6826 - val_accuracy: 0.8304\n",
            "Epoch 34/1000\n",
            " 1/10 [==>...........................] - ETA: 0s - loss: 0.9139 - accuracy: 0.6172\n",
            "Epoch 34: saving model to model\\training_classifierf.hdf5\n",
            "10/10 [==============================] - 0s 5ms/step - loss: 0.8754 - accuracy: 0.6419 - val_loss: 0.6646 - val_accuracy: 0.8304\n",
            "Epoch 35/1000\n",
            " 1/10 [==>...........................] - ETA: 0s - loss: 0.8472 - accuracy: 0.6719\n",
            "Epoch 35: saving model to model\\training_classifierf.hdf5\n",
            "10/10 [==============================] - 0s 5ms/step - loss: 0.8698 - accuracy: 0.6478 - val_loss: 0.6541 - val_accuracy: 0.8380\n",
            "Epoch 36/1000\n",
            " 1/10 [==>...........................] - ETA: 0s - loss: 0.8585 - accuracy: 0.6953\n",
            "Epoch 36: saving model to model\\training_classifierf.hdf5\n",
            "10/10 [==============================] - 0s 5ms/step - loss: 0.8421 - accuracy: 0.6529 - val_loss: 0.6437 - val_accuracy: 0.8405\n",
            "Epoch 37/1000\n",
            " 1/10 [==>...........................] - ETA: 0s - loss: 0.8850 - accuracy: 0.5859\n",
            "Epoch 37: saving model to model\\training_classifierf.hdf5\n",
            "10/10 [==============================] - 0s 5ms/step - loss: 0.8521 - accuracy: 0.6512 - val_loss: 0.6330 - val_accuracy: 0.8481\n",
            "Epoch 38/1000\n",
            " 1/10 [==>...........................] - ETA: 0s - loss: 0.8500 - accuracy: 0.6484\n",
            "Epoch 38: saving model to model\\training_classifierf.hdf5\n",
            "10/10 [==============================] - 0s 5ms/step - loss: 0.8121 - accuracy: 0.6605 - val_loss: 0.6186 - val_accuracy: 0.8481\n",
            "Epoch 39/1000\n",
            " 1/10 [==>...........................] - ETA: 0s - loss: 0.8729 - accuracy: 0.6719\n",
            "Epoch 39: saving model to model\\training_classifierf.hdf5\n",
            "10/10 [==============================] - 0s 5ms/step - loss: 0.8099 - accuracy: 0.6740 - val_loss: 0.6011 - val_accuracy: 0.8481\n",
            "Epoch 40/1000\n",
            " 1/10 [==>...........................] - ETA: 0s - loss: 0.7024 - accuracy: 0.7891\n",
            "Epoch 40: saving model to model\\training_classifierf.hdf5\n",
            "10/10 [==============================] - 0s 5ms/step - loss: 0.7975 - accuracy: 0.6664 - val_loss: 0.5843 - val_accuracy: 0.8532\n",
            "Epoch 41/1000\n",
            " 1/10 [==>...........................] - ETA: 0s - loss: 0.8083 - accuracy: 0.6562\n",
            "Epoch 41: saving model to model\\training_classifierf.hdf5\n",
            "10/10 [==============================] - 0s 5ms/step - loss: 0.7941 - accuracy: 0.6841 - val_loss: 0.5757 - val_accuracy: 0.8506\n",
            "Epoch 42/1000\n",
            " 1/10 [==>...........................] - ETA: 0s - loss: 0.7480 - accuracy: 0.7031\n",
            "Epoch 42: saving model to model\\training_classifierf.hdf5\n",
            "10/10 [==============================] - 0s 5ms/step - loss: 0.8008 - accuracy: 0.6647 - val_loss: 0.5645 - val_accuracy: 0.8582\n",
            "Epoch 43/1000\n",
            " 1/10 [==>...........................] - ETA: 0s - loss: 0.8007 - accuracy: 0.6797\n",
            "Epoch 43: saving model to model\\training_classifierf.hdf5\n",
            "10/10 [==============================] - 0s 5ms/step - loss: 0.7814 - accuracy: 0.6968 - val_loss: 0.5590 - val_accuracy: 0.8481\n",
            "Epoch 44/1000\n",
            " 1/10 [==>...........................] - ETA: 0s - loss: 0.6720 - accuracy: 0.7266\n",
            "Epoch 44: saving model to model\\training_classifierf.hdf5\n",
            "10/10 [==============================] - 0s 5ms/step - loss: 0.7693 - accuracy: 0.6943 - val_loss: 0.5501 - val_accuracy: 0.8481\n",
            "Epoch 45/1000\n",
            " 1/10 [==>...........................] - ETA: 0s - loss: 0.7976 - accuracy: 0.6328\n",
            "Epoch 45: saving model to model\\training_classifierf.hdf5\n",
            "10/10 [==============================] - 0s 5ms/step - loss: 0.7770 - accuracy: 0.6807 - val_loss: 0.5342 - val_accuracy: 0.8658\n",
            "Epoch 46/1000\n",
            " 1/10 [==>...........................] - ETA: 0s - loss: 0.6645 - accuracy: 0.7344\n",
            "Epoch 46: saving model to model\\training_classifierf.hdf5\n",
            "10/10 [==============================] - 0s 5ms/step - loss: 0.7407 - accuracy: 0.7052 - val_loss: 0.5225 - val_accuracy: 0.8810\n",
            "Epoch 47/1000\n",
            " 1/10 [==>...........................] - ETA: 0s - loss: 0.7592 - accuracy: 0.7188\n",
            "Epoch 47: saving model to model\\training_classifierf.hdf5\n",
            "10/10 [==============================] - 0s 5ms/step - loss: 0.7504 - accuracy: 0.7095 - val_loss: 0.5206 - val_accuracy: 0.8810\n",
            "Epoch 48/1000\n",
            " 1/10 [==>...........................] - ETA: 0s - loss: 0.7446 - accuracy: 0.7266\n",
            "Epoch 48: saving model to model\\training_classifierf.hdf5\n",
            "10/10 [==============================] - 0s 5ms/step - loss: 0.7253 - accuracy: 0.7280 - val_loss: 0.5080 - val_accuracy: 0.8759\n",
            "Epoch 49/1000\n",
            " 1/10 [==>...........................] - ETA: 0s - loss: 0.6522 - accuracy: 0.7891\n",
            "Epoch 49: saving model to model\\training_classifierf.hdf5\n",
            "10/10 [==============================] - 0s 5ms/step - loss: 0.7281 - accuracy: 0.7128 - val_loss: 0.4949 - val_accuracy: 0.8861\n",
            "Epoch 50/1000\n",
            " 1/10 [==>...........................] - ETA: 0s - loss: 0.7185 - accuracy: 0.7344\n",
            "Epoch 50: saving model to model\\training_classifierf.hdf5\n",
            "10/10 [==============================] - 0s 5ms/step - loss: 0.7058 - accuracy: 0.7348 - val_loss: 0.4892 - val_accuracy: 0.8734\n",
            "Epoch 51/1000\n",
            " 1/10 [==>...........................] - ETA: 0s - loss: 0.6969 - accuracy: 0.7500\n",
            "Epoch 51: saving model to model\\training_classifierf.hdf5\n",
            "10/10 [==============================] - 0s 5ms/step - loss: 0.7318 - accuracy: 0.7019 - val_loss: 0.4788 - val_accuracy: 0.8886\n",
            "Epoch 52/1000\n",
            " 1/10 [==>...........................] - ETA: 0s - loss: 0.6627 - accuracy: 0.7422\n",
            "Epoch 52: saving model to model\\training_classifierf.hdf5\n",
            "10/10 [==============================] - 0s 5ms/step - loss: 0.6819 - accuracy: 0.7255 - val_loss: 0.4643 - val_accuracy: 0.8987\n",
            "Epoch 53/1000\n",
            " 1/10 [==>...........................] - ETA: 0s - loss: 0.7768 - accuracy: 0.6562\n",
            "Epoch 53: saving model to model\\training_classifierf.hdf5\n",
            "10/10 [==============================] - 0s 5ms/step - loss: 0.7132 - accuracy: 0.7078 - val_loss: 0.4556 - val_accuracy: 0.8937\n",
            "Epoch 54/1000\n",
            " 1/10 [==>...........................] - ETA: 0s - loss: 0.7268 - accuracy: 0.6875\n",
            "Epoch 54: saving model to model\\training_classifierf.hdf5\n",
            "10/10 [==============================] - 0s 5ms/step - loss: 0.7080 - accuracy: 0.7095 - val_loss: 0.4470 - val_accuracy: 0.9038\n",
            "Epoch 55/1000\n",
            " 1/10 [==>...........................] - ETA: 0s - loss: 0.7463 - accuracy: 0.7109\n",
            "Epoch 55: saving model to model\\training_classifierf.hdf5\n",
            "10/10 [==============================] - 0s 6ms/step - loss: 0.6902 - accuracy: 0.7044 - val_loss: 0.4425 - val_accuracy: 0.8911\n",
            "Epoch 56/1000\n",
            " 1/10 [==>...........................] - ETA: 0s - loss: 0.6855 - accuracy: 0.7812\n",
            "Epoch 56: saving model to model\\training_classifierf.hdf5\n",
            "10/10 [==============================] - 0s 5ms/step - loss: 0.6974 - accuracy: 0.7348 - val_loss: 0.4260 - val_accuracy: 0.9114\n",
            "Epoch 57/1000\n",
            " 1/10 [==>...........................] - ETA: 0s - loss: 0.7008 - accuracy: 0.7188\n",
            "Epoch 57: saving model to model\\training_classifierf.hdf5\n",
            "10/10 [==============================] - 0s 5ms/step - loss: 0.6873 - accuracy: 0.7188 - val_loss: 0.4244 - val_accuracy: 0.9038\n",
            "Epoch 58/1000\n",
            " 1/10 [==>...........................] - ETA: 0s - loss: 0.6867 - accuracy: 0.6953\n",
            "Epoch 58: saving model to model\\training_classifierf.hdf5\n",
            "10/10 [==============================] - 0s 5ms/step - loss: 0.6924 - accuracy: 0.7289 - val_loss: 0.4189 - val_accuracy: 0.9089\n",
            "Epoch 59/1000\n",
            " 1/10 [==>...........................] - ETA: 0s - loss: 0.6315 - accuracy: 0.7344\n",
            "Epoch 59: saving model to model\\training_classifierf.hdf5\n",
            "10/10 [==============================] - 0s 5ms/step - loss: 0.6989 - accuracy: 0.7095 - val_loss: 0.4119 - val_accuracy: 0.9215\n",
            "Epoch 60/1000\n",
            " 1/10 [==>...........................] - ETA: 0s - loss: 0.7885 - accuracy: 0.6641\n",
            "Epoch 60: saving model to model\\training_classifierf.hdf5\n",
            "10/10 [==============================] - 0s 5ms/step - loss: 0.6705 - accuracy: 0.7196 - val_loss: 0.4045 - val_accuracy: 0.9165\n",
            "Epoch 61/1000\n",
            " 1/10 [==>...........................] - ETA: 0s - loss: 0.6797 - accuracy: 0.7266\n",
            "Epoch 61: saving model to model\\training_classifierf.hdf5\n",
            "10/10 [==============================] - 0s 5ms/step - loss: 0.6563 - accuracy: 0.7314 - val_loss: 0.3983 - val_accuracy: 0.9316\n",
            "Epoch 62/1000\n",
            " 1/10 [==>...........................] - ETA: 0s - loss: 0.7833 - accuracy: 0.7031\n",
            "Epoch 62: saving model to model\\training_classifierf.hdf5\n",
            "10/10 [==============================] - 0s 5ms/step - loss: 0.6632 - accuracy: 0.7289 - val_loss: 0.3917 - val_accuracy: 0.9165\n",
            "Epoch 63/1000\n",
            " 1/10 [==>...........................] - ETA: 0s - loss: 0.6997 - accuracy: 0.7266\n",
            "Epoch 63: saving model to model\\training_classifierf.hdf5\n",
            "10/10 [==============================] - 0s 5ms/step - loss: 0.6715 - accuracy: 0.7137 - val_loss: 0.3740 - val_accuracy: 0.9342\n",
            "Epoch 64/1000\n",
            " 1/10 [==>...........................] - ETA: 0s - loss: 0.6140 - accuracy: 0.7734\n",
            "Epoch 64: saving model to model\\training_classifierf.hdf5\n",
            "10/10 [==============================] - 0s 5ms/step - loss: 0.6554 - accuracy: 0.7390 - val_loss: 0.3715 - val_accuracy: 0.9266\n",
            "Epoch 65/1000\n",
            " 1/10 [==>...........................] - ETA: 0s - loss: 0.5724 - accuracy: 0.8516\n",
            "Epoch 65: saving model to model\\training_classifierf.hdf5\n",
            "10/10 [==============================] - 0s 6ms/step - loss: 0.6503 - accuracy: 0.7500 - val_loss: 0.3696 - val_accuracy: 0.9190\n",
            "Epoch 66/1000\n",
            " 1/10 [==>...........................] - ETA: 0s - loss: 0.7360 - accuracy: 0.6953\n",
            "Epoch 66: saving model to model\\training_classifierf.hdf5\n",
            "10/10 [==============================] - 0s 5ms/step - loss: 0.6505 - accuracy: 0.7399 - val_loss: 0.3651 - val_accuracy: 0.9342\n",
            "Epoch 67/1000\n",
            " 1/10 [==>...........................] - ETA: 0s - loss: 0.6636 - accuracy: 0.6953\n",
            "Epoch 67: saving model to model\\training_classifierf.hdf5\n",
            "10/10 [==============================] - 0s 5ms/step - loss: 0.6150 - accuracy: 0.7466 - val_loss: 0.3567 - val_accuracy: 0.9342\n",
            "Epoch 68/1000\n",
            " 1/10 [==>...........................] - ETA: 0s - loss: 0.6305 - accuracy: 0.7109\n",
            "Epoch 68: saving model to model\\training_classifierf.hdf5\n",
            "10/10 [==============================] - 0s 5ms/step - loss: 0.6182 - accuracy: 0.7492 - val_loss: 0.3417 - val_accuracy: 0.9468\n",
            "Epoch 69/1000\n",
            " 1/10 [==>...........................] - ETA: 0s - loss: 0.6290 - accuracy: 0.7500\n",
            "Epoch 69: saving model to model\\training_classifierf.hdf5\n",
            "10/10 [==============================] - 0s 5ms/step - loss: 0.6436 - accuracy: 0.7466 - val_loss: 0.3347 - val_accuracy: 0.9494\n",
            "Epoch 70/1000\n",
            " 1/10 [==>...........................] - ETA: 0s - loss: 0.5968 - accuracy: 0.7266\n",
            "Epoch 70: saving model to model\\training_classifierf.hdf5\n",
            "10/10 [==============================] - 0s 5ms/step - loss: 0.5822 - accuracy: 0.7517 - val_loss: 0.3278 - val_accuracy: 0.9468\n",
            "Epoch 71/1000\n",
            " 1/10 [==>...........................] - ETA: 0s - loss: 0.6101 - accuracy: 0.7734\n",
            "Epoch 71: saving model to model\\training_classifierf.hdf5\n",
            "10/10 [==============================] - 0s 5ms/step - loss: 0.5993 - accuracy: 0.7627 - val_loss: 0.3220 - val_accuracy: 0.9443\n",
            "Epoch 72/1000\n",
            " 1/10 [==>...........................] - ETA: 0s - loss: 0.6251 - accuracy: 0.7031\n",
            "Epoch 72: saving model to model\\training_classifierf.hdf5\n",
            "10/10 [==============================] - 0s 5ms/step - loss: 0.6232 - accuracy: 0.7475 - val_loss: 0.3195 - val_accuracy: 0.9418\n",
            "Epoch 73/1000\n",
            " 1/10 [==>...........................] - ETA: 0s - loss: 0.6328 - accuracy: 0.7344\n",
            "Epoch 73: saving model to model\\training_classifierf.hdf5\n",
            "10/10 [==============================] - 0s 5ms/step - loss: 0.6120 - accuracy: 0.7508 - val_loss: 0.3158 - val_accuracy: 0.9544\n",
            "Epoch 74/1000\n",
            " 1/10 [==>...........................] - ETA: 0s - loss: 0.5837 - accuracy: 0.7188\n",
            "Epoch 74: saving model to model\\training_classifierf.hdf5\n",
            "10/10 [==============================] - 0s 5ms/step - loss: 0.6100 - accuracy: 0.7382 - val_loss: 0.3101 - val_accuracy: 0.9620\n",
            "Epoch 75/1000\n",
            " 1/10 [==>...........................] - ETA: 0s - loss: 0.4993 - accuracy: 0.8203\n",
            "Epoch 75: saving model to model\\training_classifierf.hdf5\n",
            "10/10 [==============================] - 0s 5ms/step - loss: 0.6070 - accuracy: 0.7551 - val_loss: 0.3061 - val_accuracy: 0.9544\n",
            "Epoch 76/1000\n",
            " 1/10 [==>...........................] - ETA: 0s - loss: 0.5063 - accuracy: 0.8438\n",
            "Epoch 76: saving model to model\\training_classifierf.hdf5\n",
            "10/10 [==============================] - 0s 5ms/step - loss: 0.5746 - accuracy: 0.7812 - val_loss: 0.2977 - val_accuracy: 0.9570\n",
            "Epoch 77/1000\n",
            " 1/10 [==>...........................] - ETA: 0s - loss: 0.6267 - accuracy: 0.7266\n",
            "Epoch 77: saving model to model\\training_classifierf.hdf5\n",
            "10/10 [==============================] - 0s 5ms/step - loss: 0.5831 - accuracy: 0.7627 - val_loss: 0.2907 - val_accuracy: 0.9595\n",
            "Epoch 78/1000\n",
            " 1/10 [==>...........................] - ETA: 0s - loss: 0.5782 - accuracy: 0.7891\n",
            "Epoch 78: saving model to model\\training_classifierf.hdf5\n",
            "10/10 [==============================] - 0s 6ms/step - loss: 0.5888 - accuracy: 0.7694 - val_loss: 0.2821 - val_accuracy: 0.9671\n",
            "Epoch 79/1000\n",
            " 1/10 [==>...........................] - ETA: 0s - loss: 0.5769 - accuracy: 0.7422\n",
            "Epoch 79: saving model to model\\training_classifierf.hdf5\n",
            "10/10 [==============================] - 0s 5ms/step - loss: 0.5618 - accuracy: 0.7745 - val_loss: 0.2788 - val_accuracy: 0.9620\n",
            "Epoch 80/1000\n",
            " 1/10 [==>...........................] - ETA: 0s - loss: 0.6064 - accuracy: 0.7500\n",
            "Epoch 80: saving model to model\\training_classifierf.hdf5\n",
            "10/10 [==============================] - 0s 5ms/step - loss: 0.5645 - accuracy: 0.7703 - val_loss: 0.2821 - val_accuracy: 0.9519\n",
            "Epoch 81/1000\n",
            " 1/10 [==>...........................] - ETA: 0s - loss: 0.6313 - accuracy: 0.7656\n",
            "Epoch 81: saving model to model\\training_classifierf.hdf5\n",
            "10/10 [==============================] - 0s 5ms/step - loss: 0.5866 - accuracy: 0.7677 - val_loss: 0.2777 - val_accuracy: 0.9646\n",
            "Epoch 82/1000\n",
            " 1/10 [==>...........................] - ETA: 0s - loss: 0.5576 - accuracy: 0.7656\n",
            "Epoch 82: saving model to model\\training_classifierf.hdf5\n",
            "10/10 [==============================] - 0s 5ms/step - loss: 0.5986 - accuracy: 0.7559 - val_loss: 0.2698 - val_accuracy: 0.9722\n",
            "Epoch 83/1000\n",
            " 1/10 [==>...........................] - ETA: 0s - loss: 0.6020 - accuracy: 0.7500\n",
            "Epoch 83: saving model to model\\training_classifierf.hdf5\n",
            "10/10 [==============================] - 0s 5ms/step - loss: 0.5743 - accuracy: 0.7711 - val_loss: 0.2680 - val_accuracy: 0.9722\n",
            "Epoch 84/1000\n",
            " 1/10 [==>...........................] - ETA: 0s - loss: 0.5170 - accuracy: 0.7969\n",
            "Epoch 84: saving model to model\\training_classifierf.hdf5\n",
            "10/10 [==============================] - 0s 5ms/step - loss: 0.5439 - accuracy: 0.8007 - val_loss: 0.2713 - val_accuracy: 0.9646\n",
            "Epoch 85/1000\n",
            " 1/10 [==>...........................] - ETA: 0s - loss: 0.5543 - accuracy: 0.7969\n",
            "Epoch 85: saving model to model\\training_classifierf.hdf5\n",
            "10/10 [==============================] - 0s 5ms/step - loss: 0.5614 - accuracy: 0.7812 - val_loss: 0.2589 - val_accuracy: 0.9722\n",
            "Epoch 86/1000\n",
            " 1/10 [==>...........................] - ETA: 0s - loss: 0.5403 - accuracy: 0.7891\n",
            "Epoch 86: saving model to model\\training_classifierf.hdf5\n",
            "10/10 [==============================] - 0s 6ms/step - loss: 0.5333 - accuracy: 0.7753 - val_loss: 0.2492 - val_accuracy: 0.9772\n",
            "Epoch 87/1000\n",
            " 1/10 [==>...........................] - ETA: 0s - loss: 0.4722 - accuracy: 0.7969\n",
            "Epoch 87: saving model to model\\training_classifierf.hdf5\n",
            "10/10 [==============================] - 0s 5ms/step - loss: 0.5521 - accuracy: 0.7762 - val_loss: 0.2404 - val_accuracy: 0.9772\n",
            "Epoch 88/1000\n",
            " 1/10 [==>...........................] - ETA: 0s - loss: 0.5758 - accuracy: 0.7344\n",
            "Epoch 88: saving model to model\\training_classifierf.hdf5\n",
            "10/10 [==============================] - 0s 5ms/step - loss: 0.5542 - accuracy: 0.7627 - val_loss: 0.2371 - val_accuracy: 0.9747\n",
            "Epoch 89/1000\n",
            " 1/10 [==>...........................] - ETA: 0s - loss: 0.6109 - accuracy: 0.7422\n",
            "Epoch 89: saving model to model\\training_classifierf.hdf5\n",
            "10/10 [==============================] - 0s 5ms/step - loss: 0.5567 - accuracy: 0.7796 - val_loss: 0.2422 - val_accuracy: 0.9722\n",
            "Epoch 90/1000\n",
            " 1/10 [==>...........................] - ETA: 0s - loss: 0.6825 - accuracy: 0.7500\n",
            "Epoch 90: saving model to model\\training_classifierf.hdf5\n",
            "10/10 [==============================] - 0s 5ms/step - loss: 0.5503 - accuracy: 0.7804 - val_loss: 0.2381 - val_accuracy: 0.9747\n",
            "Epoch 91/1000\n",
            " 1/10 [==>...........................] - ETA: 0s - loss: 0.5871 - accuracy: 0.7812\n",
            "Epoch 91: saving model to model\\training_classifierf.hdf5\n",
            "10/10 [==============================] - 0s 5ms/step - loss: 0.5820 - accuracy: 0.7812 - val_loss: 0.2315 - val_accuracy: 0.9823\n",
            "Epoch 92/1000\n",
            " 1/10 [==>...........................] - ETA: 0s - loss: 0.5392 - accuracy: 0.7656\n",
            "Epoch 92: saving model to model\\training_classifierf.hdf5\n",
            "10/10 [==============================] - 0s 5ms/step - loss: 0.5126 - accuracy: 0.7931 - val_loss: 0.2289 - val_accuracy: 0.9873\n",
            "Epoch 93/1000\n",
            " 1/10 [==>...........................] - ETA: 0s - loss: 0.5968 - accuracy: 0.7344\n",
            "Epoch 93: saving model to model\\training_classifierf.hdf5\n",
            "10/10 [==============================] - 0s 5ms/step - loss: 0.5354 - accuracy: 0.7956 - val_loss: 0.2295 - val_accuracy: 0.9772\n",
            "Epoch 94/1000\n",
            " 1/10 [==>...........................] - ETA: 0s - loss: 0.4407 - accuracy: 0.8516\n",
            "Epoch 94: saving model to model\\training_classifierf.hdf5\n",
            "10/10 [==============================] - 0s 5ms/step - loss: 0.5124 - accuracy: 0.7998 - val_loss: 0.2211 - val_accuracy: 0.9848\n",
            "Epoch 95/1000\n",
            " 1/10 [==>...........................] - ETA: 0s - loss: 0.6251 - accuracy: 0.7969\n",
            "Epoch 95: saving model to model\\training_classifierf.hdf5\n",
            "10/10 [==============================] - 0s 5ms/step - loss: 0.5302 - accuracy: 0.7956 - val_loss: 0.2137 - val_accuracy: 0.9975\n",
            "Epoch 96/1000\n",
            " 1/10 [==>...........................] - ETA: 0s - loss: 0.4695 - accuracy: 0.8047\n",
            "Epoch 96: saving model to model\\training_classifierf.hdf5\n",
            "10/10 [==============================] - 0s 5ms/step - loss: 0.5550 - accuracy: 0.7796 - val_loss: 0.2154 - val_accuracy: 0.9823\n",
            "Epoch 97/1000\n",
            " 1/10 [==>...........................] - ETA: 0s - loss: 0.5551 - accuracy: 0.7109\n",
            "Epoch 97: saving model to model\\training_classifierf.hdf5\n",
            "10/10 [==============================] - 0s 5ms/step - loss: 0.5458 - accuracy: 0.7770 - val_loss: 0.2139 - val_accuracy: 0.9848\n",
            "Epoch 98/1000\n",
            " 1/10 [==>...........................] - ETA: 0s - loss: 0.6178 - accuracy: 0.7422\n",
            "Epoch 98: saving model to model\\training_classifierf.hdf5\n",
            "10/10 [==============================] - 0s 5ms/step - loss: 0.5440 - accuracy: 0.7922 - val_loss: 0.2120 - val_accuracy: 0.9848\n",
            "Epoch 99/1000\n",
            " 1/10 [==>...........................] - ETA: 0s - loss: 0.4362 - accuracy: 0.8750\n",
            "Epoch 99: saving model to model\\training_classifierf.hdf5\n",
            "10/10 [==============================] - 0s 5ms/step - loss: 0.4874 - accuracy: 0.8091 - val_loss: 0.2038 - val_accuracy: 0.9873\n",
            "Epoch 100/1000\n",
            " 1/10 [==>...........................] - ETA: 0s - loss: 0.5282 - accuracy: 0.8359\n",
            "Epoch 100: saving model to model\\training_classifierf.hdf5\n",
            "10/10 [==============================] - 0s 5ms/step - loss: 0.5368 - accuracy: 0.7956 - val_loss: 0.1999 - val_accuracy: 0.9848\n",
            "Epoch 101/1000\n",
            " 1/10 [==>...........................] - ETA: 0s - loss: 0.4909 - accuracy: 0.7969\n",
            "Epoch 101: saving model to model\\training_classifierf.hdf5\n",
            "10/10 [==============================] - 0s 5ms/step - loss: 0.5087 - accuracy: 0.8015 - val_loss: 0.2005 - val_accuracy: 0.9823\n",
            "Epoch 102/1000\n",
            " 1/10 [==>...........................] - ETA: 0s - loss: 0.5784 - accuracy: 0.7734\n",
            "Epoch 102: saving model to model\\training_classifierf.hdf5\n",
            "10/10 [==============================] - 0s 5ms/step - loss: 0.5277 - accuracy: 0.7948 - val_loss: 0.1962 - val_accuracy: 0.9823\n",
            "Epoch 103/1000\n",
            " 1/10 [==>...........................] - ETA: 0s - loss: 0.5065 - accuracy: 0.7891\n",
            "Epoch 103: saving model to model\\training_classifierf.hdf5\n",
            "10/10 [==============================] - 0s 6ms/step - loss: 0.5145 - accuracy: 0.7990 - val_loss: 0.1927 - val_accuracy: 0.9899\n",
            "Epoch 104/1000\n",
            " 1/10 [==>...........................] - ETA: 0s - loss: 0.5031 - accuracy: 0.7812\n",
            "Epoch 104: saving model to model\\training_classifierf.hdf5\n",
            "10/10 [==============================] - 0s 5ms/step - loss: 0.4957 - accuracy: 0.8108 - val_loss: 0.1867 - val_accuracy: 0.9924\n",
            "Epoch 105/1000\n",
            " 1/10 [==>...........................] - ETA: 0s - loss: 0.5623 - accuracy: 0.7734\n",
            "Epoch 105: saving model to model\\training_classifierf.hdf5\n",
            "10/10 [==============================] - 0s 5ms/step - loss: 0.4836 - accuracy: 0.8167 - val_loss: 0.1805 - val_accuracy: 0.9924\n",
            "Epoch 106/1000\n",
            " 1/10 [==>...........................] - ETA: 0s - loss: 0.5044 - accuracy: 0.8047\n",
            "Epoch 106: saving model to model\\training_classifierf.hdf5\n",
            "10/10 [==============================] - 0s 5ms/step - loss: 0.5000 - accuracy: 0.8100 - val_loss: 0.1809 - val_accuracy: 0.9848\n",
            "Epoch 107/1000\n",
            " 1/10 [==>...........................] - ETA: 0s - loss: 0.4606 - accuracy: 0.8281\n",
            "Epoch 107: saving model to model\\training_classifierf.hdf5\n",
            "10/10 [==============================] - 0s 5ms/step - loss: 0.5052 - accuracy: 0.8133 - val_loss: 0.1861 - val_accuracy: 0.9823\n",
            "Epoch 108/1000\n",
            " 1/10 [==>...........................] - ETA: 0s - loss: 0.5806 - accuracy: 0.7656\n",
            "Epoch 108: saving model to model\\training_classifierf.hdf5\n",
            "10/10 [==============================] - 0s 5ms/step - loss: 0.4645 - accuracy: 0.8117 - val_loss: 0.1814 - val_accuracy: 0.9975\n",
            "Epoch 109/1000\n",
            " 1/10 [==>...........................] - ETA: 0s - loss: 0.5452 - accuracy: 0.8125\n",
            "Epoch 109: saving model to model\\training_classifierf.hdf5\n",
            "10/10 [==============================] - 0s 5ms/step - loss: 0.5011 - accuracy: 0.7931 - val_loss: 0.1798 - val_accuracy: 0.9924\n",
            "Epoch 110/1000\n",
            " 1/10 [==>...........................] - ETA: 0s - loss: 0.3852 - accuracy: 0.8438\n",
            "Epoch 110: saving model to model\\training_classifierf.hdf5\n",
            "10/10 [==============================] - 0s 6ms/step - loss: 0.4526 - accuracy: 0.8209 - val_loss: 0.1822 - val_accuracy: 0.9899\n",
            "Epoch 111/1000\n",
            " 1/10 [==>...........................] - ETA: 0s - loss: 0.4807 - accuracy: 0.8047\n",
            "Epoch 111: saving model to model\\training_classifierf.hdf5\n",
            "10/10 [==============================] - 0s 5ms/step - loss: 0.4863 - accuracy: 0.8201 - val_loss: 0.1774 - val_accuracy: 0.9899\n",
            "Epoch 112/1000\n",
            " 1/10 [==>...........................] - ETA: 0s - loss: 0.5833 - accuracy: 0.8047\n",
            "Epoch 112: saving model to model\\training_classifierf.hdf5\n",
            "10/10 [==============================] - 0s 5ms/step - loss: 0.4977 - accuracy: 0.8117 - val_loss: 0.1739 - val_accuracy: 0.9949\n",
            "Epoch 113/1000\n",
            " 1/10 [==>...........................] - ETA: 0s - loss: 0.4073 - accuracy: 0.8359\n",
            "Epoch 113: saving model to model\\training_classifierf.hdf5\n",
            "10/10 [==============================] - 0s 5ms/step - loss: 0.4911 - accuracy: 0.8117 - val_loss: 0.1762 - val_accuracy: 0.9899\n",
            "Epoch 114/1000\n",
            " 1/10 [==>...........................] - ETA: 0s - loss: 0.4393 - accuracy: 0.8359\n",
            "Epoch 114: saving model to model\\training_classifierf.hdf5\n",
            "10/10 [==============================] - 0s 5ms/step - loss: 0.4706 - accuracy: 0.8328 - val_loss: 0.1706 - val_accuracy: 0.9873\n",
            "Epoch 115/1000\n",
            " 1/10 [==>...........................] - ETA: 0s - loss: 0.5346 - accuracy: 0.7969\n",
            "Epoch 115: saving model to model\\training_classifierf.hdf5\n",
            "10/10 [==============================] - 0s 5ms/step - loss: 0.4973 - accuracy: 0.8074 - val_loss: 0.1692 - val_accuracy: 0.9924\n",
            "Epoch 116/1000\n",
            " 1/10 [==>...........................] - ETA: 0s - loss: 0.4042 - accuracy: 0.8359\n",
            "Epoch 116: saving model to model\\training_classifierf.hdf5\n",
            "10/10 [==============================] - 0s 5ms/step - loss: 0.4436 - accuracy: 0.8378 - val_loss: 0.1734 - val_accuracy: 0.9975\n",
            "Epoch 117/1000\n",
            " 1/10 [==>...........................] - ETA: 0s - loss: 0.5271 - accuracy: 0.7734\n",
            "Epoch 117: saving model to model\\training_classifierf.hdf5\n",
            "10/10 [==============================] - 0s 5ms/step - loss: 0.5033 - accuracy: 0.8024 - val_loss: 0.1584 - val_accuracy: 0.9975\n",
            "Epoch 118/1000\n",
            " 1/10 [==>...........................] - ETA: 0s - loss: 0.4713 - accuracy: 0.8281\n",
            "Epoch 118: saving model to model\\training_classifierf.hdf5\n",
            "10/10 [==============================] - 0s 5ms/step - loss: 0.5171 - accuracy: 0.8041 - val_loss: 0.1657 - val_accuracy: 0.9949\n",
            "Epoch 119/1000\n",
            " 1/10 [==>...........................] - ETA: 0s - loss: 0.5060 - accuracy: 0.7656\n",
            "Epoch 119: saving model to model\\training_classifierf.hdf5\n",
            "10/10 [==============================] - 0s 5ms/step - loss: 0.4899 - accuracy: 0.7897 - val_loss: 0.1652 - val_accuracy: 0.9975\n",
            "Epoch 120/1000\n",
            " 1/10 [==>...........................] - ETA: 0s - loss: 0.4530 - accuracy: 0.8359\n",
            "Epoch 120: saving model to model\\training_classifierf.hdf5\n",
            "10/10 [==============================] - 0s 5ms/step - loss: 0.4591 - accuracy: 0.8235 - val_loss: 0.1631 - val_accuracy: 0.9975\n",
            "Epoch 121/1000\n",
            " 1/10 [==>...........................] - ETA: 0s - loss: 0.5023 - accuracy: 0.8281\n",
            "Epoch 121: saving model to model\\training_classifierf.hdf5\n",
            "10/10 [==============================] - 0s 5ms/step - loss: 0.5018 - accuracy: 0.8049 - val_loss: 0.1590 - val_accuracy: 0.9949\n",
            "Epoch 122/1000\n",
            " 1/10 [==>...........................] - ETA: 0s - loss: 0.5533 - accuracy: 0.7812\n",
            "Epoch 122: saving model to model\\training_classifierf.hdf5\n",
            "10/10 [==============================] - 0s 5ms/step - loss: 0.4902 - accuracy: 0.8159 - val_loss: 0.1615 - val_accuracy: 0.9975\n",
            "Epoch 123/1000\n",
            " 1/10 [==>...........................] - ETA: 0s - loss: 0.4728 - accuracy: 0.8125\n",
            "Epoch 123: saving model to model\\training_classifierf.hdf5\n",
            "10/10 [==============================] - 0s 5ms/step - loss: 0.4819 - accuracy: 0.8159 - val_loss: 0.1652 - val_accuracy: 0.9949\n",
            "Epoch 124/1000\n",
            " 1/10 [==>...........................] - ETA: 0s - loss: 0.4098 - accuracy: 0.8828\n",
            "Epoch 124: saving model to model\\training_classifierf.hdf5\n",
            "10/10 [==============================] - 0s 5ms/step - loss: 0.4292 - accuracy: 0.8370 - val_loss: 0.1551 - val_accuracy: 0.9975\n",
            "Epoch 125/1000\n",
            " 1/10 [==>...........................] - ETA: 0s - loss: 0.4020 - accuracy: 0.8906\n",
            "Epoch 125: saving model to model\\training_classifierf.hdf5\n",
            "10/10 [==============================] - 0s 5ms/step - loss: 0.4824 - accuracy: 0.8066 - val_loss: 0.1516 - val_accuracy: 0.9975\n",
            "Epoch 126/1000\n",
            " 1/10 [==>...........................] - ETA: 0s - loss: 0.5674 - accuracy: 0.7891\n",
            "Epoch 126: saving model to model\\training_classifierf.hdf5\n",
            "10/10 [==============================] - 0s 5ms/step - loss: 0.4912 - accuracy: 0.8083 - val_loss: 0.1591 - val_accuracy: 0.9924\n",
            "Epoch 127/1000\n",
            " 1/10 [==>...........................] - ETA: 0s - loss: 0.4077 - accuracy: 0.8281\n",
            "Epoch 127: saving model to model\\training_classifierf.hdf5\n",
            "10/10 [==============================] - 0s 5ms/step - loss: 0.4543 - accuracy: 0.8184 - val_loss: 0.1469 - val_accuracy: 0.9975\n",
            "Epoch 128/1000\n",
            " 1/10 [==>...........................] - ETA: 0s - loss: 0.4444 - accuracy: 0.8438\n",
            "Epoch 128: saving model to model\\training_classifierf.hdf5\n",
            "10/10 [==============================] - 0s 5ms/step - loss: 0.4425 - accuracy: 0.8412 - val_loss: 0.1406 - val_accuracy: 1.0000\n",
            "Epoch 129/1000\n",
            " 1/10 [==>...........................] - ETA: 0s - loss: 0.4545 - accuracy: 0.8281\n",
            "Epoch 129: saving model to model\\training_classifierf.hdf5\n",
            "10/10 [==============================] - 0s 5ms/step - loss: 0.4478 - accuracy: 0.8218 - val_loss: 0.1390 - val_accuracy: 0.9975\n",
            "Epoch 130/1000\n",
            " 1/10 [==>...........................] - ETA: 0s - loss: 0.3701 - accuracy: 0.8750\n",
            "Epoch 130: saving model to model\\training_classifierf.hdf5\n",
            "10/10 [==============================] - 0s 5ms/step - loss: 0.4600 - accuracy: 0.8226 - val_loss: 0.1413 - val_accuracy: 1.0000\n",
            "Epoch 131/1000\n",
            " 1/10 [==>...........................] - ETA: 0s - loss: 0.4356 - accuracy: 0.8672\n",
            "Epoch 131: saving model to model\\training_classifierf.hdf5\n",
            "10/10 [==============================] - 0s 5ms/step - loss: 0.4616 - accuracy: 0.8235 - val_loss: 0.1485 - val_accuracy: 0.9949\n",
            "Epoch 132/1000\n",
            " 1/10 [==>...........................] - ETA: 0s - loss: 0.5335 - accuracy: 0.7891\n",
            "Epoch 132: saving model to model\\training_classifierf.hdf5\n",
            "10/10 [==============================] - 0s 5ms/step - loss: 0.4828 - accuracy: 0.8133 - val_loss: 0.1510 - val_accuracy: 0.9975\n",
            "Epoch 133/1000\n",
            " 1/10 [==>...........................] - ETA: 0s - loss: 0.5055 - accuracy: 0.7891\n",
            "Epoch 133: saving model to model\\training_classifierf.hdf5\n",
            "10/10 [==============================] - 0s 5ms/step - loss: 0.4282 - accuracy: 0.8311 - val_loss: 0.1450 - val_accuracy: 0.9975\n",
            "Epoch 134/1000\n",
            " 1/10 [==>...........................] - ETA: 0s - loss: 0.4588 - accuracy: 0.8516\n",
            "Epoch 134: saving model to model\\training_classifierf.hdf5\n",
            "10/10 [==============================] - 0s 6ms/step - loss: 0.4534 - accuracy: 0.8319 - val_loss: 0.1398 - val_accuracy: 0.9975\n",
            "Epoch 135/1000\n",
            " 1/10 [==>...........................] - ETA: 0s - loss: 0.4739 - accuracy: 0.8203\n",
            "Epoch 135: saving model to model\\training_classifierf.hdf5\n",
            "10/10 [==============================] - 0s 5ms/step - loss: 0.4424 - accuracy: 0.8328 - val_loss: 0.1383 - val_accuracy: 0.9975\n",
            "Epoch 136/1000\n",
            " 1/10 [==>...........................] - ETA: 0s - loss: 0.3916 - accuracy: 0.8516\n",
            "Epoch 136: saving model to model\\training_classifierf.hdf5\n",
            "10/10 [==============================] - 0s 5ms/step - loss: 0.4367 - accuracy: 0.8243 - val_loss: 0.1379 - val_accuracy: 1.0000\n",
            "Epoch 137/1000\n",
            " 1/10 [==>...........................] - ETA: 0s - loss: 0.4678 - accuracy: 0.8203\n",
            "Epoch 137: saving model to model\\training_classifierf.hdf5\n",
            "10/10 [==============================] - 0s 5ms/step - loss: 0.4304 - accuracy: 0.8370 - val_loss: 0.1483 - val_accuracy: 0.9975\n",
            "Epoch 138/1000\n",
            " 1/10 [==>...........................] - ETA: 0s - loss: 0.3390 - accuracy: 0.8984\n",
            "Epoch 138: saving model to model\\training_classifierf.hdf5\n",
            "10/10 [==============================] - 0s 5ms/step - loss: 0.4290 - accuracy: 0.8429 - val_loss: 0.1374 - val_accuracy: 1.0000\n",
            "Epoch 139/1000\n",
            " 1/10 [==>...........................] - ETA: 0s - loss: 0.4803 - accuracy: 0.8281\n",
            "Epoch 139: saving model to model\\training_classifierf.hdf5\n",
            "10/10 [==============================] - 0s 5ms/step - loss: 0.4637 - accuracy: 0.8176 - val_loss: 0.1345 - val_accuracy: 1.0000\n",
            "Epoch 140/1000\n",
            " 1/10 [==>...........................] - ETA: 0s - loss: 0.3509 - accuracy: 0.8672\n",
            "Epoch 140: saving model to model\\training_classifierf.hdf5\n",
            "10/10 [==============================] - 0s 5ms/step - loss: 0.4126 - accuracy: 0.8429 - val_loss: 0.1353 - val_accuracy: 1.0000\n",
            "Epoch 141/1000\n",
            " 1/10 [==>...........................] - ETA: 0s - loss: 0.4176 - accuracy: 0.8125\n",
            "Epoch 141: saving model to model\\training_classifierf.hdf5\n",
            "10/10 [==============================] - 0s 5ms/step - loss: 0.4493 - accuracy: 0.8269 - val_loss: 0.1332 - val_accuracy: 1.0000\n",
            "Epoch 142/1000\n",
            " 1/10 [==>...........................] - ETA: 0s - loss: 0.4938 - accuracy: 0.8203\n",
            "Epoch 142: saving model to model\\training_classifierf.hdf5\n",
            "10/10 [==============================] - 0s 5ms/step - loss: 0.4289 - accuracy: 0.8336 - val_loss: 0.1331 - val_accuracy: 0.9975\n",
            "Epoch 143/1000\n",
            " 1/10 [==>...........................] - ETA: 0s - loss: 0.3730 - accuracy: 0.8438\n",
            "Epoch 143: saving model to model\\training_classifierf.hdf5\n",
            "10/10 [==============================] - 0s 5ms/step - loss: 0.4302 - accuracy: 0.8277 - val_loss: 0.1382 - val_accuracy: 0.9975\n",
            "Epoch 144/1000\n",
            " 1/10 [==>...........................] - ETA: 0s - loss: 0.3942 - accuracy: 0.8750\n",
            "Epoch 144: saving model to model\\training_classifierf.hdf5\n",
            "10/10 [==============================] - 0s 5ms/step - loss: 0.3892 - accuracy: 0.8615 - val_loss: 0.1258 - val_accuracy: 1.0000\n",
            "Epoch 145/1000\n",
            " 1/10 [==>...........................] - ETA: 0s - loss: 0.3128 - accuracy: 0.8750\n",
            "Epoch 145: saving model to model\\training_classifierf.hdf5\n",
            "10/10 [==============================] - 0s 5ms/step - loss: 0.4000 - accuracy: 0.8547 - val_loss: 0.1156 - val_accuracy: 1.0000\n",
            "Epoch 146/1000\n",
            " 1/10 [==>...........................] - ETA: 0s - loss: 0.4045 - accuracy: 0.8672\n",
            "Epoch 146: saving model to model\\training_classifierf.hdf5\n",
            "10/10 [==============================] - 0s 5ms/step - loss: 0.4127 - accuracy: 0.8505 - val_loss: 0.1130 - val_accuracy: 1.0000\n",
            "Epoch 147/1000\n",
            " 1/10 [==>...........................] - ETA: 0s - loss: 0.4256 - accuracy: 0.8594\n",
            "Epoch 147: saving model to model\\training_classifierf.hdf5\n",
            "10/10 [==============================] - 0s 5ms/step - loss: 0.3853 - accuracy: 0.8598 - val_loss: 0.1192 - val_accuracy: 0.9975\n",
            "Epoch 148/1000\n",
            " 1/10 [==>...........................] - ETA: 0s - loss: 0.3279 - accuracy: 0.8906\n",
            "Epoch 148: saving model to model\\training_classifierf.hdf5\n",
            "10/10 [==============================] - 0s 5ms/step - loss: 0.4129 - accuracy: 0.8480 - val_loss: 0.1173 - val_accuracy: 1.0000\n",
            "Epoch 149/1000\n",
            " 1/10 [==>...........................] - ETA: 0s - loss: 0.3866 - accuracy: 0.8594\n",
            "Epoch 149: saving model to model\\training_classifierf.hdf5\n",
            "10/10 [==============================] - 0s 5ms/step - loss: 0.4211 - accuracy: 0.8328 - val_loss: 0.1214 - val_accuracy: 1.0000\n",
            "Epoch 150/1000\n",
            " 1/10 [==>...........................] - ETA: 0s - loss: 0.4601 - accuracy: 0.8438\n",
            "Epoch 150: saving model to model\\training_classifierf.hdf5\n",
            "10/10 [==============================] - 0s 5ms/step - loss: 0.4133 - accuracy: 0.8505 - val_loss: 0.1146 - val_accuracy: 1.0000\n",
            "Epoch 151/1000\n",
            " 1/10 [==>...........................] - ETA: 0s - loss: 0.4192 - accuracy: 0.8359\n",
            "Epoch 151: saving model to model\\training_classifierf.hdf5\n",
            "10/10 [==============================] - 0s 5ms/step - loss: 0.4335 - accuracy: 0.8370 - val_loss: 0.1175 - val_accuracy: 0.9975\n",
            "Epoch 152/1000\n",
            " 1/10 [==>...........................] - ETA: 0s - loss: 0.4588 - accuracy: 0.8359\n",
            "Epoch 152: saving model to model\\training_classifierf.hdf5\n",
            "10/10 [==============================] - 0s 5ms/step - loss: 0.4433 - accuracy: 0.8302 - val_loss: 0.1146 - val_accuracy: 1.0000\n",
            "Epoch 153/1000\n",
            " 1/10 [==>...........................] - ETA: 0s - loss: 0.4196 - accuracy: 0.8594\n",
            "Epoch 153: saving model to model\\training_classifierf.hdf5\n",
            "10/10 [==============================] - 0s 5ms/step - loss: 0.4060 - accuracy: 0.8370 - val_loss: 0.1150 - val_accuracy: 1.0000\n",
            "Epoch 154/1000\n",
            " 1/10 [==>...........................] - ETA: 0s - loss: 0.4212 - accuracy: 0.8828\n",
            "Epoch 154: saving model to model\\training_classifierf.hdf5\n",
            "10/10 [==============================] - 0s 5ms/step - loss: 0.4023 - accuracy: 0.8530 - val_loss: 0.1161 - val_accuracy: 1.0000\n",
            "Epoch 155/1000\n",
            " 1/10 [==>...........................] - ETA: 0s - loss: 0.4312 - accuracy: 0.8281\n",
            "Epoch 155: saving model to model\\training_classifierf.hdf5\n",
            "10/10 [==============================] - 0s 5ms/step - loss: 0.4399 - accuracy: 0.8269 - val_loss: 0.1223 - val_accuracy: 1.0000\n",
            "Epoch 156/1000\n",
            " 1/10 [==>...........................] - ETA: 0s - loss: 0.4238 - accuracy: 0.8359\n",
            "Epoch 156: saving model to model\\training_classifierf.hdf5\n",
            "10/10 [==============================] - 0s 5ms/step - loss: 0.3884 - accuracy: 0.8632 - val_loss: 0.1145 - val_accuracy: 1.0000\n",
            "Epoch 157/1000\n",
            " 1/10 [==>...........................] - ETA: 0s - loss: 0.3903 - accuracy: 0.8594\n",
            "Epoch 157: saving model to model\\training_classifierf.hdf5\n",
            "10/10 [==============================] - 0s 5ms/step - loss: 0.3729 - accuracy: 0.8708 - val_loss: 0.1060 - val_accuracy: 1.0000\n",
            "Epoch 158/1000\n",
            " 1/10 [==>...........................] - ETA: 0s - loss: 0.4397 - accuracy: 0.8438\n",
            "Epoch 158: saving model to model\\training_classifierf.hdf5\n",
            "10/10 [==============================] - 0s 5ms/step - loss: 0.3873 - accuracy: 0.8530 - val_loss: 0.1057 - val_accuracy: 1.0000\n",
            "Epoch 159/1000\n",
            " 1/10 [==>...........................] - ETA: 0s - loss: 0.3934 - accuracy: 0.8516\n",
            "Epoch 159: saving model to model\\training_classifierf.hdf5\n",
            "10/10 [==============================] - 0s 5ms/step - loss: 0.4115 - accuracy: 0.8488 - val_loss: 0.1052 - val_accuracy: 1.0000\n",
            "Epoch 160/1000\n",
            " 1/10 [==>...........................] - ETA: 0s - loss: 0.3158 - accuracy: 0.8750\n",
            "Epoch 160: saving model to model\\training_classifierf.hdf5\n",
            "10/10 [==============================] - 0s 5ms/step - loss: 0.3852 - accuracy: 0.8497 - val_loss: 0.1015 - val_accuracy: 1.0000\n",
            "Epoch 161/1000\n",
            " 1/10 [==>...........................] - ETA: 0s - loss: 0.5171 - accuracy: 0.7656\n",
            "Epoch 161: saving model to model\\training_classifierf.hdf5\n",
            "10/10 [==============================] - 0s 5ms/step - loss: 0.4197 - accuracy: 0.8395 - val_loss: 0.1019 - val_accuracy: 1.0000\n",
            "Epoch 162/1000\n",
            " 1/10 [==>...........................] - ETA: 0s - loss: 0.4221 - accuracy: 0.8125\n",
            "Epoch 162: saving model to model\\training_classifierf.hdf5\n",
            "10/10 [==============================] - 0s 6ms/step - loss: 0.4050 - accuracy: 0.8471 - val_loss: 0.1028 - val_accuracy: 1.0000\n",
            "Epoch 163/1000\n",
            " 1/10 [==>...........................] - ETA: 0s - loss: 0.4086 - accuracy: 0.8359\n",
            "Epoch 163: saving model to model\\training_classifierf.hdf5\n",
            "10/10 [==============================] - 0s 5ms/step - loss: 0.4387 - accuracy: 0.8277 - val_loss: 0.1007 - val_accuracy: 1.0000\n",
            "Epoch 164/1000\n",
            " 1/10 [==>...........................] - ETA: 0s - loss: 0.4356 - accuracy: 0.8281\n",
            "Epoch 164: saving model to model\\training_classifierf.hdf5\n",
            "10/10 [==============================] - 0s 5ms/step - loss: 0.4130 - accuracy: 0.8454 - val_loss: 0.1001 - val_accuracy: 1.0000\n",
            "Epoch 165/1000\n",
            " 1/10 [==>...........................] - ETA: 0s - loss: 0.3985 - accuracy: 0.8516\n",
            "Epoch 165: saving model to model\\training_classifierf.hdf5\n",
            "10/10 [==============================] - 0s 5ms/step - loss: 0.3943 - accuracy: 0.8488 - val_loss: 0.1002 - val_accuracy: 1.0000\n",
            "Epoch 166/1000\n",
            " 1/10 [==>...........................] - ETA: 0s - loss: 0.3151 - accuracy: 0.8750\n",
            "Epoch 166: saving model to model\\training_classifierf.hdf5\n",
            "10/10 [==============================] - 0s 5ms/step - loss: 0.3937 - accuracy: 0.8505 - val_loss: 0.0930 - val_accuracy: 1.0000\n",
            "Epoch 167/1000\n",
            " 1/10 [==>...........................] - ETA: 0s - loss: 0.3586 - accuracy: 0.8672\n",
            "Epoch 167: saving model to model\\training_classifierf.hdf5\n",
            "10/10 [==============================] - 0s 5ms/step - loss: 0.3715 - accuracy: 0.8666 - val_loss: 0.0927 - val_accuracy: 1.0000\n",
            "Epoch 168/1000\n",
            " 1/10 [==>...........................] - ETA: 0s - loss: 0.5065 - accuracy: 0.7969\n",
            "Epoch 168: saving model to model\\training_classifierf.hdf5\n",
            "10/10 [==============================] - 0s 5ms/step - loss: 0.3952 - accuracy: 0.8480 - val_loss: 0.1051 - val_accuracy: 1.0000\n",
            "Epoch 169/1000\n",
            " 1/10 [==>...........................] - ETA: 0s - loss: 0.3827 - accuracy: 0.8438\n",
            "Epoch 169: saving model to model\\training_classifierf.hdf5\n",
            "10/10 [==============================] - 0s 5ms/step - loss: 0.4142 - accuracy: 0.8429 - val_loss: 0.1051 - val_accuracy: 1.0000\n",
            "Epoch 170/1000\n",
            " 1/10 [==>...........................] - ETA: 0s - loss: 0.3746 - accuracy: 0.8984\n",
            "Epoch 170: saving model to model\\training_classifierf.hdf5\n",
            "10/10 [==============================] - 0s 5ms/step - loss: 0.3924 - accuracy: 0.8573 - val_loss: 0.0984 - val_accuracy: 1.0000\n",
            "Epoch 171/1000\n",
            " 1/10 [==>...........................] - ETA: 0s - loss: 0.4216 - accuracy: 0.8359\n",
            "Epoch 171: saving model to model\\training_classifierf.hdf5\n",
            "10/10 [==============================] - 0s 5ms/step - loss: 0.3886 - accuracy: 0.8522 - val_loss: 0.0981 - val_accuracy: 1.0000\n",
            "Epoch 172/1000\n",
            " 1/10 [==>...........................] - ETA: 0s - loss: 0.2844 - accuracy: 0.9141\n",
            "Epoch 172: saving model to model\\training_classifierf.hdf5\n",
            "10/10 [==============================] - 0s 5ms/step - loss: 0.3609 - accuracy: 0.8750 - val_loss: 0.1036 - val_accuracy: 1.0000\n",
            "Epoch 173/1000\n",
            " 1/10 [==>...........................] - ETA: 0s - loss: 0.3690 - accuracy: 0.8672\n",
            "Epoch 173: saving model to model\\training_classifierf.hdf5\n",
            "10/10 [==============================] - 0s 5ms/step - loss: 0.3649 - accuracy: 0.8691 - val_loss: 0.1102 - val_accuracy: 1.0000\n",
            "Epoch 174/1000\n",
            " 1/10 [==>...........................] - ETA: 0s - loss: 0.2950 - accuracy: 0.8906\n",
            "Epoch 174: saving model to model\\training_classifierf.hdf5\n",
            "10/10 [==============================] - 0s 5ms/step - loss: 0.3948 - accuracy: 0.8539 - val_loss: 0.1075 - val_accuracy: 1.0000\n",
            "Epoch 175/1000\n",
            " 1/10 [==>...........................] - ETA: 0s - loss: 0.3906 - accuracy: 0.8594\n",
            "Epoch 175: saving model to model\\training_classifierf.hdf5\n",
            "10/10 [==============================] - 0s 5ms/step - loss: 0.3774 - accuracy: 0.8682 - val_loss: 0.1030 - val_accuracy: 1.0000\n",
            "Epoch 176/1000\n",
            " 1/10 [==>...........................] - ETA: 0s - loss: 0.2996 - accuracy: 0.9062\n",
            "Epoch 176: saving model to model\\training_classifierf.hdf5\n",
            "10/10 [==============================] - 0s 5ms/step - loss: 0.3909 - accuracy: 0.8438 - val_loss: 0.0964 - val_accuracy: 1.0000\n",
            "Epoch 177/1000\n",
            " 1/10 [==>...........................] - ETA: 0s - loss: 0.3572 - accuracy: 0.8594\n",
            "Epoch 177: saving model to model\\training_classifierf.hdf5\n",
            "10/10 [==============================] - 0s 5ms/step - loss: 0.3646 - accuracy: 0.8623 - val_loss: 0.0947 - val_accuracy: 1.0000\n",
            "Epoch 178/1000\n",
            " 1/10 [==>...........................] - ETA: 0s - loss: 0.3811 - accuracy: 0.8438\n",
            "Epoch 178: saving model to model\\training_classifierf.hdf5\n",
            "10/10 [==============================] - 0s 5ms/step - loss: 0.4008 - accuracy: 0.8463 - val_loss: 0.1060 - val_accuracy: 1.0000\n",
            "Epoch 179/1000\n",
            " 1/10 [==>...........................] - ETA: 0s - loss: 0.2936 - accuracy: 0.8750\n",
            "Epoch 179: saving model to model\\training_classifierf.hdf5\n",
            "10/10 [==============================] - 0s 5ms/step - loss: 0.3755 - accuracy: 0.8606 - val_loss: 0.1054 - val_accuracy: 1.0000\n",
            "Epoch 180/1000\n",
            " 1/10 [==>...........................] - ETA: 0s - loss: 0.3990 - accuracy: 0.8281\n",
            "Epoch 180: saving model to model\\training_classifierf.hdf5\n",
            "10/10 [==============================] - 0s 5ms/step - loss: 0.3859 - accuracy: 0.8530 - val_loss: 0.0940 - val_accuracy: 1.0000\n",
            "Epoch 181/1000\n",
            " 1/10 [==>...........................] - ETA: 0s - loss: 0.3788 - accuracy: 0.8750\n",
            "Epoch 181: saving model to model\\training_classifierf.hdf5\n",
            "10/10 [==============================] - 0s 5ms/step - loss: 0.3852 - accuracy: 0.8488 - val_loss: 0.0951 - val_accuracy: 1.0000\n",
            "Epoch 182/1000\n",
            " 1/10 [==>...........................] - ETA: 0s - loss: 0.3914 - accuracy: 0.8359\n",
            "Epoch 182: saving model to model\\training_classifierf.hdf5\n",
            "10/10 [==============================] - 0s 5ms/step - loss: 0.3417 - accuracy: 0.8657 - val_loss: 0.1014 - val_accuracy: 1.0000\n",
            "Epoch 183/1000\n",
            " 1/10 [==>...........................] - ETA: 0s - loss: 0.3547 - accuracy: 0.8672\n",
            "Epoch 183: saving model to model\\training_classifierf.hdf5\n",
            "10/10 [==============================] - 0s 5ms/step - loss: 0.3608 - accuracy: 0.8598 - val_loss: 0.1009 - val_accuracy: 1.0000\n",
            "Epoch 184/1000\n",
            " 1/10 [==>...........................] - ETA: 0s - loss: 0.4332 - accuracy: 0.8438\n",
            "Epoch 184: saving model to model\\training_classifierf.hdf5\n",
            "10/10 [==============================] - 0s 5ms/step - loss: 0.3591 - accuracy: 0.8640 - val_loss: 0.0980 - val_accuracy: 1.0000\n",
            "Epoch 185/1000\n",
            " 1/10 [==>...........................] - ETA: 0s - loss: 0.3035 - accuracy: 0.9219\n",
            "Epoch 185: saving model to model\\training_classifierf.hdf5\n",
            "10/10 [==============================] - 0s 5ms/step - loss: 0.3474 - accuracy: 0.8758 - val_loss: 0.0861 - val_accuracy: 1.0000\n",
            "Epoch 186/1000\n",
            " 1/10 [==>...........................] - ETA: 0s - loss: 0.2889 - accuracy: 0.9062\n",
            "Epoch 186: saving model to model\\training_classifierf.hdf5\n",
            "10/10 [==============================] - 0s 5ms/step - loss: 0.3397 - accuracy: 0.8699 - val_loss: 0.0795 - val_accuracy: 1.0000\n",
            "Epoch 187/1000\n",
            " 1/10 [==>...........................] - ETA: 0s - loss: 0.3341 - accuracy: 0.9141\n",
            "Epoch 187: saving model to model\\training_classifierf.hdf5\n",
            "10/10 [==============================] - 0s 5ms/step - loss: 0.3581 - accuracy: 0.8606 - val_loss: 0.0807 - val_accuracy: 1.0000\n",
            "Epoch 188/1000\n",
            " 1/10 [==>...........................] - ETA: 0s - loss: 0.3789 - accuracy: 0.8516\n",
            "Epoch 188: saving model to model\\training_classifierf.hdf5\n",
            "10/10 [==============================] - 0s 5ms/step - loss: 0.3612 - accuracy: 0.8632 - val_loss: 0.0908 - val_accuracy: 1.0000\n",
            "Epoch 189/1000\n",
            " 1/10 [==>...........................] - ETA: 0s - loss: 0.4280 - accuracy: 0.8125\n",
            "Epoch 189: saving model to model\\training_classifierf.hdf5\n",
            "10/10 [==============================] - 0s 5ms/step - loss: 0.3557 - accuracy: 0.8657 - val_loss: 0.0854 - val_accuracy: 1.0000\n",
            "Epoch 190/1000\n",
            " 1/10 [==>...........................] - ETA: 0s - loss: 0.4483 - accuracy: 0.8125\n",
            "Epoch 190: saving model to model\\training_classifierf.hdf5\n",
            "10/10 [==============================] - 0s 5ms/step - loss: 0.3571 - accuracy: 0.8640 - val_loss: 0.0865 - val_accuracy: 1.0000\n",
            "Epoch 191/1000\n",
            " 1/10 [==>...........................] - ETA: 0s - loss: 0.4312 - accuracy: 0.8203\n",
            "Epoch 191: saving model to model\\training_classifierf.hdf5\n",
            "10/10 [==============================] - 0s 5ms/step - loss: 0.3786 - accuracy: 0.8564 - val_loss: 0.0920 - val_accuracy: 1.0000\n",
            "Epoch 192/1000\n",
            " 1/10 [==>...........................] - ETA: 0s - loss: 0.3258 - accuracy: 0.8672\n",
            "Epoch 192: saving model to model\\training_classifierf.hdf5\n",
            "10/10 [==============================] - 0s 5ms/step - loss: 0.3636 - accuracy: 0.8598 - val_loss: 0.0940 - val_accuracy: 1.0000\n",
            "Epoch 193/1000\n",
            " 1/10 [==>...........................] - ETA: 0s - loss: 0.3952 - accuracy: 0.8672\n",
            "Epoch 193: saving model to model\\training_classifierf.hdf5\n",
            "10/10 [==============================] - 0s 5ms/step - loss: 0.3405 - accuracy: 0.8767 - val_loss: 0.0899 - val_accuracy: 1.0000\n",
            "Epoch 194/1000\n",
            " 1/10 [==>...........................] - ETA: 0s - loss: 0.3602 - accuracy: 0.8828\n",
            "Epoch 194: saving model to model\\training_classifierf.hdf5\n",
            "10/10 [==============================] - 0s 5ms/step - loss: 0.3455 - accuracy: 0.8784 - val_loss: 0.0868 - val_accuracy: 1.0000\n",
            "Epoch 195/1000\n",
            " 1/10 [==>...........................] - ETA: 0s - loss: 0.3890 - accuracy: 0.8438\n",
            "Epoch 195: saving model to model\\training_classifierf.hdf5\n",
            "10/10 [==============================] - 0s 5ms/step - loss: 0.3675 - accuracy: 0.8742 - val_loss: 0.0908 - val_accuracy: 1.0000\n",
            "Epoch 196/1000\n",
            " 1/10 [==>...........................] - ETA: 0s - loss: 0.4260 - accuracy: 0.8047\n",
            "Epoch 196: saving model to model\\training_classifierf.hdf5\n",
            "10/10 [==============================] - 0s 5ms/step - loss: 0.3351 - accuracy: 0.8691 - val_loss: 0.0897 - val_accuracy: 1.0000\n",
            "Epoch 197/1000\n",
            " 1/10 [==>...........................] - ETA: 0s - loss: 0.3461 - accuracy: 0.8672\n",
            "Epoch 197: saving model to model\\training_classifierf.hdf5\n",
            "10/10 [==============================] - 0s 5ms/step - loss: 0.3779 - accuracy: 0.8573 - val_loss: 0.0882 - val_accuracy: 1.0000\n",
            "Epoch 198/1000\n",
            " 1/10 [==>...........................] - ETA: 0s - loss: 0.3920 - accuracy: 0.8125\n",
            "Epoch 198: saving model to model\\training_classifierf.hdf5\n",
            "10/10 [==============================] - 0s 5ms/step - loss: 0.3978 - accuracy: 0.8564 - val_loss: 0.0932 - val_accuracy: 1.0000\n",
            "Epoch 199/1000\n",
            " 1/10 [==>...........................] - ETA: 0s - loss: 0.3177 - accuracy: 0.8984\n",
            "Epoch 199: saving model to model\\training_classifierf.hdf5\n",
            "10/10 [==============================] - 0s 5ms/step - loss: 0.3320 - accuracy: 0.8775 - val_loss: 0.0994 - val_accuracy: 1.0000\n",
            "Epoch 200/1000\n",
            " 1/10 [==>...........................] - ETA: 0s - loss: 0.4132 - accuracy: 0.8594\n",
            "Epoch 200: saving model to model\\training_classifierf.hdf5\n",
            "10/10 [==============================] - 0s 5ms/step - loss: 0.3365 - accuracy: 0.8809 - val_loss: 0.0925 - val_accuracy: 1.0000\n",
            "Epoch 201/1000\n",
            " 1/10 [==>...........................] - ETA: 0s - loss: 0.3554 - accuracy: 0.8516\n",
            "Epoch 201: saving model to model\\training_classifierf.hdf5\n",
            "10/10 [==============================] - 0s 5ms/step - loss: 0.3604 - accuracy: 0.8590 - val_loss: 0.0863 - val_accuracy: 1.0000\n",
            "Epoch 202/1000\n",
            " 1/10 [==>...........................] - ETA: 0s - loss: 0.3516 - accuracy: 0.8594\n",
            "Epoch 202: saving model to model\\training_classifierf.hdf5\n",
            "10/10 [==============================] - 0s 5ms/step - loss: 0.3325 - accuracy: 0.8818 - val_loss: 0.0789 - val_accuracy: 1.0000\n",
            "Epoch 203/1000\n",
            " 1/10 [==>...........................] - ETA: 0s - loss: 0.3040 - accuracy: 0.8750\n",
            "Epoch 203: saving model to model\\training_classifierf.hdf5\n",
            "10/10 [==============================] - 0s 5ms/step - loss: 0.3436 - accuracy: 0.8725 - val_loss: 0.0766 - val_accuracy: 1.0000\n",
            "Epoch 204/1000\n",
            " 1/10 [==>...........................] - ETA: 0s - loss: 0.4339 - accuracy: 0.8203\n",
            "Epoch 204: saving model to model\\training_classifierf.hdf5\n",
            "10/10 [==============================] - 0s 5ms/step - loss: 0.3646 - accuracy: 0.8632 - val_loss: 0.0866 - val_accuracy: 1.0000\n",
            "Epoch 205/1000\n",
            " 1/10 [==>...........................] - ETA: 0s - loss: 0.3509 - accuracy: 0.8750\n",
            "Epoch 205: saving model to model\\training_classifierf.hdf5\n",
            "10/10 [==============================] - 0s 5ms/step - loss: 0.3394 - accuracy: 0.8708 - val_loss: 0.0867 - val_accuracy: 1.0000\n",
            "Epoch 206/1000\n",
            " 1/10 [==>...........................] - ETA: 0s - loss: 0.3048 - accuracy: 0.8750\n",
            "Epoch 206: saving model to model\\training_classifierf.hdf5\n",
            "10/10 [==============================] - 0s 6ms/step - loss: 0.3562 - accuracy: 0.8590 - val_loss: 0.0824 - val_accuracy: 1.0000\n",
            "Epoch 207/1000\n",
            " 1/10 [==>...........................] - ETA: 0s - loss: 0.3077 - accuracy: 0.8984\n",
            "Epoch 207: saving model to model\\training_classifierf.hdf5\n",
            "10/10 [==============================] - 0s 5ms/step - loss: 0.3538 - accuracy: 0.8733 - val_loss: 0.0847 - val_accuracy: 1.0000\n",
            "Epoch 208/1000\n",
            " 1/10 [==>...........................] - ETA: 0s - loss: 0.3572 - accuracy: 0.8516\n",
            "Epoch 208: saving model to model\\training_classifierf.hdf5\n",
            "10/10 [==============================] - 0s 5ms/step - loss: 0.3454 - accuracy: 0.8792 - val_loss: 0.0850 - val_accuracy: 1.0000\n",
            "Epoch 209/1000\n",
            " 1/10 [==>...........................] - ETA: 0s - loss: 0.2039 - accuracy: 0.9219\n",
            "Epoch 209: saving model to model\\training_classifierf.hdf5\n",
            "10/10 [==============================] - 0s 5ms/step - loss: 0.3180 - accuracy: 0.8843 - val_loss: 0.0821 - val_accuracy: 1.0000\n",
            "Epoch 210/1000\n",
            " 1/10 [==>...........................] - ETA: 0s - loss: 0.4045 - accuracy: 0.8438\n",
            "Epoch 210: saving model to model\\training_classifierf.hdf5\n",
            "10/10 [==============================] - 0s 5ms/step - loss: 0.3353 - accuracy: 0.8657 - val_loss: 0.0792 - val_accuracy: 1.0000\n",
            "Epoch 211/1000\n",
            " 1/10 [==>...........................] - ETA: 0s - loss: 0.3846 - accuracy: 0.8984\n",
            "Epoch 211: saving model to model\\training_classifierf.hdf5\n",
            "10/10 [==============================] - 0s 5ms/step - loss: 0.3401 - accuracy: 0.8801 - val_loss: 0.0747 - val_accuracy: 1.0000\n",
            "Epoch 212/1000\n",
            " 1/10 [==>...........................] - ETA: 0s - loss: 0.3643 - accuracy: 0.8828\n",
            "Epoch 212: saving model to model\\training_classifierf.hdf5\n",
            "10/10 [==============================] - 0s 5ms/step - loss: 0.3542 - accuracy: 0.8606 - val_loss: 0.0811 - val_accuracy: 1.0000\n",
            "Epoch 213/1000\n",
            " 1/10 [==>...........................] - ETA: 0s - loss: 0.4127 - accuracy: 0.8281\n",
            "Epoch 213: saving model to model\\training_classifierf.hdf5\n",
            "10/10 [==============================] - 0s 5ms/step - loss: 0.3393 - accuracy: 0.8725 - val_loss: 0.0808 - val_accuracy: 1.0000\n",
            "Epoch 214/1000\n",
            " 1/10 [==>...........................] - ETA: 0s - loss: 0.3017 - accuracy: 0.9141\n",
            "Epoch 214: saving model to model\\training_classifierf.hdf5\n",
            "10/10 [==============================] - 0s 4ms/step - loss: 0.3534 - accuracy: 0.8666 - val_loss: 0.0777 - val_accuracy: 1.0000\n",
            "Epoch 215/1000\n",
            " 1/10 [==>...........................] - ETA: 0s - loss: 0.3142 - accuracy: 0.8750\n",
            "Epoch 215: saving model to model\\training_classifierf.hdf5\n",
            "10/10 [==============================] - 0s 5ms/step - loss: 0.3171 - accuracy: 0.8725 - val_loss: 0.0775 - val_accuracy: 1.0000\n",
            "Epoch 216/1000\n",
            " 1/10 [==>...........................] - ETA: 0s - loss: 0.3342 - accuracy: 0.8828\n",
            "Epoch 216: saving model to model\\training_classifierf.hdf5\n",
            "10/10 [==============================] - 0s 5ms/step - loss: 0.3226 - accuracy: 0.8809 - val_loss: 0.0819 - val_accuracy: 1.0000\n",
            "Epoch 217/1000\n",
            " 1/10 [==>...........................] - ETA: 0s - loss: 0.2786 - accuracy: 0.8906\n",
            "Epoch 217: saving model to model\\training_classifierf.hdf5\n",
            "10/10 [==============================] - 0s 5ms/step - loss: 0.3159 - accuracy: 0.8775 - val_loss: 0.0849 - val_accuracy: 1.0000\n",
            "Epoch 218/1000\n",
            " 1/10 [==>...........................] - ETA: 0s - loss: 0.2378 - accuracy: 0.9453\n",
            "Epoch 218: saving model to model\\training_classifierf.hdf5\n",
            "10/10 [==============================] - 0s 5ms/step - loss: 0.3329 - accuracy: 0.8767 - val_loss: 0.0747 - val_accuracy: 1.0000\n",
            "Epoch 219/1000\n",
            " 1/10 [==>...........................] - ETA: 0s - loss: 0.3561 - accuracy: 0.8750\n",
            "Epoch 219: saving model to model\\training_classifierf.hdf5\n",
            "10/10 [==============================] - 0s 5ms/step - loss: 0.3437 - accuracy: 0.8742 - val_loss: 0.0766 - val_accuracy: 1.0000\n",
            "Epoch 220/1000\n",
            " 1/10 [==>...........................] - ETA: 0s - loss: 0.2331 - accuracy: 0.9141\n",
            "Epoch 220: saving model to model\\training_classifierf.hdf5\n",
            "10/10 [==============================] - 0s 5ms/step - loss: 0.3217 - accuracy: 0.8733 - val_loss: 0.0804 - val_accuracy: 1.0000\n",
            "Epoch 221/1000\n",
            " 1/10 [==>...........................] - ETA: 0s - loss: 0.4323 - accuracy: 0.8672\n",
            "Epoch 221: saving model to model\\training_classifierf.hdf5\n",
            "10/10 [==============================] - 0s 5ms/step - loss: 0.3494 - accuracy: 0.8792 - val_loss: 0.0840 - val_accuracy: 1.0000\n",
            "Epoch 222/1000\n",
            " 1/10 [==>...........................] - ETA: 0s - loss: 0.3037 - accuracy: 0.8750\n",
            "Epoch 222: saving model to model\\training_classifierf.hdf5\n",
            "10/10 [==============================] - 0s 5ms/step - loss: 0.3214 - accuracy: 0.8851 - val_loss: 0.0819 - val_accuracy: 1.0000\n",
            "Epoch 223/1000\n",
            " 1/10 [==>...........................] - ETA: 0s - loss: 0.3986 - accuracy: 0.8359\n",
            "Epoch 223: saving model to model\\training_classifierf.hdf5\n",
            "10/10 [==============================] - 0s 5ms/step - loss: 0.3575 - accuracy: 0.8581 - val_loss: 0.0764 - val_accuracy: 1.0000\n",
            "Epoch 224/1000\n",
            " 1/10 [==>...........................] - ETA: 0s - loss: 0.3025 - accuracy: 0.8906\n",
            "Epoch 224: saving model to model\\training_classifierf.hdf5\n",
            "10/10 [==============================] - 0s 5ms/step - loss: 0.3547 - accuracy: 0.8699 - val_loss: 0.0804 - val_accuracy: 1.0000\n",
            "Epoch 225/1000\n",
            " 1/10 [==>...........................] - ETA: 0s - loss: 0.2642 - accuracy: 0.8984\n",
            "Epoch 225: saving model to model\\training_classifierf.hdf5\n",
            "10/10 [==============================] - 0s 6ms/step - loss: 0.3153 - accuracy: 0.8784 - val_loss: 0.0928 - val_accuracy: 1.0000\n",
            "Epoch 226/1000\n",
            " 1/10 [==>...........................] - ETA: 0s - loss: 0.2553 - accuracy: 0.9062\n",
            "Epoch 226: saving model to model\\training_classifierf.hdf5\n",
            "10/10 [==============================] - 0s 5ms/step - loss: 0.3110 - accuracy: 0.8843 - val_loss: 0.0871 - val_accuracy: 1.0000\n",
            "Epoch 227/1000\n",
            " 1/10 [==>...........................] - ETA: 0s - loss: 0.3307 - accuracy: 0.8906\n",
            "Epoch 227: saving model to model\\training_classifierf.hdf5\n",
            "10/10 [==============================] - 0s 5ms/step - loss: 0.3272 - accuracy: 0.8801 - val_loss: 0.0801 - val_accuracy: 1.0000\n",
            "Epoch 228/1000\n",
            " 1/10 [==>...........................] - ETA: 0s - loss: 0.3949 - accuracy: 0.8438\n",
            "Epoch 228: saving model to model\\training_classifierf.hdf5\n",
            "10/10 [==============================] - 0s 5ms/step - loss: 0.3314 - accuracy: 0.8826 - val_loss: 0.0751 - val_accuracy: 1.0000\n",
            "Epoch 229/1000\n",
            " 1/10 [==>...........................] - ETA: 0s - loss: 0.3013 - accuracy: 0.8906\n",
            "Epoch 229: saving model to model\\training_classifierf.hdf5\n",
            "10/10 [==============================] - 0s 5ms/step - loss: 0.3367 - accuracy: 0.8750 - val_loss: 0.0805 - val_accuracy: 1.0000\n",
            "Epoch 230/1000\n",
            " 1/10 [==>...........................] - ETA: 0s - loss: 0.4051 - accuracy: 0.8359\n",
            "Epoch 230: saving model to model\\training_classifierf.hdf5\n",
            "10/10 [==============================] - 0s 5ms/step - loss: 0.3184 - accuracy: 0.8834 - val_loss: 0.0785 - val_accuracy: 1.0000\n",
            "Epoch 231/1000\n",
            " 1/10 [==>...........................] - ETA: 0s - loss: 0.3395 - accuracy: 0.8438\n",
            "Epoch 231: saving model to model\\training_classifierf.hdf5\n",
            "10/10 [==============================] - 0s 5ms/step - loss: 0.3247 - accuracy: 0.8767 - val_loss: 0.0730 - val_accuracy: 1.0000\n",
            "Epoch 232/1000\n",
            " 1/10 [==>...........................] - ETA: 0s - loss: 0.3804 - accuracy: 0.8594\n",
            "Epoch 232: saving model to model\\training_classifierf.hdf5\n",
            "10/10 [==============================] - 0s 5ms/step - loss: 0.2881 - accuracy: 0.9037 - val_loss: 0.0674 - val_accuracy: 1.0000\n",
            "Epoch 233/1000\n",
            " 1/10 [==>...........................] - ETA: 0s - loss: 0.2784 - accuracy: 0.9062\n",
            "Epoch 233: saving model to model\\training_classifierf.hdf5\n",
            "10/10 [==============================] - 0s 5ms/step - loss: 0.3280 - accuracy: 0.8801 - val_loss: 0.0651 - val_accuracy: 1.0000\n",
            "Epoch 234/1000\n",
            " 1/10 [==>...........................] - ETA: 0s - loss: 0.3488 - accuracy: 0.8672\n",
            "Epoch 234: saving model to model\\training_classifierf.hdf5\n",
            "10/10 [==============================] - 0s 5ms/step - loss: 0.3039 - accuracy: 0.8986 - val_loss: 0.0661 - val_accuracy: 1.0000\n",
            "Epoch 235/1000\n",
            " 1/10 [==>...........................] - ETA: 0s - loss: 0.3032 - accuracy: 0.8984\n",
            "Epoch 235: saving model to model\\training_classifierf.hdf5\n",
            "10/10 [==============================] - 0s 5ms/step - loss: 0.3387 - accuracy: 0.8725 - val_loss: 0.0722 - val_accuracy: 1.0000\n",
            "Epoch 236/1000\n",
            " 1/10 [==>...........................] - ETA: 0s - loss: 0.2604 - accuracy: 0.9297\n",
            "Epoch 236: saving model to model\\training_classifierf.hdf5\n",
            "10/10 [==============================] - 0s 5ms/step - loss: 0.3074 - accuracy: 0.8894 - val_loss: 0.0822 - val_accuracy: 1.0000\n",
            "Epoch 237/1000\n",
            " 1/10 [==>...........................] - ETA: 0s - loss: 0.3267 - accuracy: 0.8750\n",
            "Epoch 237: saving model to model\\training_classifierf.hdf5\n",
            "10/10 [==============================] - 0s 5ms/step - loss: 0.3260 - accuracy: 0.8750 - val_loss: 0.0836 - val_accuracy: 1.0000\n",
            "Epoch 238/1000\n",
            " 1/10 [==>...........................] - ETA: 0s - loss: 0.3574 - accuracy: 0.7969\n",
            "Epoch 238: saving model to model\\training_classifierf.hdf5\n",
            "10/10 [==============================] - 0s 5ms/step - loss: 0.3565 - accuracy: 0.8497 - val_loss: 0.0800 - val_accuracy: 1.0000\n",
            "Epoch 239/1000\n",
            " 1/10 [==>...........................] - ETA: 0s - loss: 0.2136 - accuracy: 0.9219\n",
            "Epoch 239: saving model to model\\training_classifierf.hdf5\n",
            "10/10 [==============================] - 0s 5ms/step - loss: 0.2928 - accuracy: 0.8919 - val_loss: 0.0821 - val_accuracy: 1.0000\n",
            "Epoch 240/1000\n",
            " 1/10 [==>...........................] - ETA: 0s - loss: 0.3189 - accuracy: 0.9141\n",
            "Epoch 240: saving model to model\\training_classifierf.hdf5\n",
            "10/10 [==============================] - 0s 5ms/step - loss: 0.2918 - accuracy: 0.9003 - val_loss: 0.0810 - val_accuracy: 1.0000\n",
            "Epoch 241/1000\n",
            " 1/10 [==>...........................] - ETA: 0s - loss: 0.4179 - accuracy: 0.8672\n",
            "Epoch 241: saving model to model\\training_classifierf.hdf5\n",
            "10/10 [==============================] - 0s 5ms/step - loss: 0.3315 - accuracy: 0.8657 - val_loss: 0.0828 - val_accuracy: 1.0000\n",
            "Epoch 242/1000\n",
            " 1/10 [==>...........................] - ETA: 0s - loss: 0.3164 - accuracy: 0.8594\n",
            "Epoch 242: saving model to model\\training_classifierf.hdf5\n",
            "10/10 [==============================] - 0s 5ms/step - loss: 0.3464 - accuracy: 0.8640 - val_loss: 0.0953 - val_accuracy: 1.0000\n",
            "Epoch 243/1000\n",
            " 1/10 [==>...........................] - ETA: 0s - loss: 0.3215 - accuracy: 0.8906\n",
            "Epoch 243: saving model to model\\training_classifierf.hdf5\n",
            "10/10 [==============================] - 0s 5ms/step - loss: 0.3118 - accuracy: 0.8792 - val_loss: 0.0832 - val_accuracy: 1.0000\n",
            "Epoch 244/1000\n",
            " 1/10 [==>...........................] - ETA: 0s - loss: 0.3372 - accuracy: 0.8672\n",
            "Epoch 244: saving model to model\\training_classifierf.hdf5\n",
            "10/10 [==============================] - 0s 5ms/step - loss: 0.3133 - accuracy: 0.8792 - val_loss: 0.0693 - val_accuracy: 1.0000\n",
            "Epoch 245/1000\n",
            " 1/10 [==>...........................] - ETA: 0s - loss: 0.3715 - accuracy: 0.8594\n",
            "Epoch 245: saving model to model\\training_classifierf.hdf5\n",
            "10/10 [==============================] - 0s 6ms/step - loss: 0.3246 - accuracy: 0.8750 - val_loss: 0.0687 - val_accuracy: 1.0000\n",
            "Epoch 246/1000\n",
            " 1/10 [==>...........................] - ETA: 0s - loss: 0.2741 - accuracy: 0.8906\n",
            "Epoch 246: saving model to model\\training_classifierf.hdf5\n",
            "10/10 [==============================] - 0s 5ms/step - loss: 0.2890 - accuracy: 0.8902 - val_loss: 0.0777 - val_accuracy: 1.0000\n",
            "Epoch 247/1000\n",
            " 1/10 [==>...........................] - ETA: 0s - loss: 0.2921 - accuracy: 0.9141\n",
            "Epoch 247: saving model to model\\training_classifierf.hdf5\n",
            "10/10 [==============================] - 0s 5ms/step - loss: 0.3342 - accuracy: 0.8775 - val_loss: 0.0742 - val_accuracy: 1.0000\n",
            "Epoch 248/1000\n",
            " 1/10 [==>...........................] - ETA: 0s - loss: 0.3379 - accuracy: 0.8984\n",
            "Epoch 248: saving model to model\\training_classifierf.hdf5\n",
            "10/10 [==============================] - 0s 5ms/step - loss: 0.3222 - accuracy: 0.8894 - val_loss: 0.0752 - val_accuracy: 1.0000\n",
            "Epoch 249/1000\n",
            " 1/10 [==>...........................] - ETA: 0s - loss: 0.2159 - accuracy: 0.9375\n",
            "Epoch 249: saving model to model\\training_classifierf.hdf5\n",
            "10/10 [==============================] - 0s 5ms/step - loss: 0.2851 - accuracy: 0.9062 - val_loss: 0.0788 - val_accuracy: 1.0000\n",
            "Epoch 250/1000\n",
            " 1/10 [==>...........................] - ETA: 0s - loss: 0.3101 - accuracy: 0.8828\n",
            "Epoch 250: saving model to model\\training_classifierf.hdf5\n",
            "10/10 [==============================] - 0s 5ms/step - loss: 0.3162 - accuracy: 0.8767 - val_loss: 0.0736 - val_accuracy: 1.0000\n",
            "Epoch 251/1000\n",
            " 1/10 [==>...........................] - ETA: 0s - loss: 0.3250 - accuracy: 0.8672\n",
            "Epoch 251: saving model to model\\training_classifierf.hdf5\n",
            "10/10 [==============================] - 0s 5ms/step - loss: 0.2828 - accuracy: 0.8995 - val_loss: 0.0679 - val_accuracy: 1.0000\n",
            "Epoch 252/1000\n",
            " 1/10 [==>...........................] - ETA: 0s - loss: 0.1945 - accuracy: 0.9375\n",
            "Epoch 252: saving model to model\\training_classifierf.hdf5\n",
            "10/10 [==============================] - 0s 5ms/step - loss: 0.2924 - accuracy: 0.8970 - val_loss: 0.0668 - val_accuracy: 1.0000\n",
            "Epoch 253/1000\n",
            " 1/10 [==>...........................] - ETA: 0s - loss: 0.3002 - accuracy: 0.8984\n",
            "Epoch 253: saving model to model\\training_classifierf.hdf5\n",
            "10/10 [==============================] - 0s 5ms/step - loss: 0.3111 - accuracy: 0.8775 - val_loss: 0.0669 - val_accuracy: 1.0000\n",
            "Epoch 253: early stopping\n"
          ]
        },
        {
          "data": {
            "text/plain": [
              "<keras.callbacks.History at 0x24fe1bbf340>"
            ]
          },
          "execution_count": 13,
          "metadata": {},
          "output_type": "execute_result"
        }
      ],
      "source": [
        "model.fit(\n",
        "    X_train,\n",
        "    y_train,\n",
        "    epochs=1000,\n",
        "    batch_size=128,\n",
        "    validation_data=(X_test, y_test),\n",
        "    callbacks=[cp_callback, es_callback]\n",
        ")"
      ]
    },
    {
      "attachments": {},
      "cell_type": "markdown",
      "metadata": {},
      "source": [
        "# Training Evaluation"
      ]
    },
    {
      "cell_type": "code",
      "execution_count": 14,
      "metadata": {
        "colab": {
          "base_uri": "https://localhost:8080/"
        },
        "id": "pxvb2Y299hE3",
        "outputId": "59eb3185-2e37-4b9e-bc9d-ab1b8ac29b7f"
      },
      "outputs": [
        {
          "name": "stdout",
          "output_type": "stream",
          "text": [
            "4/4 [==============================] - 0s 1ms/step - loss: 0.0669 - accuracy: 1.0000\n"
          ]
        }
      ],
      "source": [
        "# Model evaluation\n",
        "\n",
        "val_loss, val_acc = model.evaluate(X_test, y_test, batch_size=128)"
      ]
    },
    {
      "cell_type": "code",
      "execution_count": 15,
      "metadata": {
        "id": "RBkmDeUW9hE4"
      },
      "outputs": [],
      "source": [
        "# Loading the saved model\n",
        "\n",
        "model = tf.keras.models.load_model(model_save_path)"
      ]
    },
    {
      "cell_type": "code",
      "execution_count": 29,
      "metadata": {
        "colab": {
          "base_uri": "https://localhost:8080/"
        },
        "id": "tFz9Tb0I9hE4",
        "outputId": "1c3b3528-54ae-4ee2-ab04-77429211cbef"
      },
      "outputs": [
        {
          "name": "stdout",
          "output_type": "stream",
          "text": [
            "1/1 [==============================] - 0s 14ms/step\n",
            "Test Label: [3]\n",
            "Squeeze: [9.3495822e-07 4.2516200e-05 4.2140265e-03 9.6386558e-01 3.1876996e-02]\n",
            "Predicted:  3\n"
          ]
        }
      ],
      "source": [
        "# Inference Inference\n",
        "\n",
        "predict_result = model.predict(np.array([X_test[1]]))\n",
        "print(\"Test Label:\",np.array([y_test[1]]))\n",
        "print(\"Squeeze:\", np.squeeze(predict_result)) # make it a single dimention\n",
        "print(\"Predicted: \",np.argmax(np.squeeze(predict_result))) # get the index of the max element of the array"
      ]
    },
    {
      "attachments": {},
      "cell_type": "markdown",
      "metadata": {
        "id": "S3U4yNWx9hE4"
      },
      "source": [
        "# Confusion Matrix"
      ]
    },
    {
      "cell_type": "code",
      "execution_count": 30,
      "metadata": {
        "colab": {
          "base_uri": "https://localhost:8080/",
          "height": 582
        },
        "id": "AP1V6SCk9hE5",
        "outputId": "08e41a80-7a4a-4619-8125-ecc371368d19"
      },
      "outputs": [
        {
          "name": "stdout",
          "output_type": "stream",
          "text": [
            "13/13 [==============================] - 0s 754us/step\n"
          ]
        },
        {
          "data": {
            "image/png": "[encoded data removed]",
            "text/plain": [
              "<Figure size 700x600 with 2 Axes>"
            ]
          },
          "metadata": {},
          "output_type": "display_data"
        },
        {
          "name": "stdout",
          "output_type": "stream",
          "text": [
            "Classification Report\n",
            "              precision    recall  f1-score   support\n",
            "\n",
            "           1       1.00      1.00      1.00        98\n",
            "           2       1.00      1.00      1.00        99\n",
            "           3       1.00      1.00      1.00       103\n",
            "           4       1.00      1.00      1.00        95\n",
            "\n",
            "    accuracy                           1.00       395\n",
            "   macro avg       1.00      1.00      1.00       395\n",
            "weighted avg       1.00      1.00      1.00       395\n",
            "\n"
          ]
        }
      ],
      "source": [
        "import pandas as pd\n",
        "import seaborn as sns\n",
        "import matplotlib.pyplot as plt\n",
        "from sklearn.metrics import confusion_matrix, classification_report\n",
        "\n",
        "def print_confusion_matrix(y_true, y_pred, report=True):\n",
        "    labels = sorted(list(set(y_true)))\n",
        "    cmx_data = confusion_matrix(y_true, y_pred, labels=labels)\n",
        "    \n",
        "    df_cmx = pd.DataFrame(cmx_data, index=labels, columns=labels)\n",
        " \n",
        "    fig, ax = plt.subplots(figsize=(7, 6))\n",
        "    sns.heatmap(df_cmx, annot=True, fmt='g' ,square=False, cmap=\"YlGnBu\")\n",
        "    ax.set_ylim(len(set(y_true)), 0)\n",
        "    plt.show()\n",
        "    \n",
        "    if report:\n",
        "        print('Classification Report')\n",
        "        print(classification_report(y_test, y_pred))\n",
        "\n",
        "Y_pred = model.predict(X_test)\n",
        "y_pred = np.argmax(Y_pred, axis=1)\n",
        "\n",
        "print_confusion_matrix(y_test, y_pred)"
      ]
    },
    {
      "attachments": {},
      "cell_type": "markdown",
      "metadata": {
        "id": "FNP6aqzc9hE5"
      },
      "source": [
        "# Convert Model for Tensorflow-Lite"
      ]
    },
    {
      "cell_type": "code",
      "execution_count": 31,
      "metadata": {
        "id": "ODjnYyld9hE6"
      },
      "outputs": [],
      "source": [
        "# Save as a model dedicated to inference\n",
        "\n",
        "model.save(model_save_path, include_optimizer=False)"
      ]
    },
    {
      "cell_type": "code",
      "execution_count": 32,
      "metadata": {
        "colab": {
          "base_uri": "https://localhost:8080/"
        },
        "id": "zRfuK8Y59hE6",
        "outputId": "a4ca585c-b5d5-4244-8291-8674063209bb"
      },
      "outputs": [
        {
          "name": "stderr",
          "output_type": "stream",
          "text": [
            "WARNING:absl:Found untraced functions such as _update_step_xla while saving (showing 1 of 1). These functions will not be directly callable after loading.\n"
          ]
        },
        {
          "name": "stdout",
          "output_type": "stream",
          "text": [
            "INFO:tensorflow:Assets written to: C:\\Users\\laurs\\AppData\\Local\\Temp\\tmpe5kvlokh\\assets\n"
          ]
        },
        {
          "name": "stderr",
          "output_type": "stream",
          "text": [
            "INFO:tensorflow:Assets written to: C:\\Users\\laurs\\AppData\\Local\\Temp\\tmpe5kvlokh\\assets\n"
          ]
        },
        {
          "data": {
            "text/plain": [
              "6588"
            ]
          },
          "execution_count": 32,
          "metadata": {},
          "output_type": "execute_result"
        }
      ],
      "source": [
        "# Transform model (quantization)\n",
        "\n",
        "converter = tf.lite.TFLiteConverter.from_keras_model(model)\n",
        "converter.optimizations = [tf.lite.Optimize.DEFAULT]\n",
        "tflite_quantized_model = converter.convert()\n",
        "\n",
        "open(tflite_save_path, 'wb').write(tflite_quantized_model)"
      ]
    },
    {
      "attachments": {},
      "cell_type": "markdown",
      "metadata": {
        "id": "CHBPBXdx9hE6"
      },
      "source": [
        "# Inference Test"
      ]
    },
    {
      "cell_type": "code",
      "execution_count": 33,
      "metadata": {
        "id": "mGAzLocO9hE7"
      },
      "outputs": [],
      "source": [
        "interpreter = tf.lite.Interpreter(model_path=tflite_save_path)\n",
        "interpreter.allocate_tensors()"
      ]
    },
    {
      "cell_type": "code",
      "execution_count": 34,
      "metadata": {
        "id": "oQuDK8YS9hE7"
      },
      "outputs": [],
      "source": [
        "# Get I / O tensor\n",
        "input_details = interpreter.get_input_details()\n",
        "output_details = interpreter.get_output_details()"
      ]
    },
    {
      "cell_type": "code",
      "execution_count": 35,
      "metadata": {
        "id": "2_ixAf_l9hE7"
      },
      "outputs": [],
      "source": [
        "interpreter.set_tensor(input_details[0]['index'], np.array([X_test[0]]))"
      ]
    },
    {
      "cell_type": "code",
      "execution_count": 36,
      "metadata": {
        "colab": {
          "base_uri": "https://localhost:8080/"
        },
        "id": "s4FoAnuc9hE7",
        "outputId": "91f18257-8d8b-4ef3-c558-e9b5f94fabbf",
        "scrolled": true
      },
      "outputs": [
        {
          "name": "stdout",
          "output_type": "stream",
          "text": [
            "CPU times: total: 0 ns\n",
            "Wall time: 0 ns\n"
          ]
        }
      ],
      "source": [
        "%%time\n",
        "# Inference implementation\n",
        "interpreter.invoke()\n",
        "tflite_results = interpreter.get_tensor(output_details[0]['index'])"
      ]
    },
    {
      "attachments": {},
      "cell_type": "markdown",
      "metadata": {},
      "source": [
        "Check if all labels were considered in the TFLITE converted RNN "
      ]
    },
    {
      "cell_type": "code",
      "execution_count": 44,
      "metadata": {
        "colab": {
          "base_uri": "https://localhost:8080/"
        },
        "id": "vONjp19J9hE8",
        "outputId": "77205e24-fd00-42c4-f7b6-e06e527c2cba"
      },
      "outputs": [
        {
          "name": "stdout",
          "output_type": "stream",
          "text": [
            "[1.2878631e-07 9.7487085e-03 1.0921113e-01 3.6756744e-04 8.8067251e-01]\n",
            "Recorded Labels: 5 of 5 Original Trained Labels:\n",
            "\n",
            "*** END OF TRAINIG ***\n"
          ]
        }
      ],
      "source": [
        "print(np.squeeze(tflite_results))\n",
        "print(\"Recorded Labels:\",np.argmax(np.squeeze(tflite_results))+1,\"of\",NUM_CLASSES,\"Original Trained Labels:\")\n",
        "print(\"\")\n",
        "print(\"*** END OF TRAINIG ***\")"
      ]
    }
  ],
  "metadata": {
    "accelerator": "GPU",
    "colab": {
      "collapsed_sections": [],
      "name": "keypoint_classification_EN.ipynb",
      "provenance": [],
      "toc_visible": true
    },
    "kernelspec": {
      "display_name": "Python 3",
      "language": "python",
      "name": "python3"
    },
    "language_info": {
      "codemirror_mode": {
        "name": "ipython",
        "version": 3
      },
      "file_extension": ".py",
      "mimetype": "text/x-python",
      "name": "python",
      "nbconvert_exporter": "python",
      "pygments_lexer": "ipython3",
      "version": "3.10.10"
    },
    "vscode": {
      "interpreter": {
        "hash": "540b1d93a0206432ea81f0358eb88b71755f9df1b03cc764dbc9d8857e2e8ba5"
      }
    }
  },
  "nbformat": 4,
  "nbformat_minor": 0
}
