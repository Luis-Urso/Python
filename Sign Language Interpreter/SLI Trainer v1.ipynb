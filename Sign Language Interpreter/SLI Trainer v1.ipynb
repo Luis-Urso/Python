{
  "cells": [
    {
      "attachments": {},
      "cell_type": "markdown",
      "metadata": {},
      "source": [
        "## SLI Training Script \n",
        "## By Luis A. Urso\n",
        "## 27-JAN-2023 - version 1\n",
        "##"
      ]
    },
    {
      "cell_type": "code",
      "execution_count": 1,
      "metadata": {
        "id": "igMyGnjE9hEp"
      },
      "outputs": [],
      "source": [
        "import csv\n",
        "\n",
        "import numpy as np\n",
        "import tensorflow as tf\n",
        "import pydot\n",
        "from sklearn.model_selection import train_test_split\n",
        "from keras.utils import plot_model\n",
        "\n",
        "RANDOM_SEED = 42"
      ]
    },
    {
      "cell_type": "markdown",
      "metadata": {},
      "source": [
        "# Setup Global Variables"
      ]
    },
    {
      "attachments": {},
      "cell_type": "markdown",
      "metadata": {
        "id": "t2HDvhIu9hEr"
      },
      "source": [
        " Define the files path"
      ]
    },
    {
      "cell_type": "code",
      "execution_count": 2,
      "metadata": {
        "id": "9NvZP2Zn9hEy"
      },
      "outputs": [],
      "source": [
        "dataset = 'model/training_data.csv'\n",
        "model_save_path = 'model/training_classifierf.hdf5'\n",
        "tflite_save_path = 'model/training_classifier.tflite'"
      ]
    },
    {
      "attachments": {},
      "cell_type": "markdown",
      "metadata": {
        "id": "s5oMH7x19hEz"
      },
      "source": [
        "Set number of classes"
      ]
    },
    {
      "cell_type": "code",
      "execution_count": 14,
      "metadata": {
        "id": "du4kodXL9hEz"
      },
      "outputs": [],
      "source": [
        "NUM_CLASSES = 5"
      ]
    },
    {
      "attachments": {},
      "cell_type": "markdown",
      "metadata": {},
      "source": [
        "# Dataset Preparation"
      ]
    },
    {
      "attachments": {},
      "cell_type": "markdown",
      "metadata": {
        "id": "XjnL0uso9hEz"
      },
      "source": [
        "Dataset loading"
      ]
    },
    {
      "cell_type": "code",
      "execution_count": 15,
      "metadata": {
        "id": "QT5ZqtEz9hE0"
      },
      "outputs": [],
      "source": [
        "X_dataset = np.loadtxt(dataset, delimiter=',', dtype='float32', usecols=list(range(1, (21 * 2) + 1)))"
      ]
    },
    {
      "cell_type": "code",
      "execution_count": 16,
      "metadata": {},
      "outputs": [
        {
          "data": {
            "text/plain": [
              "(1414, 42)"
            ]
          },
          "execution_count": 16,
          "metadata": {},
          "output_type": "execute_result"
        }
      ],
      "source": [
        "X_dataset.shape"
      ]
    },
    {
      "cell_type": "code",
      "execution_count": 6,
      "metadata": {
        "id": "QmoKFsp49hE0"
      },
      "outputs": [],
      "source": [
        "y_dataset = np.loadtxt(dataset, delimiter=',', dtype='int32', usecols=(0))"
      ]
    },
    {
      "cell_type": "code",
      "execution_count": 17,
      "metadata": {},
      "outputs": [
        {
          "data": {
            "text/plain": [
              "(1414,)"
            ]
          },
          "execution_count": 17,
          "metadata": {},
          "output_type": "execute_result"
        }
      ],
      "source": [
        "y_dataset.shape"
      ]
    },
    {
      "attachments": {},
      "cell_type": "markdown",
      "metadata": {},
      "source": [
        "Split Data Sets into Train and Test"
      ]
    },
    {
      "cell_type": "code",
      "execution_count": 18,
      "metadata": {
        "id": "xQU7JTZ_9hE0"
      },
      "outputs": [],
      "source": [
        "X_train, X_test, y_train, y_test = train_test_split(X_dataset, y_dataset, train_size=0.75, random_state=RANDOM_SEED)"
      ]
    },
    {
      "attachments": {},
      "cell_type": "markdown",
      "metadata": {
        "id": "mxK_lETT9hE0"
      },
      "source": [
        "# Model Architecture & Building"
      ]
    },
    {
      "attachments": {},
      "cell_type": "markdown",
      "metadata": {},
      "source": [
        "FNN Model Arquitecture"
      ]
    },
    {
      "cell_type": "code",
      "execution_count": 19,
      "metadata": {
        "id": "vHBmUf1t9hE1"
      },
      "outputs": [],
      "source": [
        "model = tf.keras.models.Sequential([\n",
        "    tf.keras.layers.Input((21 * 2, )),\n",
        "    tf.keras.layers.Dropout(0.2),\n",
        "    tf.keras.layers.Dense(20, activation='relu'),\n",
        "    tf.keras.layers.Dropout(0.4),\n",
        "    tf.keras.layers.Dense(10, activation='relu'),\n",
        "    tf.keras.layers.Dense(NUM_CLASSES, activation='softmax')\n",
        "])"
      ]
    },
    {
      "cell_type": "code",
      "execution_count": 20,
      "metadata": {
        "colab": {
          "base_uri": "https://localhost:8080/"
        },
        "id": "ypqky9tc9hE1",
        "outputId": "5db082bb-30e3-4110-bf63-a1ee777ecd46"
      },
      "outputs": [
        {
          "name": "stdout",
          "output_type": "stream",
          "text": [
            "Model: \"sequential_1\"\n",
            "_________________________________________________________________\n",
            " Layer (type)                Output Shape              Param #   \n",
            "=================================================================\n",
            " dropout_2 (Dropout)         (None, 42)                0         \n",
            "                                                                 \n",
            " dense_3 (Dense)             (None, 20)                860       \n",
            "                                                                 \n",
            " dropout_3 (Dropout)         (None, 20)                0         \n",
            "                                                                 \n",
            " dense_4 (Dense)             (None, 10)                210       \n",
            "                                                                 \n",
            " dense_5 (Dense)             (None, 5)                 55        \n",
            "                                                                 \n",
            "=================================================================\n",
            "Total params: 1,125\n",
            "Trainable params: 1,125\n",
            "Non-trainable params: 0\n",
            "_________________________________________________________________\n"
          ]
        }
      ],
      "source": [
        "model.summary()  # tf.keras.utils.plot_model(model, show_shapes=True)"
      ]
    },
    {
      "attachments": {},
      "cell_type": "markdown",
      "metadata": {},
      "source": [
        "Model Pre-building Verification "
      ]
    },
    {
      "cell_type": "code",
      "execution_count": 21,
      "metadata": {
        "id": "MbMjOflQ9hE1"
      },
      "outputs": [],
      "source": [
        "# Model checkpoint callback\n",
        "cp_callback = tf.keras.callbacks.ModelCheckpoint(\n",
        "    model_save_path, verbose=1, save_weights_only=False)\n",
        "\n",
        "# Callback for early stopping\n",
        "es_callback = tf.keras.callbacks.EarlyStopping(patience=20, verbose=1)"
      ]
    },
    {
      "attachments": {},
      "cell_type": "markdown",
      "metadata": {},
      "source": [
        "Model Compilation"
      ]
    },
    {
      "cell_type": "code",
      "execution_count": 22,
      "metadata": {
        "id": "c3Dac0M_9hE2"
      },
      "outputs": [],
      "source": [
        "# Model compilation\n",
        "\n",
        "model.compile(\n",
        "    optimizer='adam',\n",
        "    loss='sparse_categorical_crossentropy',\n",
        "    metrics=['accuracy']\n",
        ")"
      ]
    },
    {
      "attachments": {},
      "cell_type": "markdown",
      "metadata": {
        "id": "7XI0j1Iu9hE2"
      },
      "source": [
        "# Model Training"
      ]
    },
    {
      "cell_type": "code",
      "execution_count": 23,
      "metadata": {
        "colab": {
          "base_uri": "https://localhost:8080/"
        },
        "id": "WirBl-JE9hE3",
        "outputId": "71b30ca2-8294-4d9d-8aa2-800d90d399de",
        "scrolled": true
      },
      "outputs": [
        {
          "name": "stdout",
          "output_type": "stream",
          "text": [
            "Epoch 1/1000\n",
            "1/9 [==>...........................] - ETA: 5s - loss: 1.8381 - accuracy: 0.1484\n",
            "Epoch 1: saving model to model\\training_classifierf.hdf5\n",
            "9/9 [==============================] - 1s 54ms/step - loss: 1.7815 - accuracy: 0.1736 - val_loss: 1.6591 - val_accuracy: 0.1610\n",
            "Epoch 2/1000\n",
            "1/9 [==>...........................] - ETA: 0s - loss: 1.7469 - accuracy: 0.1562\n",
            "Epoch 2: saving model to model\\training_classifierf.hdf5\n",
            "9/9 [==============================] - 0s 14ms/step - loss: 1.6515 - accuracy: 0.2274 - val_loss: 1.5523 - val_accuracy: 0.2768\n",
            "Epoch 3/1000\n",
            "1/9 [==>...........................] - ETA: 0s - loss: 1.5681 - accuracy: 0.2344\n",
            "Epoch 3: saving model to model\\training_classifierf.hdf5\n",
            "9/9 [==============================] - 0s 15ms/step - loss: 1.5509 - accuracy: 0.2632 - val_loss: 1.4736 - val_accuracy: 0.5198\n",
            "Epoch 4/1000\n",
            "1/9 [==>...........................] - ETA: 0s - loss: 1.6270 - accuracy: 0.2109\n",
            "Epoch 4: saving model to model\\training_classifierf.hdf5\n",
            "9/9 [==============================] - 0s 13ms/step - loss: 1.5102 - accuracy: 0.3038 - val_loss: 1.4055 - val_accuracy: 0.6384\n",
            "Epoch 5/1000\n",
            "1/9 [==>...........................] - ETA: 0s - loss: 1.4420 - accuracy: 0.3594\n",
            "Epoch 5: saving model to model\\training_classifierf.hdf5\n",
            "9/9 [==============================] - 0s 13ms/step - loss: 1.4318 - accuracy: 0.3575 - val_loss: 1.3321 - val_accuracy: 0.6554\n",
            "Epoch 6/1000\n",
            "1/9 [==>...........................] - ETA: 0s - loss: 1.4170 - accuracy: 0.3828\n",
            "Epoch 6: saving model to model\\training_classifierf.hdf5\n",
            "9/9 [==============================] - 0s 14ms/step - loss: 1.3787 - accuracy: 0.4009 - val_loss: 1.2601 - val_accuracy: 0.6977\n",
            "Epoch 7/1000\n",
            "1/9 [==>...........................] - ETA: 0s - loss: 1.3205 - accuracy: 0.4609\n",
            "Epoch 7: saving model to model\\training_classifierf.hdf5\n",
            "9/9 [==============================] - 0s 14ms/step - loss: 1.3077 - accuracy: 0.4575 - val_loss: 1.1976 - val_accuracy: 0.7006\n",
            "Epoch 8/1000\n",
            "1/9 [==>...........................] - ETA: 0s - loss: 1.2844 - accuracy: 0.4766\n",
            "Epoch 8: saving model to model\\training_classifierf.hdf5\n",
            "9/9 [==============================] - 0s 14ms/step - loss: 1.2402 - accuracy: 0.4774 - val_loss: 1.1370 - val_accuracy: 0.7090\n",
            "Epoch 9/1000\n",
            "1/9 [==>...........................] - ETA: 0s - loss: 1.2502 - accuracy: 0.3906\n",
            "Epoch 9: saving model to model\\training_classifierf.hdf5\n",
            "9/9 [==============================] - 0s 15ms/step - loss: 1.1939 - accuracy: 0.4783 - val_loss: 1.0785 - val_accuracy: 0.7203\n",
            "Epoch 10/1000\n",
            "7/9 [======================>.......] - ETA: 0s - loss: 1.1455 - accuracy: 0.5056\n",
            "Epoch 10: saving model to model\\training_classifierf.hdf5\n",
            "9/9 [==============================] - 0s 22ms/step - loss: 1.1508 - accuracy: 0.5019 - val_loss: 1.0195 - val_accuracy: 0.7429\n",
            "Epoch 11/1000\n",
            "1/9 [==>...........................] - ETA: 0s - loss: 1.1284 - accuracy: 0.5078\n",
            "Epoch 11: saving model to model\\training_classifierf.hdf5\n",
            "9/9 [==============================] - 0s 13ms/step - loss: 1.1204 - accuracy: 0.5047 - val_loss: 0.9655 - val_accuracy: 0.7316\n",
            "Epoch 12/1000\n",
            "1/9 [==>...........................] - ETA: 0s - loss: 1.1401 - accuracy: 0.5234\n",
            "Epoch 12: saving model to model\\training_classifierf.hdf5\n",
            "9/9 [==============================] - 0s 12ms/step - loss: 1.0709 - accuracy: 0.5415 - val_loss: 0.9128 - val_accuracy: 0.7119\n",
            "Epoch 13/1000\n",
            "1/9 [==>...........................] - ETA: 0s - loss: 1.0953 - accuracy: 0.5078\n",
            "Epoch 13: saving model to model\\training_classifierf.hdf5\n",
            "9/9 [==============================] - 0s 12ms/step - loss: 1.0214 - accuracy: 0.5500 - val_loss: 0.8642 - val_accuracy: 0.6921\n",
            "Epoch 14/1000\n",
            "1/9 [==>...........................] - ETA: 0s - loss: 0.9780 - accuracy: 0.6016\n",
            "Epoch 14: saving model to model\\training_classifierf.hdf5\n",
            "9/9 [==============================] - 0s 13ms/step - loss: 0.9890 - accuracy: 0.5660 - val_loss: 0.8164 - val_accuracy: 0.6808\n",
            "Epoch 15/1000\n",
            "1/9 [==>...........................] - ETA: 0s - loss: 0.9976 - accuracy: 0.5625\n",
            "Epoch 15: saving model to model\\training_classifierf.hdf5\n",
            "9/9 [==============================] - 0s 14ms/step - loss: 0.9480 - accuracy: 0.5943 - val_loss: 0.7735 - val_accuracy: 0.7119\n",
            "Epoch 16/1000\n",
            "1/9 [==>...........................] - ETA: 0s - loss: 0.9663 - accuracy: 0.5469\n",
            "Epoch 16: saving model to model\\training_classifierf.hdf5\n",
            "9/9 [==============================] - 0s 14ms/step - loss: 0.9195 - accuracy: 0.6198 - val_loss: 0.7256 - val_accuracy: 0.7966\n",
            "Epoch 17/1000\n",
            "1/9 [==>...........................] - ETA: 0s - loss: 0.8996 - accuracy: 0.6016\n",
            "Epoch 17: saving model to model\\training_classifierf.hdf5\n",
            "9/9 [==============================] - 0s 14ms/step - loss: 0.8846 - accuracy: 0.6349 - val_loss: 0.6871 - val_accuracy: 0.8023\n",
            "Epoch 18/1000\n",
            "1/9 [==>...........................] - ETA: 0s - loss: 0.8717 - accuracy: 0.6406\n",
            "Epoch 18: saving model to model\\training_classifierf.hdf5\n",
            "9/9 [==============================] - 0s 15ms/step - loss: 0.8471 - accuracy: 0.6670 - val_loss: 0.6500 - val_accuracy: 0.8390\n",
            "Epoch 19/1000\n",
            "1/9 [==>...........................] - ETA: 0s - loss: 0.7822 - accuracy: 0.7188\n",
            "Epoch 19: saving model to model\\training_classifierf.hdf5\n",
            "9/9 [==============================] - 0s 14ms/step - loss: 0.8048 - accuracy: 0.6896 - val_loss: 0.6183 - val_accuracy: 0.8249\n",
            "Epoch 20/1000\n",
            "1/9 [==>...........................] - ETA: 0s - loss: 0.7620 - accuracy: 0.7344\n",
            "Epoch 20: saving model to model\\training_classifierf.hdf5\n",
            "9/9 [==============================] - 0s 14ms/step - loss: 0.7845 - accuracy: 0.7028 - val_loss: 0.5837 - val_accuracy: 0.8418\n",
            "Epoch 21/1000\n",
            "1/9 [==>...........................] - ETA: 0s - loss: 0.7864 - accuracy: 0.6875\n",
            "Epoch 21: saving model to model\\training_classifierf.hdf5\n",
            "9/9 [==============================] - 0s 13ms/step - loss: 0.7691 - accuracy: 0.7170 - val_loss: 0.5492 - val_accuracy: 0.8842\n",
            "Epoch 22/1000\n",
            "1/9 [==>...........................] - ETA: 0s - loss: 0.7114 - accuracy: 0.7812\n",
            "Epoch 22: saving model to model\\training_classifierf.hdf5\n",
            "9/9 [==============================] - 0s 14ms/step - loss: 0.7623 - accuracy: 0.7358 - val_loss: 0.5185 - val_accuracy: 0.8898\n",
            "Epoch 23/1000\n",
            "1/9 [==>...........................] - ETA: 0s - loss: 0.6910 - accuracy: 0.7734\n",
            "Epoch 23: saving model to model\\training_classifierf.hdf5\n",
            "9/9 [==============================] - 0s 13ms/step - loss: 0.7342 - accuracy: 0.7160 - val_loss: 0.5005 - val_accuracy: 0.8475\n",
            "Epoch 24/1000\n",
            "6/9 [===================>..........] - ETA: 0s - loss: 0.6770 - accuracy: 0.7630\n",
            "Epoch 24: saving model to model\\training_classifierf.hdf5\n",
            "9/9 [==============================] - 0s 20ms/step - loss: 0.6892 - accuracy: 0.7519 - val_loss: 0.4782 - val_accuracy: 0.8475\n",
            "Epoch 25/1000\n",
            "1/9 [==>...........................] - ETA: 0s - loss: 0.6928 - accuracy: 0.7734\n",
            "Epoch 25: saving model to model\\training_classifierf.hdf5\n",
            "9/9 [==============================] - 0s 15ms/step - loss: 0.6543 - accuracy: 0.7632 - val_loss: 0.4458 - val_accuracy: 0.9124\n",
            "Epoch 26/1000\n",
            "1/9 [==>...........................] - ETA: 0s - loss: 0.6918 - accuracy: 0.7500\n",
            "Epoch 26: saving model to model\\training_classifierf.hdf5\n",
            "9/9 [==============================] - 0s 19ms/step - loss: 0.6507 - accuracy: 0.7538 - val_loss: 0.4183 - val_accuracy: 0.9322\n",
            "Epoch 27/1000\n",
            "1/9 [==>...........................] - ETA: 0s - loss: 0.5071 - accuracy: 0.8672\n",
            "Epoch 27: saving model to model\\training_classifierf.hdf5\n",
            "9/9 [==============================] - 0s 16ms/step - loss: 0.6203 - accuracy: 0.7821 - val_loss: 0.3950 - val_accuracy: 0.9237\n",
            "Epoch 28/1000\n",
            "1/9 [==>...........................] - ETA: 0s - loss: 0.6142 - accuracy: 0.7422\n",
            "Epoch 28: saving model to model\\training_classifierf.hdf5\n",
            "9/9 [==============================] - 0s 14ms/step - loss: 0.6076 - accuracy: 0.7670 - val_loss: 0.3762 - val_accuracy: 0.9153\n",
            "Epoch 29/1000\n",
            "1/9 [==>...........................] - ETA: 0s - loss: 0.5975 - accuracy: 0.8047\n",
            "Epoch 29: saving model to model\\training_classifierf.hdf5\n",
            "9/9 [==============================] - 0s 14ms/step - loss: 0.5822 - accuracy: 0.7887 - val_loss: 0.3563 - val_accuracy: 0.9266\n",
            "Epoch 30/1000\n",
            "1/9 [==>...........................] - ETA: 0s - loss: 0.4568 - accuracy: 0.8594\n",
            "Epoch 30: saving model to model\\training_classifierf.hdf5\n",
            "9/9 [==============================] - 0s 14ms/step - loss: 0.5471 - accuracy: 0.8057 - val_loss: 0.3393 - val_accuracy: 0.9266\n",
            "Epoch 31/1000\n",
            "1/9 [==>...........................] - ETA: 0s - loss: 0.5464 - accuracy: 0.8203\n",
            "Epoch 31: saving model to model\\training_classifierf.hdf5\n",
            "9/9 [==============================] - 0s 13ms/step - loss: 0.5621 - accuracy: 0.7925 - val_loss: 0.3216 - val_accuracy: 0.9294\n",
            "Epoch 32/1000\n",
            "1/9 [==>...........................] - ETA: 0s - loss: 0.5526 - accuracy: 0.7656\n",
            "Epoch 32: saving model to model\\training_classifierf.hdf5\n",
            "9/9 [==============================] - 0s 14ms/step - loss: 0.5340 - accuracy: 0.8075 - val_loss: 0.3017 - val_accuracy: 0.9350\n",
            "Epoch 33/1000\n",
            "1/9 [==>...........................] - ETA: 0s - loss: 0.4383 - accuracy: 0.8516\n",
            "Epoch 33: saving model to model\\training_classifierf.hdf5\n",
            "9/9 [==============================] - 0s 13ms/step - loss: 0.5084 - accuracy: 0.8123 - val_loss: 0.2872 - val_accuracy: 0.9379\n",
            "Epoch 34/1000\n",
            "1/9 [==>...........................] - ETA: 0s - loss: 0.4495 - accuracy: 0.8516\n",
            "Epoch 34: saving model to model\\training_classifierf.hdf5\n",
            "9/9 [==============================] - 0s 13ms/step - loss: 0.4536 - accuracy: 0.8453 - val_loss: 0.2797 - val_accuracy: 0.9322\n",
            "Epoch 35/1000\n",
            "1/9 [==>...........................] - ETA: 0s - loss: 0.5130 - accuracy: 0.8125\n",
            "Epoch 35: saving model to model\\training_classifierf.hdf5\n",
            "9/9 [==============================] - 0s 15ms/step - loss: 0.4800 - accuracy: 0.8302 - val_loss: 0.2654 - val_accuracy: 0.9379\n",
            "Epoch 36/1000\n",
            "8/9 [=========================>....] - ETA: 0s - loss: 0.4751 - accuracy: 0.7998\n",
            "Epoch 36: saving model to model\\training_classifierf.hdf5\n",
            "9/9 [==============================] - 0s 25ms/step - loss: 0.4749 - accuracy: 0.8009 - val_loss: 0.2497 - val_accuracy: 0.9548\n",
            "Epoch 37/1000\n",
            "1/9 [==>...........................] - ETA: 0s - loss: 0.4340 - accuracy: 0.8438\n",
            "Epoch 37: saving model to model\\training_classifierf.hdf5\n",
            "9/9 [==============================] - 0s 17ms/step - loss: 0.4695 - accuracy: 0.8236 - val_loss: 0.2413 - val_accuracy: 0.9548\n",
            "Epoch 38/1000\n",
            "1/9 [==>...........................] - ETA: 0s - loss: 0.4358 - accuracy: 0.8516\n",
            "Epoch 38: saving model to model\\training_classifierf.hdf5\n",
            "9/9 [==============================] - 0s 14ms/step - loss: 0.4498 - accuracy: 0.8330 - val_loss: 0.2359 - val_accuracy: 0.9520\n",
            "Epoch 39/1000\n",
            "1/9 [==>...........................] - ETA: 0s - loss: 0.5164 - accuracy: 0.7656\n",
            "Epoch 39: saving model to model\\training_classifierf.hdf5\n",
            "9/9 [==============================] - 0s 16ms/step - loss: 0.4413 - accuracy: 0.8255 - val_loss: 0.2298 - val_accuracy: 0.9520\n",
            "Epoch 40/1000\n",
            "1/9 [==>...........................] - ETA: 0s - loss: 0.4048 - accuracy: 0.8594\n",
            "Epoch 40: saving model to model\\training_classifierf.hdf5\n",
            "9/9 [==============================] - 0s 16ms/step - loss: 0.4447 - accuracy: 0.8415 - val_loss: 0.2279 - val_accuracy: 0.9435\n",
            "Epoch 41/1000\n",
            "1/9 [==>...........................] - ETA: 0s - loss: 0.4214 - accuracy: 0.8750\n",
            "Epoch 41: saving model to model\\training_classifierf.hdf5\n",
            "9/9 [==============================] - 0s 15ms/step - loss: 0.4256 - accuracy: 0.8538 - val_loss: 0.2185 - val_accuracy: 0.9548\n",
            "Epoch 42/1000\n",
            "1/9 [==>...........................] - ETA: 0s - loss: 0.3880 - accuracy: 0.8750\n",
            "Epoch 42: saving model to model\\training_classifierf.hdf5\n",
            "9/9 [==============================] - 0s 13ms/step - loss: 0.4229 - accuracy: 0.8491 - val_loss: 0.2088 - val_accuracy: 0.9661\n",
            "Epoch 43/1000\n",
            "1/9 [==>...........................] - ETA: 0s - loss: 0.4189 - accuracy: 0.8750\n",
            "Epoch 43: saving model to model\\training_classifierf.hdf5\n",
            "9/9 [==============================] - 0s 13ms/step - loss: 0.4103 - accuracy: 0.8491 - val_loss: 0.2032 - val_accuracy: 0.9661\n",
            "Epoch 44/1000\n",
            "1/9 [==>...........................] - ETA: 0s - loss: 0.3053 - accuracy: 0.8906\n",
            "Epoch 44: saving model to model\\training_classifierf.hdf5\n",
            "9/9 [==============================] - 0s 13ms/step - loss: 0.3865 - accuracy: 0.8651 - val_loss: 0.1986 - val_accuracy: 0.9661\n",
            "Epoch 45/1000\n",
            "1/9 [==>...........................] - ETA: 0s - loss: 0.4849 - accuracy: 0.8203\n",
            "Epoch 45: saving model to model\\training_classifierf.hdf5\n",
            "9/9 [==============================] - 0s 14ms/step - loss: 0.3965 - accuracy: 0.8519 - val_loss: 0.1899 - val_accuracy: 0.9661\n",
            "Epoch 46/1000\n",
            "1/9 [==>...........................] - ETA: 0s - loss: 0.4008 - accuracy: 0.8594\n",
            "Epoch 46: saving model to model\\training_classifierf.hdf5\n",
            "9/9 [==============================] - 0s 13ms/step - loss: 0.3965 - accuracy: 0.8604 - val_loss: 0.1860 - val_accuracy: 0.9605\n",
            "Epoch 47/1000\n",
            "1/9 [==>...........................] - ETA: 0s - loss: 0.3246 - accuracy: 0.8594\n",
            "Epoch 47: saving model to model\\training_classifierf.hdf5\n",
            "9/9 [==============================] - 0s 19ms/step - loss: 0.3726 - accuracy: 0.8585 - val_loss: 0.1777 - val_accuracy: 0.9661\n",
            "Epoch 48/1000\n",
            "1/9 [==>...........................] - ETA: 0s - loss: 0.3720 - accuracy: 0.8828\n",
            "Epoch 48: saving model to model\\training_classifierf.hdf5\n",
            "9/9 [==============================] - 0s 14ms/step - loss: 0.3896 - accuracy: 0.8509 - val_loss: 0.1728 - val_accuracy: 0.9746\n",
            "Epoch 49/1000\n",
            "1/9 [==>...........................] - ETA: 0s - loss: 0.3906 - accuracy: 0.8359\n",
            "Epoch 49: saving model to model\\training_classifierf.hdf5\n",
            "9/9 [==============================] - 0s 15ms/step - loss: 0.3540 - accuracy: 0.8679 - val_loss: 0.1703 - val_accuracy: 0.9746\n",
            "Epoch 50/1000\n",
            "1/9 [==>...........................] - ETA: 0s - loss: 0.3850 - accuracy: 0.8203\n",
            "Epoch 50: saving model to model\\training_classifierf.hdf5\n",
            "9/9 [==============================] - 0s 13ms/step - loss: 0.3569 - accuracy: 0.8755 - val_loss: 0.1666 - val_accuracy: 0.9746\n",
            "Epoch 51/1000\n",
            "1/9 [==>...........................] - ETA: 0s - loss: 0.3619 - accuracy: 0.8906\n",
            "Epoch 51: saving model to model\\training_classifierf.hdf5\n",
            "9/9 [==============================] - 0s 13ms/step - loss: 0.3455 - accuracy: 0.8792 - val_loss: 0.1628 - val_accuracy: 0.9689\n",
            "Epoch 52/1000\n",
            "1/9 [==>...........................] - ETA: 0s - loss: 0.3432 - accuracy: 0.8828\n",
            "Epoch 52: saving model to model\\training_classifierf.hdf5\n",
            "9/9 [==============================] - 0s 15ms/step - loss: 0.3599 - accuracy: 0.8708 - val_loss: 0.1561 - val_accuracy: 0.9774\n",
            "Epoch 53/1000\n",
            "1/9 [==>...........................] - ETA: 0s - loss: 0.2909 - accuracy: 0.9062\n",
            "Epoch 53: saving model to model\\training_classifierf.hdf5\n",
            "9/9 [==============================] - 0s 15ms/step - loss: 0.3439 - accuracy: 0.8783 - val_loss: 0.1514 - val_accuracy: 0.9774\n",
            "Epoch 54/1000\n",
            "1/9 [==>...........................] - ETA: 0s - loss: 0.3107 - accuracy: 0.8750\n",
            "Epoch 54: saving model to model\\training_classifierf.hdf5\n",
            "9/9 [==============================] - 0s 14ms/step - loss: 0.3318 - accuracy: 0.8679 - val_loss: 0.1492 - val_accuracy: 0.9774\n",
            "Epoch 55/1000\n",
            "1/9 [==>...........................] - ETA: 0s - loss: 0.2911 - accuracy: 0.9219\n",
            "Epoch 55: saving model to model\\training_classifierf.hdf5\n",
            "9/9 [==============================] - 0s 13ms/step - loss: 0.3486 - accuracy: 0.8736 - val_loss: 0.1439 - val_accuracy: 0.9774\n",
            "Epoch 56/1000\n",
            "1/9 [==>...........................] - ETA: 0s - loss: 0.2367 - accuracy: 0.9141\n",
            "Epoch 56: saving model to model\\training_classifierf.hdf5\n",
            "9/9 [==============================] - 0s 13ms/step - loss: 0.3300 - accuracy: 0.8792 - val_loss: 0.1407 - val_accuracy: 0.9774\n",
            "Epoch 57/1000\n",
            "1/9 [==>...........................] - ETA: 0s - loss: 0.3118 - accuracy: 0.8906\n",
            "Epoch 57: saving model to model\\training_classifierf.hdf5\n",
            "9/9 [==============================] - 0s 12ms/step - loss: 0.3191 - accuracy: 0.8858 - val_loss: 0.1370 - val_accuracy: 0.9774\n",
            "Epoch 58/1000\n",
            "1/9 [==>...........................] - ETA: 0s - loss: 0.3920 - accuracy: 0.8359\n",
            "Epoch 58: saving model to model\\training_classifierf.hdf5\n",
            "9/9 [==============================] - 0s 19ms/step - loss: 0.3106 - accuracy: 0.8858 - val_loss: 0.1371 - val_accuracy: 0.9774\n",
            "Epoch 59/1000\n",
            "1/9 [==>...........................] - ETA: 0s - loss: 0.3519 - accuracy: 0.8438\n",
            "Epoch 59: saving model to model\\training_classifierf.hdf5\n",
            "9/9 [==============================] - 0s 13ms/step - loss: 0.3337 - accuracy: 0.8811 - val_loss: 0.1304 - val_accuracy: 0.9774\n",
            "Epoch 60/1000\n",
            "1/9 [==>...........................] - ETA: 0s - loss: 0.3078 - accuracy: 0.8750\n",
            "Epoch 60: saving model to model\\training_classifierf.hdf5\n",
            "9/9 [==============================] - 0s 12ms/step - loss: 0.3113 - accuracy: 0.8972 - val_loss: 0.1261 - val_accuracy: 0.9774\n",
            "Epoch 61/1000\n",
            "1/9 [==>...........................] - ETA: 0s - loss: 0.3097 - accuracy: 0.9062\n",
            "Epoch 61: saving model to model\\training_classifierf.hdf5\n",
            "9/9 [==============================] - 0s 13ms/step - loss: 0.2990 - accuracy: 0.8953 - val_loss: 0.1253 - val_accuracy: 0.9774\n",
            "Epoch 62/1000\n",
            "1/9 [==>...........................] - ETA: 0s - loss: 0.2920 - accuracy: 0.9062\n",
            "Epoch 62: saving model to model\\training_classifierf.hdf5\n",
            "9/9 [==============================] - 0s 13ms/step - loss: 0.2937 - accuracy: 0.9085 - val_loss: 0.1259 - val_accuracy: 0.9774\n",
            "Epoch 63/1000\n",
            "1/9 [==>...........................] - ETA: 0s - loss: 0.3386 - accuracy: 0.8828\n",
            "Epoch 63: saving model to model\\training_classifierf.hdf5\n",
            "9/9 [==============================] - 0s 13ms/step - loss: 0.2985 - accuracy: 0.8981 - val_loss: 0.1225 - val_accuracy: 0.9774\n",
            "Epoch 64/1000\n",
            "1/9 [==>...........................] - ETA: 0s - loss: 0.3091 - accuracy: 0.8750\n",
            "Epoch 64: saving model to model\\training_classifierf.hdf5\n",
            "9/9 [==============================] - 0s 12ms/step - loss: 0.2945 - accuracy: 0.8981 - val_loss: 0.1168 - val_accuracy: 0.9774\n",
            "Epoch 65/1000\n",
            "1/9 [==>...........................] - ETA: 0s - loss: 0.3159 - accuracy: 0.9141\n",
            "Epoch 65: saving model to model\\training_classifierf.hdf5\n",
            "9/9 [==============================] - 0s 13ms/step - loss: 0.3200 - accuracy: 0.8821 - val_loss: 0.1138 - val_accuracy: 0.9774\n",
            "Epoch 66/1000\n",
            "1/9 [==>...........................] - ETA: 0s - loss: 0.3507 - accuracy: 0.8594\n",
            "Epoch 66: saving model to model\\training_classifierf.hdf5\n",
            "9/9 [==============================] - 0s 14ms/step - loss: 0.3129 - accuracy: 0.8830 - val_loss: 0.1117 - val_accuracy: 0.9774\n",
            "Epoch 67/1000\n",
            "1/9 [==>...........................] - ETA: 0s - loss: 0.1951 - accuracy: 0.9531\n",
            "Epoch 67: saving model to model\\training_classifierf.hdf5\n",
            "9/9 [==============================] - 0s 13ms/step - loss: 0.2925 - accuracy: 0.8991 - val_loss: 0.1109 - val_accuracy: 0.9774\n",
            "Epoch 68/1000\n",
            "1/9 [==>...........................] - ETA: 0s - loss: 0.3696 - accuracy: 0.8594\n",
            "Epoch 68: saving model to model\\training_classifierf.hdf5\n",
            "9/9 [==============================] - 0s 14ms/step - loss: 0.2822 - accuracy: 0.9009 - val_loss: 0.1135 - val_accuracy: 0.9774\n",
            "Epoch 69/1000\n",
            "1/9 [==>...........................] - ETA: 0s - loss: 0.2783 - accuracy: 0.8906\n",
            "Epoch 69: saving model to model\\training_classifierf.hdf5\n",
            "9/9 [==============================] - 0s 18ms/step - loss: 0.2949 - accuracy: 0.8877 - val_loss: 0.1139 - val_accuracy: 0.9774\n",
            "Epoch 70/1000\n",
            "1/9 [==>...........................] - ETA: 0s - loss: 0.2864 - accuracy: 0.8906\n",
            "Epoch 70: saving model to model\\training_classifierf.hdf5\n",
            "9/9 [==============================] - 0s 14ms/step - loss: 0.2915 - accuracy: 0.9009 - val_loss: 0.1075 - val_accuracy: 0.9802\n",
            "Epoch 71/1000\n",
            "1/9 [==>...........................] - ETA: 0s - loss: 0.3158 - accuracy: 0.8906\n",
            "Epoch 71: saving model to model\\training_classifierf.hdf5\n",
            "9/9 [==============================] - 0s 13ms/step - loss: 0.2902 - accuracy: 0.8953 - val_loss: 0.1049 - val_accuracy: 0.9802\n",
            "Epoch 72/1000\n",
            "1/9 [==>...........................] - ETA: 0s - loss: 0.2260 - accuracy: 0.9297\n",
            "Epoch 72: saving model to model\\training_classifierf.hdf5\n",
            "9/9 [==============================] - 0s 13ms/step - loss: 0.2858 - accuracy: 0.8925 - val_loss: 0.1020 - val_accuracy: 0.9802\n",
            "Epoch 73/1000\n",
            "1/9 [==>...........................] - ETA: 0s - loss: 0.2566 - accuracy: 0.9219\n",
            "Epoch 73: saving model to model\\training_classifierf.hdf5\n",
            "9/9 [==============================] - 0s 12ms/step - loss: 0.2624 - accuracy: 0.9123 - val_loss: 0.0982 - val_accuracy: 0.9802\n",
            "Epoch 74/1000\n",
            "1/9 [==>...........................] - ETA: 0s - loss: 0.2694 - accuracy: 0.9141\n",
            "Epoch 74: saving model to model\\training_classifierf.hdf5\n",
            "9/9 [==============================] - 0s 14ms/step - loss: 0.2622 - accuracy: 0.9085 - val_loss: 0.0968 - val_accuracy: 0.9802\n",
            "Epoch 75/1000\n",
            "1/9 [==>...........................] - ETA: 0s - loss: 0.3040 - accuracy: 0.8984\n",
            "Epoch 75: saving model to model\\training_classifierf.hdf5\n",
            "9/9 [==============================] - 0s 14ms/step - loss: 0.2628 - accuracy: 0.9113 - val_loss: 0.0947 - val_accuracy: 0.9802\n",
            "Epoch 76/1000\n",
            "1/9 [==>...........................] - ETA: 0s - loss: 0.2065 - accuracy: 0.9062\n",
            "Epoch 76: saving model to model\\training_classifierf.hdf5\n",
            "9/9 [==============================] - 0s 15ms/step - loss: 0.2582 - accuracy: 0.9057 - val_loss: 0.0915 - val_accuracy: 0.9802\n",
            "Epoch 77/1000\n",
            "1/9 [==>...........................] - ETA: 0s - loss: 0.3455 - accuracy: 0.8516\n",
            "Epoch 77: saving model to model\\training_classifierf.hdf5\n",
            "9/9 [==============================] - 0s 15ms/step - loss: 0.2640 - accuracy: 0.9075 - val_loss: 0.0907 - val_accuracy: 0.9802\n",
            "Epoch 78/1000\n",
            "1/9 [==>...........................] - ETA: 0s - loss: 0.2011 - accuracy: 0.9219\n",
            "Epoch 78: saving model to model\\training_classifierf.hdf5\n",
            "9/9 [==============================] - 0s 16ms/step - loss: 0.2392 - accuracy: 0.9151 - val_loss: 0.0896 - val_accuracy: 0.9802\n",
            "Epoch 79/1000\n",
            "1/9 [==>...........................] - ETA: 0s - loss: 0.2293 - accuracy: 0.9219\n",
            "Epoch 79: saving model to model\\training_classifierf.hdf5\n",
            "9/9 [==============================] - 0s 15ms/step - loss: 0.2580 - accuracy: 0.9066 - val_loss: 0.0883 - val_accuracy: 0.9802\n",
            "Epoch 80/1000\n",
            "1/9 [==>...........................] - ETA: 0s - loss: 0.2673 - accuracy: 0.9297\n",
            "Epoch 80: saving model to model\\training_classifierf.hdf5\n",
            "9/9 [==============================] - 0s 16ms/step - loss: 0.2650 - accuracy: 0.9038 - val_loss: 0.0861 - val_accuracy: 0.9802\n",
            "Epoch 81/1000\n",
            "1/9 [==>...........................] - ETA: 0s - loss: 0.2145 - accuracy: 0.9375\n",
            "Epoch 81: saving model to model\\training_classifierf.hdf5\n",
            "9/9 [==============================] - 0s 14ms/step - loss: 0.2311 - accuracy: 0.9245 - val_loss: 0.0855 - val_accuracy: 0.9802\n",
            "Epoch 82/1000\n",
            "6/9 [===================>..........] - ETA: 0s - loss: 0.2449 - accuracy: 0.9102\n",
            "Epoch 82: saving model to model\\training_classifierf.hdf5\n",
            "9/9 [==============================] - 0s 24ms/step - loss: 0.2572 - accuracy: 0.9104 - val_loss: 0.0872 - val_accuracy: 0.9802\n",
            "Epoch 83/1000\n",
            "1/9 [==>...........................] - ETA: 0s - loss: 0.2867 - accuracy: 0.8984\n",
            "Epoch 83: saving model to model\\training_classifierf.hdf5\n",
            "9/9 [==============================] - 0s 18ms/step - loss: 0.2632 - accuracy: 0.9104 - val_loss: 0.0865 - val_accuracy: 0.9802\n",
            "Epoch 84/1000\n",
            "1/9 [==>...........................] - ETA: 0s - loss: 0.2502 - accuracy: 0.8906\n",
            "Epoch 84: saving model to model\\training_classifierf.hdf5\n",
            "9/9 [==============================] - 0s 19ms/step - loss: 0.2626 - accuracy: 0.9000 - val_loss: 0.0840 - val_accuracy: 0.9802\n",
            "Epoch 85/1000\n",
            "1/9 [==>...........................] - ETA: 0s - loss: 0.2912 - accuracy: 0.8828\n",
            "Epoch 85: saving model to model\\training_classifierf.hdf5\n",
            "9/9 [==============================] - 0s 20ms/step - loss: 0.2533 - accuracy: 0.9075 - val_loss: 0.0840 - val_accuracy: 0.9802\n",
            "Epoch 86/1000\n",
            "1/9 [==>...........................] - ETA: 0s - loss: 0.2499 - accuracy: 0.9375\n",
            "Epoch 86: saving model to model\\training_classifierf.hdf5\n",
            "9/9 [==============================] - 0s 19ms/step - loss: 0.2491 - accuracy: 0.9123 - val_loss: 0.0848 - val_accuracy: 0.9802\n",
            "Epoch 87/1000\n",
            "1/9 [==>...........................] - ETA: 0s - loss: 0.3066 - accuracy: 0.8750\n",
            "Epoch 87: saving model to model\\training_classifierf.hdf5\n",
            "9/9 [==============================] - 0s 17ms/step - loss: 0.2312 - accuracy: 0.9245 - val_loss: 0.0823 - val_accuracy: 0.9802\n",
            "Epoch 88/1000\n",
            "1/9 [==>...........................] - ETA: 0s - loss: 0.2457 - accuracy: 0.9375\n",
            "Epoch 88: saving model to model\\training_classifierf.hdf5\n",
            "9/9 [==============================] - 0s 16ms/step - loss: 0.2366 - accuracy: 0.9274 - val_loss: 0.0830 - val_accuracy: 0.9802\n",
            "Epoch 89/1000\n",
            "1/9 [==>...........................] - ETA: 0s - loss: 0.2265 - accuracy: 0.9141\n",
            "Epoch 89: saving model to model\\training_classifierf.hdf5\n",
            "9/9 [==============================] - 0s 14ms/step - loss: 0.2330 - accuracy: 0.9085 - val_loss: 0.0811 - val_accuracy: 0.9802\n",
            "Epoch 90/1000\n",
            "1/9 [==>...........................] - ETA: 0s - loss: 0.2596 - accuracy: 0.8984\n",
            "Epoch 90: saving model to model\\training_classifierf.hdf5\n",
            "9/9 [==============================] - 0s 13ms/step - loss: 0.2432 - accuracy: 0.9094 - val_loss: 0.0808 - val_accuracy: 0.9802\n",
            "Epoch 91/1000\n",
            "1/9 [==>...........................] - ETA: 0s - loss: 0.2515 - accuracy: 0.9062\n",
            "Epoch 91: saving model to model\\training_classifierf.hdf5\n",
            "9/9 [==============================] - 0s 13ms/step - loss: 0.2277 - accuracy: 0.9245 - val_loss: 0.0800 - val_accuracy: 0.9802\n",
            "Epoch 92/1000\n",
            "1/9 [==>...........................] - ETA: 0s - loss: 0.1897 - accuracy: 0.9531\n",
            "Epoch 92: saving model to model\\training_classifierf.hdf5\n",
            "9/9 [==============================] - 0s 14ms/step - loss: 0.2249 - accuracy: 0.9245 - val_loss: 0.0760 - val_accuracy: 0.9802\n",
            "Epoch 93/1000\n",
            "1/9 [==>...........................] - ETA: 0s - loss: 0.3100 - accuracy: 0.9062\n",
            "Epoch 93: saving model to model\\training_classifierf.hdf5\n",
            "9/9 [==============================] - 0s 16ms/step - loss: 0.2539 - accuracy: 0.9142 - val_loss: 0.0763 - val_accuracy: 0.9802\n",
            "Epoch 94/1000\n",
            "1/9 [==>...........................] - ETA: 0s - loss: 0.2914 - accuracy: 0.8984\n",
            "Epoch 94: saving model to model\\training_classifierf.hdf5\n",
            "9/9 [==============================] - 0s 13ms/step - loss: 0.2289 - accuracy: 0.9198 - val_loss: 0.0754 - val_accuracy: 0.9802\n",
            "Epoch 95/1000\n",
            "1/9 [==>...........................] - ETA: 0s - loss: 0.2080 - accuracy: 0.9297\n",
            "Epoch 95: saving model to model\\training_classifierf.hdf5\n",
            "9/9 [==============================] - 0s 13ms/step - loss: 0.2086 - accuracy: 0.9330 - val_loss: 0.0765 - val_accuracy: 0.9802\n",
            "Epoch 96/1000\n",
            "1/9 [==>...........................] - ETA: 0s - loss: 0.2612 - accuracy: 0.9062\n",
            "Epoch 96: saving model to model\\training_classifierf.hdf5\n",
            "9/9 [==============================] - 0s 14ms/step - loss: 0.2424 - accuracy: 0.9142 - val_loss: 0.0750 - val_accuracy: 0.9802\n",
            "Epoch 97/1000\n",
            "1/9 [==>...........................] - ETA: 0s - loss: 0.2984 - accuracy: 0.8828\n",
            "Epoch 97: saving model to model\\training_classifierf.hdf5\n",
            "9/9 [==============================] - 0s 14ms/step - loss: 0.2238 - accuracy: 0.9170 - val_loss: 0.0741 - val_accuracy: 0.9802\n",
            "Epoch 98/1000\n",
            "1/9 [==>...........................] - ETA: 0s - loss: 0.2031 - accuracy: 0.9219\n",
            "Epoch 98: saving model to model\\training_classifierf.hdf5\n",
            "9/9 [==============================] - 0s 14ms/step - loss: 0.1942 - accuracy: 0.9330 - val_loss: 0.0738 - val_accuracy: 0.9802\n",
            "Epoch 99/1000\n",
            "1/9 [==>...........................] - ETA: 0s - loss: 0.2666 - accuracy: 0.8906\n",
            "Epoch 99: saving model to model\\training_classifierf.hdf5\n",
            "9/9 [==============================] - 0s 14ms/step - loss: 0.2222 - accuracy: 0.9311 - val_loss: 0.0752 - val_accuracy: 0.9802\n",
            "Epoch 100/1000\n",
            "1/9 [==>...........................] - ETA: 0s - loss: 0.2473 - accuracy: 0.9062\n",
            "Epoch 100: saving model to model\\training_classifierf.hdf5\n",
            "9/9 [==============================] - 0s 13ms/step - loss: 0.2292 - accuracy: 0.9208 - val_loss: 0.0758 - val_accuracy: 0.9802\n",
            "Epoch 101/1000\n",
            "1/9 [==>...........................] - ETA: 0s - loss: 0.2108 - accuracy: 0.9375\n",
            "Epoch 101: saving model to model\\training_classifierf.hdf5\n",
            "9/9 [==============================] - 0s 13ms/step - loss: 0.2050 - accuracy: 0.9358 - val_loss: 0.0750 - val_accuracy: 0.9802\n",
            "Epoch 102/1000\n",
            "1/9 [==>...........................] - ETA: 0s - loss: 0.1372 - accuracy: 0.9531\n",
            "Epoch 102: saving model to model\\training_classifierf.hdf5\n",
            "9/9 [==============================] - 0s 13ms/step - loss: 0.2175 - accuracy: 0.9226 - val_loss: 0.0729 - val_accuracy: 0.9802\n",
            "Epoch 103/1000\n",
            "1/9 [==>...........................] - ETA: 0s - loss: 0.2051 - accuracy: 0.9297\n",
            "Epoch 103: saving model to model\\training_classifierf.hdf5\n",
            "9/9 [==============================] - 0s 20ms/step - loss: 0.2131 - accuracy: 0.9283 - val_loss: 0.0732 - val_accuracy: 0.9802\n",
            "Epoch 104/1000\n",
            "1/9 [==>...........................] - ETA: 0s - loss: 0.2350 - accuracy: 0.8984\n",
            "Epoch 104: saving model to model\\training_classifierf.hdf5\n",
            "9/9 [==============================] - 0s 14ms/step - loss: 0.2539 - accuracy: 0.9104 - val_loss: 0.0734 - val_accuracy: 0.9802\n",
            "Epoch 105/1000\n",
            "1/9 [==>...........................] - ETA: 0s - loss: 0.2387 - accuracy: 0.9141\n",
            "Epoch 105: saving model to model\\training_classifierf.hdf5\n",
            "9/9 [==============================] - 0s 15ms/step - loss: 0.2101 - accuracy: 0.9330 - val_loss: 0.0720 - val_accuracy: 0.9802\n",
            "Epoch 106/1000\n",
            "1/9 [==>...........................] - ETA: 0s - loss: 0.1827 - accuracy: 0.9375\n",
            "Epoch 106: saving model to model\\training_classifierf.hdf5\n",
            "9/9 [==============================] - 0s 19ms/step - loss: 0.2094 - accuracy: 0.9292 - val_loss: 0.0716 - val_accuracy: 0.9802\n",
            "Epoch 107/1000\n",
            "1/9 [==>...........................] - ETA: 0s - loss: 0.2430 - accuracy: 0.9219\n",
            "Epoch 107: saving model to model\\training_classifierf.hdf5\n",
            "9/9 [==============================] - 0s 16ms/step - loss: 0.2268 - accuracy: 0.9160 - val_loss: 0.0700 - val_accuracy: 0.9802\n",
            "Epoch 108/1000\n",
            "1/9 [==>...........................] - ETA: 0s - loss: 0.2327 - accuracy: 0.9219\n",
            "Epoch 108: saving model to model\\training_classifierf.hdf5\n",
            "9/9 [==============================] - 0s 16ms/step - loss: 0.2226 - accuracy: 0.9236 - val_loss: 0.0692 - val_accuracy: 0.9802\n",
            "Epoch 109/1000\n",
            "1/9 [==>...........................] - ETA: 0s - loss: 0.2393 - accuracy: 0.9219\n",
            "Epoch 109: saving model to model\\training_classifierf.hdf5\n",
            "9/9 [==============================] - 0s 19ms/step - loss: 0.2037 - accuracy: 0.9349 - val_loss: 0.0705 - val_accuracy: 0.9802\n",
            "Epoch 110/1000\n",
            "9/9 [==============================] - ETA: 0s - loss: 0.1861 - accuracy: 0.9377\n",
            "Epoch 110: saving model to model\\training_classifierf.hdf5\n",
            "9/9 [==============================] - 0s 22ms/step - loss: 0.1861 - accuracy: 0.9377 - val_loss: 0.0727 - val_accuracy: 0.9802\n",
            "Epoch 111/1000\n",
            "1/9 [==>...........................] - ETA: 0s - loss: 0.2405 - accuracy: 0.8906\n",
            "Epoch 111: saving model to model\\training_classifierf.hdf5\n",
            "9/9 [==============================] - 0s 20ms/step - loss: 0.2152 - accuracy: 0.9245 - val_loss: 0.0722 - val_accuracy: 0.9802\n",
            "Epoch 112/1000\n",
            "1/9 [==>...........................] - ETA: 0s - loss: 0.1974 - accuracy: 0.9219\n",
            "Epoch 112: saving model to model\\training_classifierf.hdf5\n",
            "9/9 [==============================] - 0s 14ms/step - loss: 0.1976 - accuracy: 0.9340 - val_loss: 0.0706 - val_accuracy: 0.9802\n",
            "Epoch 113/1000\n",
            "1/9 [==>...........................] - ETA: 0s - loss: 0.1973 - accuracy: 0.9297\n",
            "Epoch 113: saving model to model\\training_classifierf.hdf5\n",
            "9/9 [==============================] - 0s 28ms/step - loss: 0.2100 - accuracy: 0.9321 - val_loss: 0.0678 - val_accuracy: 0.9802\n",
            "Epoch 114/1000\n",
            "1/9 [==>...........................] - ETA: 0s - loss: 0.1717 - accuracy: 0.9609\n",
            "Epoch 114: saving model to model\\training_classifierf.hdf5\n",
            "9/9 [==============================] - 0s 14ms/step - loss: 0.2220 - accuracy: 0.9160 - val_loss: 0.0689 - val_accuracy: 0.9802\n",
            "Epoch 115/1000\n",
            "1/9 [==>...........................] - ETA: 0s - loss: 0.2135 - accuracy: 0.9453\n",
            "Epoch 115: saving model to model\\training_classifierf.hdf5\n",
            "9/9 [==============================] - 0s 13ms/step - loss: 0.2160 - accuracy: 0.9226 - val_loss: 0.0709 - val_accuracy: 0.9802\n",
            "Epoch 116/1000\n",
            "1/9 [==>...........................] - ETA: 0s - loss: 0.2215 - accuracy: 0.9141\n",
            "Epoch 116: saving model to model\\training_classifierf.hdf5\n",
            "9/9 [==============================] - 0s 14ms/step - loss: 0.2002 - accuracy: 0.9349 - val_loss: 0.0693 - val_accuracy: 0.9802\n",
            "Epoch 117/1000\n",
            "1/9 [==>...........................] - ETA: 0s - loss: 0.2591 - accuracy: 0.8984\n",
            "Epoch 117: saving model to model\\training_classifierf.hdf5\n",
            "9/9 [==============================] - 0s 14ms/step - loss: 0.2085 - accuracy: 0.9198 - val_loss: 0.0702 - val_accuracy: 0.9802\n",
            "Epoch 118/1000\n",
            "1/9 [==>...........................] - ETA: 0s - loss: 0.2279 - accuracy: 0.9062\n",
            "Epoch 118: saving model to model\\training_classifierf.hdf5\n",
            "9/9 [==============================] - 0s 15ms/step - loss: 0.2008 - accuracy: 0.9368 - val_loss: 0.0741 - val_accuracy: 0.9802\n",
            "Epoch 119/1000\n",
            "1/9 [==>...........................] - ETA: 0s - loss: 0.1992 - accuracy: 0.9375\n",
            "Epoch 119: saving model to model\\training_classifierf.hdf5\n",
            "9/9 [==============================] - 0s 14ms/step - loss: 0.1878 - accuracy: 0.9377 - val_loss: 0.0737 - val_accuracy: 0.9802\n",
            "Epoch 120/1000\n",
            "1/9 [==>...........................] - ETA: 0s - loss: 0.2145 - accuracy: 0.9453\n",
            "Epoch 120: saving model to model\\training_classifierf.hdf5\n",
            "9/9 [==============================] - 0s 16ms/step - loss: 0.1765 - accuracy: 0.9453 - val_loss: 0.0712 - val_accuracy: 0.9802\n",
            "Epoch 121/1000\n",
            "1/9 [==>...........................] - ETA: 0s - loss: 0.1936 - accuracy: 0.9453\n",
            "Epoch 121: saving model to model\\training_classifierf.hdf5\n",
            "9/9 [==============================] - 0s 14ms/step - loss: 0.1940 - accuracy: 0.9311 - val_loss: 0.0686 - val_accuracy: 0.9802\n",
            "Epoch 122/1000\n",
            "1/9 [==>...........................] - ETA: 0s - loss: 0.2059 - accuracy: 0.9297\n",
            "Epoch 122: saving model to model\\training_classifierf.hdf5\n",
            "9/9 [==============================] - 0s 14ms/step - loss: 0.2152 - accuracy: 0.9189 - val_loss: 0.0648 - val_accuracy: 0.9831\n",
            "Epoch 123/1000\n",
            "8/9 [=========================>....] - ETA: 0s - loss: 0.1976 - accuracy: 0.9434\n",
            "Epoch 123: saving model to model\\training_classifierf.hdf5\n",
            "9/9 [==============================] - 0s 22ms/step - loss: 0.1977 - accuracy: 0.9434 - val_loss: 0.0635 - val_accuracy: 0.9831\n",
            "Epoch 124/1000\n",
            "1/9 [==>...........................] - ETA: 0s - loss: 0.1502 - accuracy: 0.9375\n",
            "Epoch 124: saving model to model\\training_classifierf.hdf5\n",
            "9/9 [==============================] - 0s 14ms/step - loss: 0.1791 - accuracy: 0.9396 - val_loss: 0.0636 - val_accuracy: 0.9831\n",
            "Epoch 125/1000\n",
            "1/9 [==>...........................] - ETA: 0s - loss: 0.1569 - accuracy: 0.9375\n",
            "Epoch 125: saving model to model\\training_classifierf.hdf5\n",
            "9/9 [==============================] - 0s 17ms/step - loss: 0.2034 - accuracy: 0.9292 - val_loss: 0.0604 - val_accuracy: 0.9831\n",
            "Epoch 126/1000\n",
            "1/9 [==>...........................] - ETA: 0s - loss: 0.1733 - accuracy: 0.9453\n",
            "Epoch 126: saving model to model\\training_classifierf.hdf5\n",
            "9/9 [==============================] - 0s 16ms/step - loss: 0.1906 - accuracy: 0.9321 - val_loss: 0.0590 - val_accuracy: 0.9802\n",
            "Epoch 127/1000\n",
            "1/9 [==>...........................] - ETA: 0s - loss: 0.2189 - accuracy: 0.9219\n",
            "Epoch 127: saving model to model\\training_classifierf.hdf5\n",
            "9/9 [==============================] - 0s 16ms/step - loss: 0.1793 - accuracy: 0.9425 - val_loss: 0.0607 - val_accuracy: 0.9802\n",
            "Epoch 128/1000\n",
            "1/9 [==>...........................] - ETA: 0s - loss: 0.2395 - accuracy: 0.9141\n",
            "Epoch 128: saving model to model\\training_classifierf.hdf5\n",
            "9/9 [==============================] - 0s 16ms/step - loss: 0.1934 - accuracy: 0.9349 - val_loss: 0.0631 - val_accuracy: 0.9802\n",
            "Epoch 129/1000\n",
            "1/9 [==>...........................] - ETA: 0s - loss: 0.2322 - accuracy: 0.9219\n",
            "Epoch 129: saving model to model\\training_classifierf.hdf5\n",
            "9/9 [==============================] - 0s 14ms/step - loss: 0.1929 - accuracy: 0.9292 - val_loss: 0.0652 - val_accuracy: 0.9802\n",
            "Epoch 130/1000\n",
            "1/9 [==>...........................] - ETA: 0s - loss: 0.1924 - accuracy: 0.9062\n",
            "Epoch 130: saving model to model\\training_classifierf.hdf5\n",
            "9/9 [==============================] - 0s 14ms/step - loss: 0.1979 - accuracy: 0.9255 - val_loss: 0.0651 - val_accuracy: 0.9802\n",
            "Epoch 131/1000\n",
            "1/9 [==>...........................] - ETA: 0s - loss: 0.1942 - accuracy: 0.9453\n",
            "Epoch 131: saving model to model\\training_classifierf.hdf5\n",
            "9/9 [==============================] - 0s 17ms/step - loss: 0.2075 - accuracy: 0.9321 - val_loss: 0.0627 - val_accuracy: 0.9802\n",
            "Epoch 132/1000\n",
            "1/9 [==>...........................] - ETA: 0s - loss: 0.1882 - accuracy: 0.9375\n",
            "Epoch 132: saving model to model\\training_classifierf.hdf5\n",
            "9/9 [==============================] - 0s 16ms/step - loss: 0.1891 - accuracy: 0.9330 - val_loss: 0.0614 - val_accuracy: 0.9802\n",
            "Epoch 133/1000\n",
            "9/9 [==============================] - ETA: 0s - loss: 0.2042 - accuracy: 0.9330\n",
            "Epoch 133: saving model to model\\training_classifierf.hdf5\n",
            "9/9 [==============================] - 0s 24ms/step - loss: 0.2042 - accuracy: 0.9330 - val_loss: 0.0603 - val_accuracy: 0.9802\n",
            "Epoch 134/1000\n",
            "1/9 [==>...........................] - ETA: 0s - loss: 0.1905 - accuracy: 0.9531\n",
            "Epoch 134: saving model to model\\training_classifierf.hdf5\n",
            "9/9 [==============================] - 0s 14ms/step - loss: 0.1855 - accuracy: 0.9321 - val_loss: 0.0611 - val_accuracy: 0.9802\n",
            "Epoch 135/1000\n",
            "1/9 [==>...........................] - ETA: 0s - loss: 0.1558 - accuracy: 0.9531\n",
            "Epoch 135: saving model to model\\training_classifierf.hdf5\n",
            "9/9 [==============================] - 0s 15ms/step - loss: 0.2005 - accuracy: 0.9236 - val_loss: 0.0638 - val_accuracy: 0.9802\n",
            "Epoch 136/1000\n",
            "1/9 [==>...........................] - ETA: 0s - loss: 0.1864 - accuracy: 0.9453\n",
            "Epoch 136: saving model to model\\training_classifierf.hdf5\n",
            "9/9 [==============================] - 0s 14ms/step - loss: 0.1814 - accuracy: 0.9396 - val_loss: 0.0671 - val_accuracy: 0.9802\n",
            "Epoch 137/1000\n",
            "1/9 [==>...........................] - ETA: 0s - loss: 0.1870 - accuracy: 0.9375\n",
            "Epoch 137: saving model to model\\training_classifierf.hdf5\n",
            "9/9 [==============================] - 0s 13ms/step - loss: 0.1906 - accuracy: 0.9396 - val_loss: 0.0661 - val_accuracy: 0.9802\n",
            "Epoch 138/1000\n",
            "1/9 [==>...........................] - ETA: 0s - loss: 0.1775 - accuracy: 0.9375\n",
            "Epoch 138: saving model to model\\training_classifierf.hdf5\n",
            "9/9 [==============================] - 0s 13ms/step - loss: 0.1788 - accuracy: 0.9415 - val_loss: 0.0625 - val_accuracy: 0.9802\n",
            "Epoch 139/1000\n",
            "1/9 [==>...........................] - ETA: 0s - loss: 0.2286 - accuracy: 0.9062\n",
            "Epoch 139: saving model to model\\training_classifierf.hdf5\n",
            "9/9 [==============================] - 0s 13ms/step - loss: 0.1801 - accuracy: 0.9330 - val_loss: 0.0614 - val_accuracy: 0.9831\n",
            "Epoch 140/1000\n",
            "1/9 [==>...........................] - ETA: 0s - loss: 0.1663 - accuracy: 0.9375\n",
            "Epoch 140: saving model to model\\training_classifierf.hdf5\n",
            "9/9 [==============================] - 0s 13ms/step - loss: 0.1911 - accuracy: 0.9330 - val_loss: 0.0650 - val_accuracy: 0.9831\n",
            "Epoch 141/1000\n",
            "1/9 [==>...........................] - ETA: 0s - loss: 0.1854 - accuracy: 0.9453\n",
            "Epoch 141: saving model to model\\training_classifierf.hdf5\n",
            "9/9 [==============================] - 0s 14ms/step - loss: 0.1797 - accuracy: 0.9434 - val_loss: 0.0692 - val_accuracy: 0.9802\n",
            "Epoch 142/1000\n",
            "1/9 [==>...........................] - ETA: 0s - loss: 0.1220 - accuracy: 0.9609\n",
            "Epoch 142: saving model to model\\training_classifierf.hdf5\n",
            "9/9 [==============================] - 0s 21ms/step - loss: 0.1806 - accuracy: 0.9368 - val_loss: 0.0702 - val_accuracy: 0.9802\n",
            "Epoch 143/1000\n",
            "1/9 [==>...........................] - ETA: 0s - loss: 0.1698 - accuracy: 0.9297\n",
            "Epoch 143: saving model to model\\training_classifierf.hdf5\n",
            "9/9 [==============================] - 0s 15ms/step - loss: 0.2060 - accuracy: 0.9311 - val_loss: 0.0682 - val_accuracy: 0.9802\n",
            "Epoch 144/1000\n",
            "1/9 [==>...........................] - ETA: 0s - loss: 0.2264 - accuracy: 0.9297\n",
            "Epoch 144: saving model to model\\training_classifierf.hdf5\n",
            "9/9 [==============================] - 0s 13ms/step - loss: 0.1702 - accuracy: 0.9415 - val_loss: 0.0675 - val_accuracy: 0.9802\n",
            "Epoch 145/1000\n",
            "1/9 [==>...........................] - ETA: 0s - loss: 0.2104 - accuracy: 0.9219\n",
            "Epoch 145: saving model to model\\training_classifierf.hdf5\n",
            "9/9 [==============================] - 0s 13ms/step - loss: 0.1891 - accuracy: 0.9255 - val_loss: 0.0679 - val_accuracy: 0.9831\n",
            "Epoch 146/1000\n",
            "1/9 [==>...........................] - ETA: 0s - loss: 0.2401 - accuracy: 0.9297\n",
            "Epoch 146: saving model to model\\training_classifierf.hdf5\n",
            "9/9 [==============================] - 0s 13ms/step - loss: 0.1988 - accuracy: 0.9292 - val_loss: 0.0663 - val_accuracy: 0.9831\n",
            "Epoch 146: early stopping\n"
          ]
        },
        {
          "data": {
            "text/plain": [
              "<keras.callbacks.History at 0x250b7244220>"
            ]
          },
          "execution_count": 23,
          "metadata": {},
          "output_type": "execute_result"
        }
      ],
      "source": [
        "model.fit(\n",
        "    X_train,\n",
        "    y_train,\n",
        "    epochs=1000,\n",
        "    batch_size=128,\n",
        "    validation_data=(X_test, y_test),\n",
        "    callbacks=[cp_callback, es_callback]\n",
        ")"
      ]
    },
    {
      "attachments": {},
      "cell_type": "markdown",
      "metadata": {},
      "source": [
        "# Training Evaluation"
      ]
    },
    {
      "cell_type": "code",
      "execution_count": 24,
      "metadata": {
        "colab": {
          "base_uri": "https://localhost:8080/"
        },
        "id": "pxvb2Y299hE3",
        "outputId": "59eb3185-2e37-4b9e-bc9d-ab1b8ac29b7f"
      },
      "outputs": [
        {
          "name": "stdout",
          "output_type": "stream",
          "text": [
            "3/3 [==============================] - 0s 4ms/step - loss: 0.0663 - accuracy: 0.9831\n"
          ]
        }
      ],
      "source": [
        "# Model evaluation\n",
        "\n",
        "val_loss, val_acc = model.evaluate(X_test, y_test, batch_size=128)"
      ]
    },
    {
      "cell_type": "code",
      "execution_count": 25,
      "metadata": {
        "id": "RBkmDeUW9hE4"
      },
      "outputs": [],
      "source": [
        "# Loading the saved model\n",
        "\n",
        "model = tf.keras.models.load_model(model_save_path)"
      ]
    },
    {
      "cell_type": "code",
      "execution_count": 26,
      "metadata": {
        "colab": {
          "base_uri": "https://localhost:8080/"
        },
        "id": "tFz9Tb0I9hE4",
        "outputId": "1c3b3528-54ae-4ee2-ab04-77429211cbef"
      },
      "outputs": [
        {
          "name": "stdout",
          "output_type": "stream",
          "text": [
            "1/1 [==============================] - 0s 182ms/step\n",
            "[1.7032700e-04 4.7425879e-03 3.1133368e-05 9.8501033e-01 1.0045634e-02]\n",
            "3\n"
          ]
        }
      ],
      "source": [
        "# Inference Inference\n",
        "\n",
        "predict_result = model.predict(np.array([X_test[0]]))\n",
        "print(np.squeeze(predict_result))\n",
        "print(np.argmax(np.squeeze(predict_result)))"
      ]
    },
    {
      "attachments": {},
      "cell_type": "markdown",
      "metadata": {
        "id": "S3U4yNWx9hE4"
      },
      "source": [
        "# Confusion Matrix"
      ]
    },
    {
      "cell_type": "code",
      "execution_count": 27,
      "metadata": {
        "colab": {
          "base_uri": "https://localhost:8080/",
          "height": 582
        },
        "id": "AP1V6SCk9hE5",
        "outputId": "08e41a80-7a4a-4619-8125-ecc371368d19"
      },
      "outputs": [
        {
          "name": "stdout",
          "output_type": "stream",
          "text": [
            "12/12 [==============================] - 0s 2ms/step\n"
          ]
        },
        {
          "data": {
            "image/png": "[encoded data removed]",
            "text/plain": [
              "<Figure size 700x600 with 2 Axes>"
            ]
          },
          "metadata": {},
          "output_type": "display_data"
        },
        {
          "name": "stdout",
          "output_type": "stream",
          "text": [
            "Classification Report\n",
            "              precision    recall  f1-score   support\n",
            "\n",
            "           1       0.95      0.99      0.97        80\n",
            "           2       0.99      1.00      1.00       100\n",
            "           3       0.99      1.00      0.99        76\n",
            "           4       1.00      0.95      0.97        98\n",
            "\n",
            "    accuracy                           0.98       354\n",
            "   macro avg       0.98      0.98      0.98       354\n",
            "weighted avg       0.98      0.98      0.98       354\n",
            "\n"
          ]
        }
      ],
      "source": [
        "import pandas as pd\n",
        "import seaborn as sns\n",
        "import matplotlib.pyplot as plt\n",
        "from sklearn.metrics import confusion_matrix, classification_report\n",
        "\n",
        "def print_confusion_matrix(y_true, y_pred, report=True):\n",
        "    labels = sorted(list(set(y_true)))\n",
        "    cmx_data = confusion_matrix(y_true, y_pred, labels=labels)\n",
        "    \n",
        "    df_cmx = pd.DataFrame(cmx_data, index=labels, columns=labels)\n",
        " \n",
        "    fig, ax = plt.subplots(figsize=(7, 6))\n",
        "    sns.heatmap(df_cmx, annot=True, fmt='g' ,square=False, cmap=\"YlGnBu\")\n",
        "    ax.set_ylim(len(set(y_true)), 0)\n",
        "    plt.show()\n",
        "    \n",
        "    if report:\n",
        "        print('Classification Report')\n",
        "        print(classification_report(y_test, y_pred))\n",
        "\n",
        "Y_pred = model.predict(X_test)\n",
        "y_pred = np.argmax(Y_pred, axis=1)\n",
        "\n",
        "print_confusion_matrix(y_test, y_pred)"
      ]
    },
    {
      "attachments": {},
      "cell_type": "markdown",
      "metadata": {
        "id": "FNP6aqzc9hE5"
      },
      "source": [
        "# Convert Model for Tensorflow-Lite"
      ]
    },
    {
      "cell_type": "code",
      "execution_count": 28,
      "metadata": {
        "id": "ODjnYyld9hE6"
      },
      "outputs": [],
      "source": [
        "# Save as a model dedicated to inference\n",
        "\n",
        "model.save(model_save_path, include_optimizer=False)"
      ]
    },
    {
      "cell_type": "code",
      "execution_count": 29,
      "metadata": {
        "colab": {
          "base_uri": "https://localhost:8080/"
        },
        "id": "zRfuK8Y59hE6",
        "outputId": "a4ca585c-b5d5-4244-8291-8674063209bb"
      },
      "outputs": [
        {
          "name": "stdout",
          "output_type": "stream",
          "text": [
            "INFO:tensorflow:Assets written to: C:\\Users\\URSO_L~1.COM\\AppData\\Local\\Temp\\tmpmvoej01e\\assets\n"
          ]
        },
        {
          "data": {
            "text/plain": [
              "6560"
            ]
          },
          "execution_count": 29,
          "metadata": {},
          "output_type": "execute_result"
        }
      ],
      "source": [
        "# Transform model (quantization)\n",
        "\n",
        "converter = tf.lite.TFLiteConverter.from_keras_model(model)\n",
        "converter.optimizations = [tf.lite.Optimize.DEFAULT]\n",
        "tflite_quantized_model = converter.convert()\n",
        "\n",
        "open(tflite_save_path, 'wb').write(tflite_quantized_model)"
      ]
    },
    {
      "attachments": {},
      "cell_type": "markdown",
      "metadata": {
        "id": "CHBPBXdx9hE6"
      },
      "source": [
        "# Inference Test"
      ]
    },
    {
      "cell_type": "code",
      "execution_count": 30,
      "metadata": {
        "id": "mGAzLocO9hE7"
      },
      "outputs": [],
      "source": [
        "interpreter = tf.lite.Interpreter(model_path=tflite_save_path)\n",
        "interpreter.allocate_tensors()"
      ]
    },
    {
      "cell_type": "code",
      "execution_count": 31,
      "metadata": {
        "id": "oQuDK8YS9hE7"
      },
      "outputs": [],
      "source": [
        "# Get I / O tensor\n",
        "input_details = interpreter.get_input_details()\n",
        "output_details = interpreter.get_output_details()"
      ]
    },
    {
      "cell_type": "code",
      "execution_count": 32,
      "metadata": {
        "id": "2_ixAf_l9hE7"
      },
      "outputs": [],
      "source": [
        "interpreter.set_tensor(input_details[0]['index'], np.array([X_test[0]]))"
      ]
    },
    {
      "cell_type": "code",
      "execution_count": 33,
      "metadata": {
        "colab": {
          "base_uri": "https://localhost:8080/"
        },
        "id": "s4FoAnuc9hE7",
        "outputId": "91f18257-8d8b-4ef3-c558-e9b5f94fabbf",
        "scrolled": true
      },
      "outputs": [
        {
          "name": "stdout",
          "output_type": "stream",
          "text": [
            "CPU times: total: 0 ns\n",
            "Wall time: 0 ns\n"
          ]
        }
      ],
      "source": [
        "%%time\n",
        "# Inference implementation\n",
        "interpreter.invoke()\n",
        "tflite_results = interpreter.get_tensor(output_details[0]['index'])"
      ]
    },
    {
      "cell_type": "code",
      "execution_count": 34,
      "metadata": {
        "colab": {
          "base_uri": "https://localhost:8080/"
        },
        "id": "vONjp19J9hE8",
        "outputId": "77205e24-fd00-42c4-f7b6-e06e527c2cba"
      },
      "outputs": [
        {
          "name": "stdout",
          "output_type": "stream",
          "text": [
            "[1.7032698e-04 4.7425879e-03 3.1133364e-05 9.8501033e-01 1.0045635e-02]\n",
            "3\n"
          ]
        }
      ],
      "source": [
        "print(np.squeeze(tflite_results))\n",
        "print(np.argmax(np.squeeze(tflite_results)))"
      ]
    }
  ],
  "metadata": {
    "accelerator": "GPU",
    "colab": {
      "collapsed_sections": [],
      "name": "keypoint_classification_EN.ipynb",
      "provenance": [],
      "toc_visible": true
    },
    "kernelspec": {
      "display_name": "Python 3",
      "language": "python",
      "name": "python3"
    },
    "language_info": {
      "codemirror_mode": {
        "name": "ipython",
        "version": 3
      },
      "file_extension": ".py",
      "mimetype": "text/x-python",
      "name": "python",
      "nbconvert_exporter": "python",
      "pygments_lexer": "ipython3",
      "version": "3.10.8"
    },
    "vscode": {
      "interpreter": {
        "hash": "540b1d93a0206432ea81f0358eb88b71755f9df1b03cc764dbc9d8857e2e8ba5"
      }
    }
  },
  "nbformat": 4,
  "nbformat_minor": 0
}
