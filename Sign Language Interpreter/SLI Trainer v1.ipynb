{
  "cells": [
    {
      "attachments": {},
      "cell_type": "markdown",
      "metadata": {},
      "source": [
        "## SLI Training Script \n",
        "## By Luis A. Urso\n",
        "## 27-JAN-2023 - version 1\n",
        "##"
      ]
    },
    {
      "cell_type": "code",
      "execution_count": 26,
      "metadata": {
        "id": "igMyGnjE9hEp"
      },
      "outputs": [],
      "source": [
        "import csv\n",
        "\n",
        "import numpy as np\n",
        "import tensorflow as tf\n",
        "import pydot\n",
        "from sklearn.model_selection import train_test_split\n",
        "from keras.utils import plot_model\n",
        "\n",
        "RANDOM_SEED = 42"
      ]
    },
    {
      "cell_type": "markdown",
      "metadata": {},
      "source": [
        "# Setup Global Variables"
      ]
    },
    {
      "attachments": {},
      "cell_type": "markdown",
      "metadata": {
        "id": "t2HDvhIu9hEr"
      },
      "source": [
        " Define the files path"
      ]
    },
    {
      "cell_type": "code",
      "execution_count": 5,
      "metadata": {
        "id": "9NvZP2Zn9hEy"
      },
      "outputs": [],
      "source": [
        "dataset = 'model/training_data.csv'\n",
        "model_save_path = 'model/training_classifierf.hdf5'\n",
        "tflite_save_path = 'model/training_classifier.tflite'"
      ]
    },
    {
      "attachments": {},
      "cell_type": "markdown",
      "metadata": {
        "id": "s5oMH7x19hEz"
      },
      "source": [
        "Set number of classes"
      ]
    },
    {
      "cell_type": "code",
      "execution_count": 58,
      "metadata": {
        "id": "du4kodXL9hEz"
      },
      "outputs": [],
      "source": [
        "NUM_CLASSES = 3"
      ]
    },
    {
      "attachments": {},
      "cell_type": "markdown",
      "metadata": {},
      "source": [
        "# Dataset Preparation"
      ]
    },
    {
      "attachments": {},
      "cell_type": "markdown",
      "metadata": {
        "id": "XjnL0uso9hEz"
      },
      "source": [
        "Dataset loading"
      ]
    },
    {
      "cell_type": "code",
      "execution_count": 36,
      "metadata": {
        "id": "QT5ZqtEz9hE0"
      },
      "outputs": [],
      "source": [
        "X_dataset = np.loadtxt(dataset, delimiter=',', dtype='float32', usecols=list(range(1, (21 * 2) + 1)))"
      ]
    },
    {
      "cell_type": "code",
      "execution_count": 39,
      "metadata": {},
      "outputs": [
        {
          "data": {
            "text/plain": [
              "(712, 42)"
            ]
          },
          "execution_count": 39,
          "metadata": {},
          "output_type": "execute_result"
        }
      ],
      "source": [
        "X_dataset.shape"
      ]
    },
    {
      "cell_type": "code",
      "execution_count": 37,
      "metadata": {
        "id": "QmoKFsp49hE0"
      },
      "outputs": [],
      "source": [
        "y_dataset = np.loadtxt(dataset, delimiter=',', dtype='int32', usecols=(0))"
      ]
    },
    {
      "cell_type": "code",
      "execution_count": 40,
      "metadata": {},
      "outputs": [
        {
          "data": {
            "text/plain": [
              "(712,)"
            ]
          },
          "execution_count": 40,
          "metadata": {},
          "output_type": "execute_result"
        }
      ],
      "source": [
        "y_dataset.shape"
      ]
    },
    {
      "attachments": {},
      "cell_type": "markdown",
      "metadata": {},
      "source": [
        "Split Data Sets into Train and Test"
      ]
    },
    {
      "cell_type": "code",
      "execution_count": 42,
      "metadata": {
        "id": "xQU7JTZ_9hE0"
      },
      "outputs": [],
      "source": [
        "X_train, X_test, y_train, y_test = train_test_split(X_dataset, y_dataset, train_size=0.75, random_state=RANDOM_SEED)"
      ]
    },
    {
      "attachments": {},
      "cell_type": "markdown",
      "metadata": {
        "id": "mxK_lETT9hE0"
      },
      "source": [
        "# Model Architecture & Building"
      ]
    },
    {
      "attachments": {},
      "cell_type": "markdown",
      "metadata": {},
      "source": [
        "FNN Model Arquitecture"
      ]
    },
    {
      "cell_type": "code",
      "execution_count": 59,
      "metadata": {
        "id": "vHBmUf1t9hE1"
      },
      "outputs": [],
      "source": [
        "model = tf.keras.models.Sequential([\n",
        "    tf.keras.layers.Input((21 * 2, )),\n",
        "    tf.keras.layers.Dropout(0.2),\n",
        "    tf.keras.layers.Dense(20, activation='relu'),\n",
        "    tf.keras.layers.Dropout(0.4),\n",
        "    tf.keras.layers.Dense(10, activation='relu'),\n",
        "    tf.keras.layers.Dense(NUM_CLASSES, activation='softmax')\n",
        "])"
      ]
    },
    {
      "cell_type": "code",
      "execution_count": 60,
      "metadata": {
        "colab": {
          "base_uri": "https://localhost:8080/"
        },
        "id": "ypqky9tc9hE1",
        "outputId": "5db082bb-30e3-4110-bf63-a1ee777ecd46"
      },
      "outputs": [
        {
          "name": "stdout",
          "output_type": "stream",
          "text": [
            "Model: \"sequential_3\"\n",
            "_________________________________________________________________\n",
            " Layer (type)                Output Shape              Param #   \n",
            "=================================================================\n",
            " dropout_6 (Dropout)         (None, 42)                0         \n",
            "                                                                 \n",
            " dense_9 (Dense)             (None, 20)                860       \n",
            "                                                                 \n",
            " dropout_7 (Dropout)         (None, 20)                0         \n",
            "                                                                 \n",
            " dense_10 (Dense)            (None, 10)                210       \n",
            "                                                                 \n",
            " dense_11 (Dense)            (None, 3)                 33        \n",
            "                                                                 \n",
            "=================================================================\n",
            "Total params: 1,103\n",
            "Trainable params: 1,103\n",
            "Non-trainable params: 0\n",
            "_________________________________________________________________\n"
          ]
        }
      ],
      "source": [
        "model.summary()  # tf.keras.utils.plot_model(model, show_shapes=True)"
      ]
    },
    {
      "attachments": {},
      "cell_type": "markdown",
      "metadata": {},
      "source": [
        "Model Pre-building Verification "
      ]
    },
    {
      "cell_type": "code",
      "execution_count": 61,
      "metadata": {
        "id": "MbMjOflQ9hE1"
      },
      "outputs": [],
      "source": [
        "# Model checkpoint callback\n",
        "cp_callback = tf.keras.callbacks.ModelCheckpoint(\n",
        "    model_save_path, verbose=1, save_weights_only=False)\n",
        "\n",
        "# Callback for early stopping\n",
        "es_callback = tf.keras.callbacks.EarlyStopping(patience=20, verbose=1)"
      ]
    },
    {
      "attachments": {},
      "cell_type": "markdown",
      "metadata": {},
      "source": [
        "Model Compilation"
      ]
    },
    {
      "cell_type": "code",
      "execution_count": 62,
      "metadata": {
        "id": "c3Dac0M_9hE2"
      },
      "outputs": [],
      "source": [
        "# Model compilation\n",
        "\n",
        "model.compile(\n",
        "    optimizer='adam',\n",
        "    loss='sparse_categorical_crossentropy',\n",
        "    metrics=['accuracy']\n",
        ")"
      ]
    },
    {
      "attachments": {},
      "cell_type": "markdown",
      "metadata": {
        "id": "7XI0j1Iu9hE2"
      },
      "source": [
        "# Model Training"
      ]
    },
    {
      "cell_type": "code",
      "execution_count": 63,
      "metadata": {
        "colab": {
          "base_uri": "https://localhost:8080/"
        },
        "id": "WirBl-JE9hE3",
        "outputId": "71b30ca2-8294-4d9d-8aa2-800d90d399de",
        "scrolled": true
      },
      "outputs": [
        {
          "name": "stdout",
          "output_type": "stream",
          "text": [
            "Epoch 1/1000\n",
            "1/5 [=====>........................] - ETA: 3s - loss: 0.9105 - accuracy: 0.7656\n",
            "Epoch 1: saving model to model\\training_classifierf.hdf5\n",
            "5/5 [==============================] - 2s 128ms/step - loss: 0.9018 - accuracy: 0.7472 - val_loss: 0.9117 - val_accuracy: 0.9438\n",
            "Epoch 2/1000\n",
            "1/5 [=====>........................] - ETA: 0s - loss: 0.8686 - accuracy: 0.7422\n",
            "Epoch 2: saving model to model\\training_classifierf.hdf5\n",
            "5/5 [==============================] - 0s 31ms/step - loss: 0.8357 - accuracy: 0.7809 - val_loss: 0.8387 - val_accuracy: 0.9663\n",
            "Epoch 3/1000\n",
            "1/5 [=====>........................] - ETA: 0s - loss: 0.8257 - accuracy: 0.7891\n",
            "Epoch 3: saving model to model\\training_classifierf.hdf5\n",
            "5/5 [==============================] - 0s 29ms/step - loss: 0.7852 - accuracy: 0.8109 - val_loss: 0.7659 - val_accuracy: 0.9663\n",
            "Epoch 4/1000\n",
            "1/5 [=====>........................] - ETA: 0s - loss: 0.7638 - accuracy: 0.8047\n",
            "Epoch 4: saving model to model\\training_classifierf.hdf5\n",
            "5/5 [==============================] - 0s 50ms/step - loss: 0.7185 - accuracy: 0.8521 - val_loss: 0.6883 - val_accuracy: 0.9663\n",
            "Epoch 5/1000\n",
            "1/5 [=====>........................] - ETA: 0s - loss: 0.6089 - accuracy: 0.9297\n",
            "Epoch 5: saving model to model\\training_classifierf.hdf5\n",
            "5/5 [==============================] - 0s 26ms/step - loss: 0.6371 - accuracy: 0.8764 - val_loss: 0.6067 - val_accuracy: 0.9663\n",
            "Epoch 6/1000\n",
            "1/5 [=====>........................] - ETA: 0s - loss: 0.5545 - accuracy: 0.9141\n",
            "Epoch 6: saving model to model\\training_classifierf.hdf5\n",
            "5/5 [==============================] - 0s 36ms/step - loss: 0.5697 - accuracy: 0.8839 - val_loss: 0.5265 - val_accuracy: 0.9607\n",
            "Epoch 7/1000\n",
            "1/5 [=====>........................] - ETA: 0s - loss: 0.5454 - accuracy: 0.8984\n",
            "Epoch 7: saving model to model\\training_classifierf.hdf5\n",
            "5/5 [==============================] - 0s 29ms/step - loss: 0.5374 - accuracy: 0.8895 - val_loss: 0.4521 - val_accuracy: 0.9663\n",
            "Epoch 8/1000\n",
            "1/5 [=====>........................] - ETA: 0s - loss: 0.4543 - accuracy: 0.9297\n",
            "Epoch 8: saving model to model\\training_classifierf.hdf5\n",
            "5/5 [==============================] - 0s 47ms/step - loss: 0.4651 - accuracy: 0.8839 - val_loss: 0.3854 - val_accuracy: 0.9663\n",
            "Epoch 9/1000\n",
            "1/5 [=====>........................] - ETA: 0s - loss: 0.4047 - accuracy: 0.8828\n",
            "Epoch 9: saving model to model\\training_classifierf.hdf5\n",
            "5/5 [==============================] - 0s 42ms/step - loss: 0.4058 - accuracy: 0.8951 - val_loss: 0.3212 - val_accuracy: 0.9775\n",
            "Epoch 10/1000\n",
            "1/5 [=====>........................] - ETA: 0s - loss: 0.3312 - accuracy: 0.9531\n",
            "Epoch 10: saving model to model\\training_classifierf.hdf5\n",
            "5/5 [==============================] - 0s 40ms/step - loss: 0.3549 - accuracy: 0.9251 - val_loss: 0.2643 - val_accuracy: 0.9831\n",
            "Epoch 11/1000\n",
            "1/5 [=====>........................] - ETA: 0s - loss: 0.3087 - accuracy: 0.9062\n",
            "Epoch 11: saving model to model\\training_classifierf.hdf5\n",
            "5/5 [==============================] - 0s 27ms/step - loss: 0.3106 - accuracy: 0.9270 - val_loss: 0.2176 - val_accuracy: 0.9831\n",
            "Epoch 12/1000\n",
            "1/5 [=====>........................] - ETA: 0s - loss: 0.3138 - accuracy: 0.9062\n",
            "Epoch 12: saving model to model\\training_classifierf.hdf5\n",
            "5/5 [==============================] - 0s 37ms/step - loss: 0.2753 - accuracy: 0.9195 - val_loss: 0.1812 - val_accuracy: 0.9831\n",
            "Epoch 13/1000\n",
            "1/5 [=====>........................] - ETA: 0s - loss: 0.2439 - accuracy: 0.9375\n",
            "Epoch 13: saving model to model\\training_classifierf.hdf5\n",
            "5/5 [==============================] - 0s 33ms/step - loss: 0.2634 - accuracy: 0.9326 - val_loss: 0.1519 - val_accuracy: 0.9888\n",
            "Epoch 14/1000\n",
            "1/5 [=====>........................] - ETA: 0s - loss: 0.2070 - accuracy: 0.9609\n",
            "Epoch 14: saving model to model\\training_classifierf.hdf5\n",
            "5/5 [==============================] - 0s 35ms/step - loss: 0.2267 - accuracy: 0.9401 - val_loss: 0.1284 - val_accuracy: 0.9888\n",
            "Epoch 15/1000\n",
            "1/5 [=====>........................] - ETA: 0s - loss: 0.2229 - accuracy: 0.9453\n",
            "Epoch 15: saving model to model\\training_classifierf.hdf5\n",
            "5/5 [==============================] - 0s 28ms/step - loss: 0.2117 - accuracy: 0.9419 - val_loss: 0.1096 - val_accuracy: 0.9888\n",
            "Epoch 16/1000\n",
            "1/5 [=====>........................] - ETA: 0s - loss: 0.1907 - accuracy: 0.9453\n",
            "Epoch 16: saving model to model\\training_classifierf.hdf5\n",
            "5/5 [==============================] - 0s 47ms/step - loss: 0.1882 - accuracy: 0.9476 - val_loss: 0.0930 - val_accuracy: 0.9888\n",
            "Epoch 17/1000\n",
            "1/5 [=====>........................] - ETA: 0s - loss: 0.1181 - accuracy: 0.9609\n",
            "Epoch 17: saving model to model\\training_classifierf.hdf5\n",
            "5/5 [==============================] - 0s 29ms/step - loss: 0.1618 - accuracy: 0.9551 - val_loss: 0.0793 - val_accuracy: 0.9888\n",
            "Epoch 18/1000\n",
            "1/5 [=====>........................] - ETA: 0s - loss: 0.1714 - accuracy: 0.9297\n",
            "Epoch 18: saving model to model\\training_classifierf.hdf5\n",
            "5/5 [==============================] - 0s 24ms/step - loss: 0.1704 - accuracy: 0.9326 - val_loss: 0.0672 - val_accuracy: 0.9888\n",
            "Epoch 19/1000\n",
            "1/5 [=====>........................] - ETA: 0s - loss: 0.1112 - accuracy: 0.9766\n",
            "Epoch 19: saving model to model\\training_classifierf.hdf5\n",
            "5/5 [==============================] - 0s 26ms/step - loss: 0.1337 - accuracy: 0.9588 - val_loss: 0.0570 - val_accuracy: 0.9888\n",
            "Epoch 20/1000\n",
            "1/5 [=====>........................] - ETA: 0s - loss: 0.1984 - accuracy: 0.9375\n",
            "Epoch 20: saving model to model\\training_classifierf.hdf5\n",
            "5/5 [==============================] - 0s 27ms/step - loss: 0.1253 - accuracy: 0.9663 - val_loss: 0.0487 - val_accuracy: 0.9888\n",
            "Epoch 21/1000\n",
            "1/5 [=====>........................] - ETA: 0s - loss: 0.1186 - accuracy: 0.9688\n",
            "Epoch 21: saving model to model\\training_classifierf.hdf5\n",
            "5/5 [==============================] - 0s 28ms/step - loss: 0.1239 - accuracy: 0.9644 - val_loss: 0.0420 - val_accuracy: 0.9888\n",
            "Epoch 22/1000\n",
            "1/5 [=====>........................] - ETA: 0s - loss: 0.0844 - accuracy: 0.9922\n",
            "Epoch 22: saving model to model\\training_classifierf.hdf5\n",
            "5/5 [==============================] - 0s 26ms/step - loss: 0.1196 - accuracy: 0.9682 - val_loss: 0.0367 - val_accuracy: 0.9888\n",
            "Epoch 23/1000\n",
            "1/5 [=====>........................] - ETA: 0s - loss: 0.0958 - accuracy: 0.9688\n",
            "Epoch 23: saving model to model\\training_classifierf.hdf5\n",
            "5/5 [==============================] - 0s 22ms/step - loss: 0.0974 - accuracy: 0.9700 - val_loss: 0.0319 - val_accuracy: 0.9888\n",
            "Epoch 24/1000\n",
            "1/5 [=====>........................] - ETA: 0s - loss: 0.0685 - accuracy: 0.9922\n",
            "Epoch 24: saving model to model\\training_classifierf.hdf5\n",
            "5/5 [==============================] - 0s 25ms/step - loss: 0.0848 - accuracy: 0.9813 - val_loss: 0.0278 - val_accuracy: 0.9944\n",
            "Epoch 25/1000\n",
            "1/5 [=====>........................] - ETA: 0s - loss: 0.0439 - accuracy: 0.9922\n",
            "Epoch 25: saving model to model\\training_classifierf.hdf5\n",
            "5/5 [==============================] - 0s 25ms/step - loss: 0.0767 - accuracy: 0.9757 - val_loss: 0.0246 - val_accuracy: 0.9944\n",
            "Epoch 26/1000\n",
            "1/5 [=====>........................] - ETA: 0s - loss: 0.1059 - accuracy: 0.9688\n",
            "Epoch 26: saving model to model\\training_classifierf.hdf5\n",
            "5/5 [==============================] - 0s 24ms/step - loss: 0.0908 - accuracy: 0.9794 - val_loss: 0.0222 - val_accuracy: 0.9944\n",
            "Epoch 27/1000\n",
            "1/5 [=====>........................] - ETA: 0s - loss: 0.1007 - accuracy: 0.9688\n",
            "Epoch 27: saving model to model\\training_classifierf.hdf5\n",
            "5/5 [==============================] - 0s 25ms/step - loss: 0.0901 - accuracy: 0.9719 - val_loss: 0.0205 - val_accuracy: 0.9944\n",
            "Epoch 28/1000\n",
            "1/5 [=====>........................] - ETA: 0s - loss: 0.0714 - accuracy: 0.9844\n",
            "Epoch 28: saving model to model\\training_classifierf.hdf5\n",
            "5/5 [==============================] - 0s 26ms/step - loss: 0.0873 - accuracy: 0.9738 - val_loss: 0.0182 - val_accuracy: 0.9944\n",
            "Epoch 29/1000\n",
            "1/5 [=====>........................] - ETA: 0s - loss: 0.0469 - accuracy: 1.0000\n",
            "Epoch 29: saving model to model\\training_classifierf.hdf5\n",
            "5/5 [==============================] - 0s 59ms/step - loss: 0.0650 - accuracy: 0.9813 - val_loss: 0.0161 - val_accuracy: 0.9944\n",
            "Epoch 30/1000\n",
            "1/5 [=====>........................] - ETA: 0s - loss: 0.0927 - accuracy: 0.9844\n",
            "Epoch 30: saving model to model\\training_classifierf.hdf5\n",
            "5/5 [==============================] - 0s 31ms/step - loss: 0.0742 - accuracy: 0.9813 - val_loss: 0.0138 - val_accuracy: 0.9944\n",
            "Epoch 31/1000\n",
            "1/5 [=====>........................] - ETA: 0s - loss: 0.0528 - accuracy: 0.9922\n",
            "Epoch 31: saving model to model\\training_classifierf.hdf5\n",
            "5/5 [==============================] - 0s 25ms/step - loss: 0.0739 - accuracy: 0.9794 - val_loss: 0.0113 - val_accuracy: 1.0000\n",
            "Epoch 32/1000\n",
            "1/5 [=====>........................] - ETA: 0s - loss: 0.0592 - accuracy: 0.9766\n",
            "Epoch 32: saving model to model\\training_classifierf.hdf5\n",
            "5/5 [==============================] - 0s 24ms/step - loss: 0.0559 - accuracy: 0.9813 - val_loss: 0.0093 - val_accuracy: 1.0000\n",
            "Epoch 33/1000\n",
            "1/5 [=====>........................] - ETA: 0s - loss: 0.0505 - accuracy: 0.9844\n",
            "Epoch 33: saving model to model\\training_classifierf.hdf5\n",
            "5/5 [==============================] - 0s 33ms/step - loss: 0.0560 - accuracy: 0.9869 - val_loss: 0.0080 - val_accuracy: 1.0000\n",
            "Epoch 34/1000\n",
            "1/5 [=====>........................] - ETA: 0s - loss: 0.0587 - accuracy: 0.9844\n",
            "Epoch 34: saving model to model\\training_classifierf.hdf5\n",
            "5/5 [==============================] - 0s 29ms/step - loss: 0.0500 - accuracy: 0.9888 - val_loss: 0.0070 - val_accuracy: 1.0000\n",
            "Epoch 35/1000\n",
            "1/5 [=====>........................] - ETA: 0s - loss: 0.0424 - accuracy: 0.9844\n",
            "Epoch 35: saving model to model\\training_classifierf.hdf5\n",
            "5/5 [==============================] - 0s 29ms/step - loss: 0.0458 - accuracy: 0.9888 - val_loss: 0.0064 - val_accuracy: 1.0000\n",
            "Epoch 36/1000\n",
            "1/5 [=====>........................] - ETA: 0s - loss: 0.0370 - accuracy: 0.9844\n",
            "Epoch 36: saving model to model\\training_classifierf.hdf5\n",
            "5/5 [==============================] - 0s 28ms/step - loss: 0.0558 - accuracy: 0.9794 - val_loss: 0.0058 - val_accuracy: 1.0000\n",
            "Epoch 37/1000\n",
            "1/5 [=====>........................] - ETA: 0s - loss: 0.0736 - accuracy: 0.9609\n",
            "Epoch 37: saving model to model\\training_classifierf.hdf5\n",
            "5/5 [==============================] - 0s 24ms/step - loss: 0.0606 - accuracy: 0.9794 - val_loss: 0.0053 - val_accuracy: 1.0000\n",
            "Epoch 38/1000\n",
            "1/5 [=====>........................] - ETA: 0s - loss: 0.0197 - accuracy: 1.0000\n",
            "Epoch 38: saving model to model\\training_classifierf.hdf5\n",
            "5/5 [==============================] - 0s 25ms/step - loss: 0.0438 - accuracy: 0.9944 - val_loss: 0.0048 - val_accuracy: 1.0000\n",
            "Epoch 39/1000\n",
            "1/5 [=====>........................] - ETA: 0s - loss: 0.0642 - accuracy: 0.9844\n",
            "Epoch 39: saving model to model\\training_classifierf.hdf5\n",
            "5/5 [==============================] - 0s 23ms/step - loss: 0.0434 - accuracy: 0.9869 - val_loss: 0.0042 - val_accuracy: 1.0000\n",
            "Epoch 40/1000\n",
            "1/5 [=====>........................] - ETA: 0s - loss: 0.0432 - accuracy: 0.9922\n",
            "Epoch 40: saving model to model\\training_classifierf.hdf5\n",
            "5/5 [==============================] - 0s 46ms/step - loss: 0.0482 - accuracy: 0.9813 - val_loss: 0.0039 - val_accuracy: 1.0000\n",
            "Epoch 41/1000\n",
            "1/5 [=====>........................] - ETA: 0s - loss: 0.0460 - accuracy: 0.9844\n",
            "Epoch 41: saving model to model\\training_classifierf.hdf5\n",
            "5/5 [==============================] - 0s 25ms/step - loss: 0.0393 - accuracy: 0.9869 - val_loss: 0.0037 - val_accuracy: 1.0000\n",
            "Epoch 42/1000\n",
            "1/5 [=====>........................] - ETA: 0s - loss: 0.0248 - accuracy: 1.0000\n",
            "Epoch 42: saving model to model\\training_classifierf.hdf5\n",
            "5/5 [==============================] - 0s 24ms/step - loss: 0.0430 - accuracy: 0.9869 - val_loss: 0.0036 - val_accuracy: 1.0000\n",
            "Epoch 43/1000\n",
            "1/5 [=====>........................] - ETA: 0s - loss: 0.0540 - accuracy: 0.9844\n",
            "Epoch 43: saving model to model\\training_classifierf.hdf5\n",
            "5/5 [==============================] - 0s 20ms/step - loss: 0.0428 - accuracy: 0.9906 - val_loss: 0.0033 - val_accuracy: 1.0000\n",
            "Epoch 44/1000\n",
            "1/5 [=====>........................] - ETA: 0s - loss: 0.0294 - accuracy: 0.9922\n",
            "Epoch 44: saving model to model\\training_classifierf.hdf5\n",
            "5/5 [==============================] - 0s 21ms/step - loss: 0.0274 - accuracy: 0.9906 - val_loss: 0.0031 - val_accuracy: 1.0000\n",
            "Epoch 45/1000\n",
            "1/5 [=====>........................] - ETA: 0s - loss: 0.0199 - accuracy: 1.0000\n",
            "Epoch 45: saving model to model\\training_classifierf.hdf5\n",
            "5/5 [==============================] - 0s 27ms/step - loss: 0.0333 - accuracy: 0.9925 - val_loss: 0.0030 - val_accuracy: 1.0000\n",
            "Epoch 46/1000\n",
            "1/5 [=====>........................] - ETA: 0s - loss: 0.0364 - accuracy: 0.9922\n",
            "Epoch 46: saving model to model\\training_classifierf.hdf5\n",
            "5/5 [==============================] - 0s 23ms/step - loss: 0.0328 - accuracy: 0.9888 - val_loss: 0.0028 - val_accuracy: 1.0000\n",
            "Epoch 47/1000\n",
            "1/5 [=====>........................] - ETA: 0s - loss: 0.0501 - accuracy: 0.9766\n",
            "Epoch 47: saving model to model\\training_classifierf.hdf5\n",
            "5/5 [==============================] - 0s 24ms/step - loss: 0.0343 - accuracy: 0.9869 - val_loss: 0.0025 - val_accuracy: 1.0000\n",
            "Epoch 48/1000\n",
            "1/5 [=====>........................] - ETA: 0s - loss: 0.0255 - accuracy: 0.9922\n",
            "Epoch 48: saving model to model\\training_classifierf.hdf5\n",
            "5/5 [==============================] - 0s 25ms/step - loss: 0.0344 - accuracy: 0.9888 - val_loss: 0.0023 - val_accuracy: 1.0000\n",
            "Epoch 49/1000\n",
            "1/5 [=====>........................] - ETA: 0s - loss: 0.0246 - accuracy: 1.0000\n",
            "Epoch 49: saving model to model\\training_classifierf.hdf5\n",
            "5/5 [==============================] - 0s 26ms/step - loss: 0.0304 - accuracy: 0.9906 - val_loss: 0.0022 - val_accuracy: 1.0000\n",
            "Epoch 50/1000\n",
            "1/5 [=====>........................] - ETA: 0s - loss: 0.0196 - accuracy: 1.0000\n",
            "Epoch 50: saving model to model\\training_classifierf.hdf5\n",
            "5/5 [==============================] - 0s 25ms/step - loss: 0.0267 - accuracy: 0.9981 - val_loss: 0.0021 - val_accuracy: 1.0000\n",
            "Epoch 51/1000\n",
            "1/5 [=====>........................] - ETA: 0s - loss: 0.0323 - accuracy: 0.9922\n",
            "Epoch 51: saving model to model\\training_classifierf.hdf5\n",
            "5/5 [==============================] - 0s 46ms/step - loss: 0.0266 - accuracy: 0.9944 - val_loss: 0.0020 - val_accuracy: 1.0000\n",
            "Epoch 52/1000\n",
            "1/5 [=====>........................] - ETA: 0s - loss: 0.0367 - accuracy: 0.9844\n",
            "Epoch 52: saving model to model\\training_classifierf.hdf5\n",
            "5/5 [==============================] - 0s 26ms/step - loss: 0.0274 - accuracy: 0.9925 - val_loss: 0.0018 - val_accuracy: 1.0000\n",
            "Epoch 53/1000\n",
            "1/5 [=====>........................] - ETA: 0s - loss: 0.0376 - accuracy: 0.9922\n",
            "Epoch 53: saving model to model\\training_classifierf.hdf5\n",
            "5/5 [==============================] - 0s 24ms/step - loss: 0.0279 - accuracy: 0.9906 - val_loss: 0.0017 - val_accuracy: 1.0000\n",
            "Epoch 54/1000\n",
            "1/5 [=====>........................] - ETA: 0s - loss: 0.0316 - accuracy: 0.9922\n",
            "Epoch 54: saving model to model\\training_classifierf.hdf5\n",
            "5/5 [==============================] - 0s 25ms/step - loss: 0.0262 - accuracy: 0.9925 - val_loss: 0.0015 - val_accuracy: 1.0000\n",
            "Epoch 55/1000\n",
            "1/5 [=====>........................] - ETA: 0s - loss: 0.0208 - accuracy: 1.0000\n",
            "Epoch 55: saving model to model\\training_classifierf.hdf5\n",
            "5/5 [==============================] - 0s 26ms/step - loss: 0.0305 - accuracy: 0.9925 - val_loss: 0.0014 - val_accuracy: 1.0000\n",
            "Epoch 56/1000\n",
            "1/5 [=====>........................] - ETA: 0s - loss: 0.0132 - accuracy: 1.0000\n",
            "Epoch 56: saving model to model\\training_classifierf.hdf5\n",
            "5/5 [==============================] - 0s 23ms/step - loss: 0.0228 - accuracy: 0.9944 - val_loss: 0.0013 - val_accuracy: 1.0000\n",
            "Epoch 57/1000\n",
            "1/5 [=====>........................] - ETA: 0s - loss: 0.0149 - accuracy: 1.0000\n",
            "Epoch 57: saving model to model\\training_classifierf.hdf5\n",
            "5/5 [==============================] - 0s 25ms/step - loss: 0.0221 - accuracy: 0.9963 - val_loss: 0.0012 - val_accuracy: 1.0000\n",
            "Epoch 58/1000\n",
            "1/5 [=====>........................] - ETA: 0s - loss: 0.0267 - accuracy: 0.9922\n",
            "Epoch 58: saving model to model\\training_classifierf.hdf5\n",
            "5/5 [==============================] - 0s 22ms/step - loss: 0.0249 - accuracy: 0.9944 - val_loss: 0.0011 - val_accuracy: 1.0000\n",
            "Epoch 59/1000\n",
            "1/5 [=====>........................] - ETA: 0s - loss: 0.0251 - accuracy: 0.9922\n",
            "Epoch 59: saving model to model\\training_classifierf.hdf5\n",
            "5/5 [==============================] - 0s 22ms/step - loss: 0.0197 - accuracy: 0.9944 - val_loss: 9.8396e-04 - val_accuracy: 1.0000\n",
            "Epoch 60/1000\n",
            "1/5 [=====>........................] - ETA: 0s - loss: 0.0180 - accuracy: 0.9922\n",
            "Epoch 60: saving model to model\\training_classifierf.hdf5\n",
            "5/5 [==============================] - 0s 22ms/step - loss: 0.0246 - accuracy: 0.9906 - val_loss: 9.2559e-04 - val_accuracy: 1.0000\n",
            "Epoch 61/1000\n",
            "1/5 [=====>........................] - ETA: 0s - loss: 0.0401 - accuracy: 0.9922\n",
            "Epoch 61: saving model to model\\training_classifierf.hdf5\n",
            "5/5 [==============================] - 0s 23ms/step - loss: 0.0281 - accuracy: 0.9944 - val_loss: 8.7237e-04 - val_accuracy: 1.0000\n",
            "Epoch 62/1000\n",
            "1/5 [=====>........................] - ETA: 0s - loss: 0.0099 - accuracy: 1.0000\n",
            "Epoch 62: saving model to model\\training_classifierf.hdf5\n",
            "5/5 [==============================] - 0s 37ms/step - loss: 0.0242 - accuracy: 0.9925 - val_loss: 8.2849e-04 - val_accuracy: 1.0000\n",
            "Epoch 63/1000\n",
            "1/5 [=====>........................] - ETA: 0s - loss: 0.0082 - accuracy: 1.0000\n",
            "Epoch 63: saving model to model\\training_classifierf.hdf5\n",
            "5/5 [==============================] - 0s 22ms/step - loss: 0.0150 - accuracy: 0.9981 - val_loss: 7.9104e-04 - val_accuracy: 1.0000\n",
            "Epoch 64/1000\n",
            "1/5 [=====>........................] - ETA: 0s - loss: 0.0119 - accuracy: 1.0000\n",
            "Epoch 64: saving model to model\\training_classifierf.hdf5\n",
            "5/5 [==============================] - 0s 24ms/step - loss: 0.0225 - accuracy: 0.9906 - val_loss: 7.4665e-04 - val_accuracy: 1.0000\n",
            "Epoch 65/1000\n",
            "1/5 [=====>........................] - ETA: 0s - loss: 0.0280 - accuracy: 0.9922\n",
            "Epoch 65: saving model to model\\training_classifierf.hdf5\n",
            "5/5 [==============================] - 0s 22ms/step - loss: 0.0241 - accuracy: 0.9944 - val_loss: 6.9703e-04 - val_accuracy: 1.0000\n",
            "Epoch 66/1000\n",
            "1/5 [=====>........................] - ETA: 0s - loss: 0.0265 - accuracy: 0.9844\n",
            "Epoch 66: saving model to model\\training_classifierf.hdf5\n",
            "5/5 [==============================] - 0s 35ms/step - loss: 0.0195 - accuracy: 0.9925 - val_loss: 6.5179e-04 - val_accuracy: 1.0000\n",
            "Epoch 67/1000\n",
            "1/5 [=====>........................] - ETA: 0s - loss: 0.0131 - accuracy: 1.0000\n",
            "Epoch 67: saving model to model\\training_classifierf.hdf5\n",
            "5/5 [==============================] - 0s 35ms/step - loss: 0.0215 - accuracy: 0.9925 - val_loss: 5.9506e-04 - val_accuracy: 1.0000\n",
            "Epoch 68/1000\n",
            "1/5 [=====>........................] - ETA: 0s - loss: 0.0239 - accuracy: 0.9922\n",
            "Epoch 68: saving model to model\\training_classifierf.hdf5\n",
            "5/5 [==============================] - 0s 44ms/step - loss: 0.0200 - accuracy: 0.9925 - val_loss: 5.5149e-04 - val_accuracy: 1.0000\n",
            "Epoch 69/1000\n",
            "1/5 [=====>........................] - ETA: 0s - loss: 0.0227 - accuracy: 0.9922\n",
            "Epoch 69: saving model to model\\training_classifierf.hdf5\n",
            "5/5 [==============================] - 0s 40ms/step - loss: 0.0178 - accuracy: 0.9963 - val_loss: 5.1829e-04 - val_accuracy: 1.0000\n",
            "Epoch 70/1000\n",
            "1/5 [=====>........................] - ETA: 0s - loss: 0.0261 - accuracy: 0.9922\n",
            "Epoch 70: saving model to model\\training_classifierf.hdf5\n",
            "5/5 [==============================] - 0s 35ms/step - loss: 0.0241 - accuracy: 0.9944 - val_loss: 4.8424e-04 - val_accuracy: 1.0000\n",
            "Epoch 71/1000\n",
            "1/5 [=====>........................] - ETA: 0s - loss: 0.0189 - accuracy: 1.0000\n",
            "Epoch 71: saving model to model\\training_classifierf.hdf5\n",
            "5/5 [==============================] - 0s 27ms/step - loss: 0.0257 - accuracy: 0.9925 - val_loss: 4.6516e-04 - val_accuracy: 1.0000\n",
            "Epoch 72/1000\n",
            "1/5 [=====>........................] - ETA: 0s - loss: 0.0200 - accuracy: 0.9922\n",
            "Epoch 72: saving model to model\\training_classifierf.hdf5\n",
            "5/5 [==============================] - 0s 29ms/step - loss: 0.0229 - accuracy: 0.9944 - val_loss: 4.8750e-04 - val_accuracy: 1.0000\n",
            "Epoch 73/1000\n",
            "1/5 [=====>........................] - ETA: 0s - loss: 0.0743 - accuracy: 0.9688\n",
            "Epoch 73: saving model to model\\training_classifierf.hdf5\n",
            "5/5 [==============================] - 0s 54ms/step - loss: 0.0420 - accuracy: 0.9888 - val_loss: 4.9436e-04 - val_accuracy: 1.0000\n",
            "Epoch 74/1000\n",
            "1/5 [=====>........................] - ETA: 0s - loss: 0.0043 - accuracy: 1.0000\n",
            "Epoch 74: saving model to model\\training_classifierf.hdf5\n",
            "5/5 [==============================] - 0s 37ms/step - loss: 0.0191 - accuracy: 0.9925 - val_loss: 5.0483e-04 - val_accuracy: 1.0000\n",
            "Epoch 75/1000\n",
            "1/5 [=====>........................] - ETA: 0s - loss: 0.0219 - accuracy: 1.0000\n",
            "Epoch 75: saving model to model\\training_classifierf.hdf5\n",
            "5/5 [==============================] - 0s 32ms/step - loss: 0.0193 - accuracy: 0.9981 - val_loss: 5.0364e-04 - val_accuracy: 1.0000\n",
            "Epoch 76/1000\n",
            "1/5 [=====>........................] - ETA: 0s - loss: 0.0641 - accuracy: 0.9609\n",
            "Epoch 76: saving model to model\\training_classifierf.hdf5\n",
            "5/5 [==============================] - 0s 31ms/step - loss: 0.0294 - accuracy: 0.9869 - val_loss: 4.8191e-04 - val_accuracy: 1.0000\n",
            "Epoch 77/1000\n",
            "1/5 [=====>........................] - ETA: 0s - loss: 0.0127 - accuracy: 1.0000\n",
            "Epoch 77: saving model to model\\training_classifierf.hdf5\n",
            "5/5 [==============================] - 0s 42ms/step - loss: 0.0231 - accuracy: 0.9925 - val_loss: 4.6860e-04 - val_accuracy: 1.0000\n",
            "Epoch 78/1000\n",
            "1/5 [=====>........................] - ETA: 0s - loss: 0.0259 - accuracy: 0.9922\n",
            "Epoch 78: saving model to model\\training_classifierf.hdf5\n",
            "5/5 [==============================] - 0s 27ms/step - loss: 0.0198 - accuracy: 0.9925 - val_loss: 4.5212e-04 - val_accuracy: 1.0000\n",
            "Epoch 79/1000\n",
            "1/5 [=====>........................] - ETA: 0s - loss: 0.0468 - accuracy: 0.9844\n",
            "Epoch 79: saving model to model\\training_classifierf.hdf5\n",
            "5/5 [==============================] - 0s 28ms/step - loss: 0.0267 - accuracy: 0.9906 - val_loss: 4.3054e-04 - val_accuracy: 1.0000\n",
            "Epoch 80/1000\n",
            "1/5 [=====>........................] - ETA: 0s - loss: 0.0142 - accuracy: 0.9922\n",
            "Epoch 80: saving model to model\\training_classifierf.hdf5\n",
            "5/5 [==============================] - 0s 27ms/step - loss: 0.0143 - accuracy: 0.9963 - val_loss: 4.0997e-04 - val_accuracy: 1.0000\n",
            "Epoch 81/1000\n",
            "1/5 [=====>........................] - ETA: 0s - loss: 0.0213 - accuracy: 1.0000\n",
            "Epoch 81: saving model to model\\training_classifierf.hdf5\n",
            "5/5 [==============================] - 0s 24ms/step - loss: 0.0111 - accuracy: 1.0000 - val_loss: 3.8595e-04 - val_accuracy: 1.0000\n",
            "Epoch 82/1000\n",
            "1/5 [=====>........................] - ETA: 0s - loss: 0.0123 - accuracy: 0.9922\n",
            "Epoch 82: saving model to model\\training_classifierf.hdf5\n",
            "5/5 [==============================] - 0s 27ms/step - loss: 0.0196 - accuracy: 0.9944 - val_loss: 3.6414e-04 - val_accuracy: 1.0000\n",
            "Epoch 83/1000\n",
            "1/5 [=====>........................] - ETA: 0s - loss: 0.0118 - accuracy: 1.0000\n",
            "Epoch 83: saving model to model\\training_classifierf.hdf5\n",
            "5/5 [==============================] - 0s 24ms/step - loss: 0.0170 - accuracy: 0.9963 - val_loss: 3.4024e-04 - val_accuracy: 1.0000\n",
            "Epoch 84/1000\n",
            "1/5 [=====>........................] - ETA: 0s - loss: 0.0083 - accuracy: 1.0000\n",
            "Epoch 84: saving model to model\\training_classifierf.hdf5\n",
            "5/5 [==============================] - 0s 27ms/step - loss: 0.0179 - accuracy: 0.9981 - val_loss: 3.1941e-04 - val_accuracy: 1.0000\n",
            "Epoch 85/1000\n",
            "1/5 [=====>........................] - ETA: 0s - loss: 0.0157 - accuracy: 0.9922\n",
            "Epoch 85: saving model to model\\training_classifierf.hdf5\n",
            "5/5 [==============================] - 0s 25ms/step - loss: 0.0169 - accuracy: 0.9963 - val_loss: 3.0309e-04 - val_accuracy: 1.0000\n",
            "Epoch 86/1000\n",
            "1/5 [=====>........................] - ETA: 0s - loss: 0.0116 - accuracy: 1.0000\n",
            "Epoch 86: saving model to model\\training_classifierf.hdf5\n",
            "5/5 [==============================] - 0s 24ms/step - loss: 0.0137 - accuracy: 0.9981 - val_loss: 2.7980e-04 - val_accuracy: 1.0000\n",
            "Epoch 87/1000\n",
            "1/5 [=====>........................] - ETA: 0s - loss: 0.0125 - accuracy: 1.0000\n",
            "Epoch 87: saving model to model\\training_classifierf.hdf5\n",
            "5/5 [==============================] - 0s 40ms/step - loss: 0.0109 - accuracy: 0.9981 - val_loss: 2.6450e-04 - val_accuracy: 1.0000\n",
            "Epoch 88/1000\n",
            "1/5 [=====>........................] - ETA: 0s - loss: 0.0051 - accuracy: 1.0000\n",
            "Epoch 88: saving model to model\\training_classifierf.hdf5\n",
            "5/5 [==============================] - 0s 30ms/step - loss: 0.0199 - accuracy: 0.9963 - val_loss: 2.5183e-04 - val_accuracy: 1.0000\n",
            "Epoch 89/1000\n",
            "1/5 [=====>........................] - ETA: 0s - loss: 0.0130 - accuracy: 0.9922\n",
            "Epoch 89: saving model to model\\training_classifierf.hdf5\n",
            "5/5 [==============================] - 0s 29ms/step - loss: 0.0133 - accuracy: 0.9963 - val_loss: 2.4111e-04 - val_accuracy: 1.0000\n",
            "Epoch 90/1000\n",
            "1/5 [=====>........................] - ETA: 0s - loss: 0.0190 - accuracy: 0.9922\n",
            "Epoch 90: saving model to model\\training_classifierf.hdf5\n",
            "5/5 [==============================] - 0s 25ms/step - loss: 0.0121 - accuracy: 0.9963 - val_loss: 2.3209e-04 - val_accuracy: 1.0000\n",
            "Epoch 91/1000\n",
            "1/5 [=====>........................] - ETA: 0s - loss: 0.0265 - accuracy: 0.9844\n",
            "Epoch 91: saving model to model\\training_classifierf.hdf5\n",
            "5/5 [==============================] - 0s 24ms/step - loss: 0.0153 - accuracy: 0.9925 - val_loss: 2.2134e-04 - val_accuracy: 1.0000\n",
            "Epoch 92/1000\n",
            "1/5 [=====>........................] - ETA: 0s - loss: 0.0149 - accuracy: 0.9922\n",
            "Epoch 92: saving model to model\\training_classifierf.hdf5\n",
            "5/5 [==============================] - 0s 23ms/step - loss: 0.0145 - accuracy: 0.9963 - val_loss: 2.1233e-04 - val_accuracy: 1.0000\n",
            "Epoch 93/1000\n",
            "1/5 [=====>........................] - ETA: 0s - loss: 0.0132 - accuracy: 1.0000\n",
            "Epoch 93: saving model to model\\training_classifierf.hdf5\n",
            "5/5 [==============================] - 0s 24ms/step - loss: 0.0170 - accuracy: 0.9963 - val_loss: 2.0531e-04 - val_accuracy: 1.0000\n",
            "Epoch 94/1000\n",
            "1/5 [=====>........................] - ETA: 0s - loss: 0.0041 - accuracy: 1.0000\n",
            "Epoch 94: saving model to model\\training_classifierf.hdf5\n",
            "5/5 [==============================] - 0s 27ms/step - loss: 0.0166 - accuracy: 0.9963 - val_loss: 1.9976e-04 - val_accuracy: 1.0000\n",
            "Epoch 95/1000\n",
            "1/5 [=====>........................] - ETA: 0s - loss: 0.0056 - accuracy: 1.0000\n",
            "Epoch 95: saving model to model\\training_classifierf.hdf5\n",
            "5/5 [==============================] - 0s 24ms/step - loss: 0.0090 - accuracy: 0.9963 - val_loss: 1.9464e-04 - val_accuracy: 1.0000\n",
            "Epoch 96/1000\n",
            "1/5 [=====>........................] - ETA: 0s - loss: 0.0122 - accuracy: 1.0000\n",
            "Epoch 96: saving model to model\\training_classifierf.hdf5\n",
            "5/5 [==============================] - 0s 23ms/step - loss: 0.0155 - accuracy: 0.9944 - val_loss: 1.8210e-04 - val_accuracy: 1.0000\n",
            "Epoch 97/1000\n",
            "1/5 [=====>........................] - ETA: 0s - loss: 0.0144 - accuracy: 0.9922\n",
            "Epoch 97: saving model to model\\training_classifierf.hdf5\n",
            "5/5 [==============================] - 0s 22ms/step - loss: 0.0113 - accuracy: 0.9981 - val_loss: 1.6814e-04 - val_accuracy: 1.0000\n",
            "Epoch 98/1000\n",
            "1/5 [=====>........................] - ETA: 0s - loss: 0.0081 - accuracy: 1.0000\n",
            "Epoch 98: saving model to model\\training_classifierf.hdf5\n",
            "5/5 [==============================] - 0s 22ms/step - loss: 0.0164 - accuracy: 0.9981 - val_loss: 1.5672e-04 - val_accuracy: 1.0000\n",
            "Epoch 99/1000\n",
            "1/5 [=====>........................] - ETA: 0s - loss: 0.0176 - accuracy: 0.9922\n",
            "Epoch 99: saving model to model\\training_classifierf.hdf5\n",
            "5/5 [==============================] - 0s 23ms/step - loss: 0.0147 - accuracy: 0.9963 - val_loss: 1.5168e-04 - val_accuracy: 1.0000\n",
            "Epoch 100/1000\n",
            "1/5 [=====>........................] - ETA: 0s - loss: 0.0086 - accuracy: 1.0000\n",
            "Epoch 100: saving model to model\\training_classifierf.hdf5\n",
            "5/5 [==============================] - 0s 19ms/step - loss: 0.0056 - accuracy: 1.0000 - val_loss: 1.4869e-04 - val_accuracy: 1.0000\n",
            "Epoch 101/1000\n",
            "1/5 [=====>........................] - ETA: 0s - loss: 0.0069 - accuracy: 1.0000\n",
            "Epoch 101: saving model to model\\training_classifierf.hdf5\n",
            "5/5 [==============================] - 0s 27ms/step - loss: 0.0085 - accuracy: 0.9981 - val_loss: 1.4379e-04 - val_accuracy: 1.0000\n",
            "Epoch 102/1000\n",
            "1/5 [=====>........................] - ETA: 0s - loss: 0.0306 - accuracy: 0.9922\n",
            "Epoch 102: saving model to model\\training_classifierf.hdf5\n",
            "5/5 [==============================] - 0s 27ms/step - loss: 0.0224 - accuracy: 0.9906 - val_loss: 1.3850e-04 - val_accuracy: 1.0000\n",
            "Epoch 103/1000\n",
            "1/5 [=====>........................] - ETA: 0s - loss: 0.0079 - accuracy: 1.0000\n",
            "Epoch 103: saving model to model\\training_classifierf.hdf5\n",
            "5/5 [==============================] - 0s 24ms/step - loss: 0.0168 - accuracy: 0.9963 - val_loss: 1.3398e-04 - val_accuracy: 1.0000\n",
            "Epoch 104/1000\n",
            "1/5 [=====>........................] - ETA: 0s - loss: 0.0112 - accuracy: 1.0000\n",
            "Epoch 104: saving model to model\\training_classifierf.hdf5\n",
            "5/5 [==============================] - 0s 27ms/step - loss: 0.0148 - accuracy: 0.9963 - val_loss: 1.2722e-04 - val_accuracy: 1.0000\n",
            "Epoch 105/1000\n",
            "1/5 [=====>........................] - ETA: 0s - loss: 0.0066 - accuracy: 1.0000\n",
            "Epoch 105: saving model to model\\training_classifierf.hdf5\n",
            "5/5 [==============================] - 0s 30ms/step - loss: 0.0071 - accuracy: 0.9981 - val_loss: 1.2095e-04 - val_accuracy: 1.0000\n",
            "Epoch 106/1000\n",
            "1/5 [=====>........................] - ETA: 0s - loss: 0.0316 - accuracy: 0.9844\n",
            "Epoch 106: saving model to model\\training_classifierf.hdf5\n",
            "5/5 [==============================] - 0s 35ms/step - loss: 0.0153 - accuracy: 0.9925 - val_loss: 1.1628e-04 - val_accuracy: 1.0000\n",
            "Epoch 107/1000\n",
            "1/5 [=====>........................] - ETA: 0s - loss: 0.0025 - accuracy: 1.0000\n",
            "Epoch 107: saving model to model\\training_classifierf.hdf5\n",
            "5/5 [==============================] - 0s 26ms/step - loss: 0.0086 - accuracy: 0.9963 - val_loss: 1.1198e-04 - val_accuracy: 1.0000\n",
            "Epoch 108/1000\n",
            "1/5 [=====>........................] - ETA: 0s - loss: 0.0117 - accuracy: 0.9922\n",
            "Epoch 108: saving model to model\\training_classifierf.hdf5\n",
            "5/5 [==============================] - 0s 22ms/step - loss: 0.0159 - accuracy: 0.9944 - val_loss: 1.0816e-04 - val_accuracy: 1.0000\n",
            "Epoch 109/1000\n",
            "1/5 [=====>........................] - ETA: 0s - loss: 0.0045 - accuracy: 1.0000\n",
            "Epoch 109: saving model to model\\training_classifierf.hdf5\n",
            "5/5 [==============================] - 0s 20ms/step - loss: 0.0107 - accuracy: 0.9944 - val_loss: 1.0578e-04 - val_accuracy: 1.0000\n",
            "Epoch 110/1000\n",
            "1/5 [=====>........................] - ETA: 0s - loss: 0.0163 - accuracy: 0.9922\n",
            "Epoch 110: saving model to model\\training_classifierf.hdf5\n",
            "5/5 [==============================] - 0s 20ms/step - loss: 0.0130 - accuracy: 0.9963 - val_loss: 1.0411e-04 - val_accuracy: 1.0000\n",
            "Epoch 111/1000\n",
            "1/5 [=====>........................] - ETA: 0s - loss: 0.0681 - accuracy: 0.9766\n",
            "Epoch 111: saving model to model\\training_classifierf.hdf5\n",
            "5/5 [==============================] - 0s 21ms/step - loss: 0.0275 - accuracy: 0.9888 - val_loss: 1.0182e-04 - val_accuracy: 1.0000\n",
            "Epoch 112/1000\n",
            "1/5 [=====>........................] - ETA: 0s - loss: 0.0396 - accuracy: 0.9688\n",
            "Epoch 112: saving model to model\\training_classifierf.hdf5\n",
            "5/5 [==============================] - 0s 35ms/step - loss: 0.0196 - accuracy: 0.9906 - val_loss: 9.8299e-05 - val_accuracy: 1.0000\n",
            "Epoch 113/1000\n",
            "1/5 [=====>........................] - ETA: 0s - loss: 0.0092 - accuracy: 0.9922\n",
            "Epoch 113: saving model to model\\training_classifierf.hdf5\n",
            "5/5 [==============================] - 0s 21ms/step - loss: 0.0170 - accuracy: 0.9963 - val_loss: 9.6312e-05 - val_accuracy: 1.0000\n",
            "Epoch 114/1000\n",
            "1/5 [=====>........................] - ETA: 0s - loss: 0.0118 - accuracy: 1.0000\n",
            "Epoch 114: saving model to model\\training_classifierf.hdf5\n",
            "5/5 [==============================] - 0s 21ms/step - loss: 0.0131 - accuracy: 0.9925 - val_loss: 9.4799e-05 - val_accuracy: 1.0000\n",
            "Epoch 115/1000\n",
            "1/5 [=====>........................] - ETA: 0s - loss: 0.0031 - accuracy: 1.0000\n",
            "Epoch 115: saving model to model\\training_classifierf.hdf5\n",
            "5/5 [==============================] - 0s 24ms/step - loss: 0.0062 - accuracy: 0.9981 - val_loss: 9.1725e-05 - val_accuracy: 1.0000\n",
            "Epoch 116/1000\n",
            "1/5 [=====>........................] - ETA: 0s - loss: 0.0150 - accuracy: 0.9922\n",
            "Epoch 116: saving model to model\\training_classifierf.hdf5\n",
            "5/5 [==============================] - 0s 20ms/step - loss: 0.0138 - accuracy: 0.9944 - val_loss: 8.7080e-05 - val_accuracy: 1.0000\n",
            "Epoch 117/1000\n",
            "1/5 [=====>........................] - ETA: 0s - loss: 0.0024 - accuracy: 1.0000\n",
            "Epoch 117: saving model to model\\training_classifierf.hdf5\n",
            "5/5 [==============================] - 0s 22ms/step - loss: 0.0099 - accuracy: 0.9963 - val_loss: 8.1050e-05 - val_accuracy: 1.0000\n",
            "Epoch 118/1000\n",
            "1/5 [=====>........................] - ETA: 0s - loss: 0.0089 - accuracy: 1.0000\n",
            "Epoch 118: saving model to model\\training_classifierf.hdf5\n",
            "5/5 [==============================] - 0s 22ms/step - loss: 0.0118 - accuracy: 0.9963 - val_loss: 7.6961e-05 - val_accuracy: 1.0000\n",
            "Epoch 119/1000\n",
            "1/5 [=====>........................] - ETA: 0s - loss: 0.0100 - accuracy: 1.0000\n",
            "Epoch 119: saving model to model\\training_classifierf.hdf5\n",
            "5/5 [==============================] - 0s 26ms/step - loss: 0.0111 - accuracy: 0.9963 - val_loss: 7.4334e-05 - val_accuracy: 1.0000\n",
            "Epoch 120/1000\n",
            "1/5 [=====>........................] - ETA: 0s - loss: 0.0342 - accuracy: 0.9844\n",
            "Epoch 120: saving model to model\\training_classifierf.hdf5\n",
            "5/5 [==============================] - 0s 24ms/step - loss: 0.0154 - accuracy: 0.9925 - val_loss: 7.1793e-05 - val_accuracy: 1.0000\n",
            "Epoch 121/1000\n",
            "1/5 [=====>........................] - ETA: 0s - loss: 0.0039 - accuracy: 1.0000\n",
            "Epoch 121: saving model to model\\training_classifierf.hdf5\n",
            "5/5 [==============================] - 0s 24ms/step - loss: 0.0062 - accuracy: 1.0000 - val_loss: 6.9228e-05 - val_accuracy: 1.0000\n",
            "Epoch 122/1000\n",
            "1/5 [=====>........................] - ETA: 0s - loss: 0.0048 - accuracy: 1.0000\n",
            "Epoch 122: saving model to model\\training_classifierf.hdf5\n",
            "5/5 [==============================] - 0s 24ms/step - loss: 0.0069 - accuracy: 1.0000 - val_loss: 6.6455e-05 - val_accuracy: 1.0000\n",
            "Epoch 123/1000\n",
            "1/5 [=====>........................] - ETA: 0s - loss: 0.0055 - accuracy: 1.0000\n",
            "Epoch 123: saving model to model\\training_classifierf.hdf5\n",
            "5/5 [==============================] - 0s 25ms/step - loss: 0.0337 - accuracy: 0.9906 - val_loss: 6.5521e-05 - val_accuracy: 1.0000\n",
            "Epoch 124/1000\n",
            "1/5 [=====>........................] - ETA: 0s - loss: 0.0070 - accuracy: 1.0000\n",
            "Epoch 124: saving model to model\\training_classifierf.hdf5\n",
            "5/5 [==============================] - 0s 24ms/step - loss: 0.0055 - accuracy: 1.0000 - val_loss: 6.4449e-05 - val_accuracy: 1.0000\n",
            "Epoch 125/1000\n",
            "1/5 [=====>........................] - ETA: 0s - loss: 0.0026 - accuracy: 1.0000\n",
            "Epoch 125: saving model to model\\training_classifierf.hdf5\n",
            "5/5 [==============================] - 0s 21ms/step - loss: 0.0227 - accuracy: 0.9925 - val_loss: 6.3088e-05 - val_accuracy: 1.0000\n",
            "Epoch 126/1000\n",
            "1/5 [=====>........................] - ETA: 0s - loss: 0.0226 - accuracy: 0.9922\n",
            "Epoch 126: saving model to model\\training_classifierf.hdf5\n",
            "5/5 [==============================] - 0s 23ms/step - loss: 0.0092 - accuracy: 0.9981 - val_loss: 6.1251e-05 - val_accuracy: 1.0000\n",
            "Epoch 127/1000\n",
            "1/5 [=====>........................] - ETA: 0s - loss: 0.0116 - accuracy: 1.0000\n",
            "Epoch 127: saving model to model\\training_classifierf.hdf5\n",
            "5/5 [==============================] - 0s 21ms/step - loss: 0.0121 - accuracy: 0.9963 - val_loss: 5.9408e-05 - val_accuracy: 1.0000\n",
            "Epoch 128/1000\n",
            "1/5 [=====>........................] - ETA: 0s - loss: 0.0066 - accuracy: 1.0000\n",
            "Epoch 128: saving model to model\\training_classifierf.hdf5\n",
            "5/5 [==============================] - 0s 22ms/step - loss: 0.0174 - accuracy: 0.9925 - val_loss: 5.8851e-05 - val_accuracy: 1.0000\n",
            "Epoch 129/1000\n",
            "1/5 [=====>........................] - ETA: 0s - loss: 0.0040 - accuracy: 1.0000\n",
            "Epoch 129: saving model to model\\training_classifierf.hdf5\n",
            "5/5 [==============================] - 0s 21ms/step - loss: 0.0084 - accuracy: 0.9981 - val_loss: 5.8277e-05 - val_accuracy: 1.0000\n",
            "Epoch 130/1000\n",
            "1/5 [=====>........................] - ETA: 0s - loss: 0.0030 - accuracy: 1.0000\n",
            "Epoch 130: saving model to model\\training_classifierf.hdf5\n",
            "5/5 [==============================] - 0s 20ms/step - loss: 0.0088 - accuracy: 0.9981 - val_loss: 5.7573e-05 - val_accuracy: 1.0000\n",
            "Epoch 131/1000\n",
            "1/5 [=====>........................] - ETA: 0s - loss: 0.0079 - accuracy: 1.0000\n",
            "Epoch 131: saving model to model\\training_classifierf.hdf5\n",
            "5/5 [==============================] - 0s 22ms/step - loss: 0.0127 - accuracy: 0.9963 - val_loss: 5.6896e-05 - val_accuracy: 1.0000\n",
            "Epoch 132/1000\n",
            "1/5 [=====>........................] - ETA: 0s - loss: 0.0095 - accuracy: 0.9922\n",
            "Epoch 132: saving model to model\\training_classifierf.hdf5\n",
            "5/5 [==============================] - 0s 20ms/step - loss: 0.0115 - accuracy: 0.9944 - val_loss: 5.6994e-05 - val_accuracy: 1.0000\n",
            "Epoch 133/1000\n",
            "1/5 [=====>........................] - ETA: 0s - loss: 0.0140 - accuracy: 1.0000\n",
            "Epoch 133: saving model to model\\training_classifierf.hdf5\n",
            "5/5 [==============================] - 0s 21ms/step - loss: 0.0085 - accuracy: 0.9981 - val_loss: 5.7419e-05 - val_accuracy: 1.0000\n",
            "Epoch 134/1000\n",
            "1/5 [=====>........................] - ETA: 0s - loss: 0.0081 - accuracy: 0.9922\n",
            "Epoch 134: saving model to model\\training_classifierf.hdf5\n",
            "5/5 [==============================] - 0s 21ms/step - loss: 0.0062 - accuracy: 0.9981 - val_loss: 5.7161e-05 - val_accuracy: 1.0000\n",
            "Epoch 135/1000\n",
            "1/5 [=====>........................] - ETA: 0s - loss: 0.0059 - accuracy: 1.0000\n",
            "Epoch 135: saving model to model\\training_classifierf.hdf5\n",
            "5/5 [==============================] - 0s 21ms/step - loss: 0.0092 - accuracy: 0.9981 - val_loss: 5.6240e-05 - val_accuracy: 1.0000\n",
            "Epoch 136/1000\n",
            "1/5 [=====>........................] - ETA: 0s - loss: 0.0107 - accuracy: 1.0000\n",
            "Epoch 136: saving model to model\\training_classifierf.hdf5\n",
            "5/5 [==============================] - 0s 21ms/step - loss: 0.0057 - accuracy: 1.0000 - val_loss: 5.4262e-05 - val_accuracy: 1.0000\n",
            "Epoch 137/1000\n",
            "1/5 [=====>........................] - ETA: 0s - loss: 0.0133 - accuracy: 1.0000\n",
            "Epoch 137: saving model to model\\training_classifierf.hdf5\n",
            "5/5 [==============================] - 0s 23ms/step - loss: 0.0075 - accuracy: 1.0000 - val_loss: 5.1360e-05 - val_accuracy: 1.0000\n",
            "Epoch 138/1000\n",
            "1/5 [=====>........................] - ETA: 0s - loss: 0.0058 - accuracy: 1.0000\n",
            "Epoch 138: saving model to model\\training_classifierf.hdf5\n",
            "5/5 [==============================] - 0s 21ms/step - loss: 0.0103 - accuracy: 0.9963 - val_loss: 4.8691e-05 - val_accuracy: 1.0000\n",
            "Epoch 139/1000\n",
            "1/5 [=====>........................] - ETA: 0s - loss: 0.0102 - accuracy: 1.0000\n",
            "Epoch 139: saving model to model\\training_classifierf.hdf5\n",
            "5/5 [==============================] - 0s 21ms/step - loss: 0.0163 - accuracy: 0.9981 - val_loss: 4.6294e-05 - val_accuracy: 1.0000\n",
            "Epoch 140/1000\n",
            "1/5 [=====>........................] - ETA: 0s - loss: 0.0255 - accuracy: 0.9922\n",
            "Epoch 140: saving model to model\\training_classifierf.hdf5\n",
            "5/5 [==============================] - 0s 22ms/step - loss: 0.0156 - accuracy: 0.9944 - val_loss: 4.5883e-05 - val_accuracy: 1.0000\n",
            "Epoch 141/1000\n",
            "1/5 [=====>........................] - ETA: 0s - loss: 0.0098 - accuracy: 0.9922\n",
            "Epoch 141: saving model to model\\training_classifierf.hdf5\n",
            "5/5 [==============================] - 0s 19ms/step - loss: 0.0058 - accuracy: 0.9981 - val_loss: 4.5756e-05 - val_accuracy: 1.0000\n",
            "Epoch 142/1000\n",
            "1/5 [=====>........................] - ETA: 0s - loss: 0.0099 - accuracy: 1.0000\n",
            "Epoch 142: saving model to model\\training_classifierf.hdf5\n",
            "5/5 [==============================] - 0s 21ms/step - loss: 0.0054 - accuracy: 1.0000 - val_loss: 4.4977e-05 - val_accuracy: 1.0000\n",
            "Epoch 143/1000\n",
            "1/5 [=====>........................] - ETA: 0s - loss: 0.0096 - accuracy: 1.0000\n",
            "Epoch 143: saving model to model\\training_classifierf.hdf5\n",
            "5/5 [==============================] - 0s 20ms/step - loss: 0.0124 - accuracy: 0.9963 - val_loss: 4.4938e-05 - val_accuracy: 1.0000\n",
            "Epoch 144/1000\n",
            "1/5 [=====>........................] - ETA: 0s - loss: 0.0115 - accuracy: 0.9922\n",
            "Epoch 144: saving model to model\\training_classifierf.hdf5\n",
            "5/5 [==============================] - 0s 35ms/step - loss: 0.0107 - accuracy: 0.9963 - val_loss: 4.4073e-05 - val_accuracy: 1.0000\n",
            "Epoch 145/1000\n",
            "1/5 [=====>........................] - ETA: 0s - loss: 0.0129 - accuracy: 0.9922\n",
            "Epoch 145: saving model to model\\training_classifierf.hdf5\n",
            "5/5 [==============================] - 0s 22ms/step - loss: 0.0188 - accuracy: 0.9944 - val_loss: 4.1414e-05 - val_accuracy: 1.0000\n",
            "Epoch 146/1000\n",
            "1/5 [=====>........................] - ETA: 0s - loss: 0.0024 - accuracy: 1.0000\n",
            "Epoch 146: saving model to model\\training_classifierf.hdf5\n",
            "5/5 [==============================] - 0s 24ms/step - loss: 0.0048 - accuracy: 1.0000 - val_loss: 3.9688e-05 - val_accuracy: 1.0000\n",
            "Epoch 147/1000\n",
            "1/5 [=====>........................] - ETA: 0s - loss: 0.0024 - accuracy: 1.0000\n",
            "Epoch 147: saving model to model\\training_classifierf.hdf5\n",
            "5/5 [==============================] - 0s 23ms/step - loss: 0.0059 - accuracy: 0.9981 - val_loss: 3.8516e-05 - val_accuracy: 1.0000\n",
            "Epoch 148/1000\n",
            "1/5 [=====>........................] - ETA: 0s - loss: 0.0393 - accuracy: 0.9688\n",
            "Epoch 148: saving model to model\\training_classifierf.hdf5\n",
            "5/5 [==============================] - 0s 23ms/step - loss: 0.0143 - accuracy: 0.9906 - val_loss: 3.7653e-05 - val_accuracy: 1.0000\n",
            "Epoch 149/1000\n",
            "1/5 [=====>........................] - ETA: 0s - loss: 0.0348 - accuracy: 0.9922\n",
            "Epoch 149: saving model to model\\training_classifierf.hdf5\n",
            "5/5 [==============================] - 0s 22ms/step - loss: 0.0134 - accuracy: 0.9963 - val_loss: 3.7026e-05 - val_accuracy: 1.0000\n",
            "Epoch 150/1000\n",
            "1/5 [=====>........................] - ETA: 0s - loss: 0.0077 - accuracy: 1.0000\n",
            "Epoch 150: saving model to model\\training_classifierf.hdf5\n",
            "5/5 [==============================] - 0s 20ms/step - loss: 0.0082 - accuracy: 1.0000 - val_loss: 3.6226e-05 - val_accuracy: 1.0000\n",
            "Epoch 151/1000\n",
            "1/5 [=====>........................] - ETA: 0s - loss: 0.0051 - accuracy: 1.0000\n",
            "Epoch 151: saving model to model\\training_classifierf.hdf5\n",
            "5/5 [==============================] - 0s 21ms/step - loss: 0.0162 - accuracy: 0.9944 - val_loss: 3.5697e-05 - val_accuracy: 1.0000\n",
            "Epoch 152/1000\n",
            "1/5 [=====>........................] - ETA: 0s - loss: 0.0012 - accuracy: 1.0000\n",
            "Epoch 152: saving model to model\\training_classifierf.hdf5\n",
            "5/5 [==============================] - 0s 22ms/step - loss: 0.0109 - accuracy: 0.9944 - val_loss: 3.5365e-05 - val_accuracy: 1.0000\n",
            "Epoch 153/1000\n",
            "1/5 [=====>........................] - ETA: 0s - loss: 0.0022 - accuracy: 1.0000\n",
            "Epoch 153: saving model to model\\training_classifierf.hdf5\n",
            "5/5 [==============================] - 0s 24ms/step - loss: 0.0105 - accuracy: 0.9944 - val_loss: 3.5029e-05 - val_accuracy: 1.0000\n",
            "Epoch 154/1000\n",
            "1/5 [=====>........................] - ETA: 0s - loss: 0.0403 - accuracy: 0.9844\n",
            "Epoch 154: saving model to model\\training_classifierf.hdf5\n",
            "5/5 [==============================] - 0s 21ms/step - loss: 0.0133 - accuracy: 0.9963 - val_loss: 3.5169e-05 - val_accuracy: 1.0000\n",
            "Epoch 155/1000\n",
            "1/5 [=====>........................] - ETA: 0s - loss: 0.0452 - accuracy: 0.9922\n",
            "Epoch 155: saving model to model\\training_classifierf.hdf5\n",
            "5/5 [==============================] - 0s 20ms/step - loss: 0.0188 - accuracy: 0.9963 - val_loss: 3.5844e-05 - val_accuracy: 1.0000\n",
            "Epoch 156/1000\n",
            "1/5 [=====>........................] - ETA: 0s - loss: 0.0101 - accuracy: 1.0000\n",
            "Epoch 156: saving model to model\\training_classifierf.hdf5\n",
            "5/5 [==============================] - 0s 21ms/step - loss: 0.0067 - accuracy: 1.0000 - val_loss: 3.6009e-05 - val_accuracy: 1.0000\n",
            "Epoch 157/1000\n",
            "1/5 [=====>........................] - ETA: 0s - loss: 0.0027 - accuracy: 1.0000\n",
            "Epoch 157: saving model to model\\training_classifierf.hdf5\n",
            "5/5 [==============================] - 0s 22ms/step - loss: 0.0047 - accuracy: 1.0000 - val_loss: 3.5512e-05 - val_accuracy: 1.0000\n",
            "Epoch 158/1000\n",
            "1/5 [=====>........................] - ETA: 0s - loss: 0.0031 - accuracy: 1.0000\n",
            "Epoch 158: saving model to model\\training_classifierf.hdf5\n",
            "5/5 [==============================] - 0s 30ms/step - loss: 0.0054 - accuracy: 0.9981 - val_loss: 3.5129e-05 - val_accuracy: 1.0000\n",
            "Epoch 159/1000\n",
            "1/5 [=====>........................] - ETA: 0s - loss: 0.0233 - accuracy: 0.9844\n",
            "Epoch 159: saving model to model\\training_classifierf.hdf5\n",
            "5/5 [==============================] - 0s 25ms/step - loss: 0.0115 - accuracy: 0.9944 - val_loss: 3.4870e-05 - val_accuracy: 1.0000\n",
            "Epoch 160/1000\n",
            "1/5 [=====>........................] - ETA: 0s - loss: 0.0187 - accuracy: 0.9922\n",
            "Epoch 160: saving model to model\\training_classifierf.hdf5\n",
            "5/5 [==============================] - 0s 21ms/step - loss: 0.0118 - accuracy: 0.9944 - val_loss: 3.4039e-05 - val_accuracy: 1.0000\n",
            "Epoch 161/1000\n",
            "1/5 [=====>........................] - ETA: 0s - loss: 0.0042 - accuracy: 1.0000\n",
            "Epoch 161: saving model to model\\training_classifierf.hdf5\n",
            "5/5 [==============================] - 0s 21ms/step - loss: 0.0088 - accuracy: 0.9981 - val_loss: 3.3290e-05 - val_accuracy: 1.0000\n",
            "Epoch 162/1000\n",
            "1/5 [=====>........................] - ETA: 0s - loss: 0.0064 - accuracy: 1.0000\n",
            "Epoch 162: saving model to model\\training_classifierf.hdf5\n",
            "5/5 [==============================] - 0s 21ms/step - loss: 0.0064 - accuracy: 1.0000 - val_loss: 3.2530e-05 - val_accuracy: 1.0000\n",
            "Epoch 163/1000\n",
            "1/5 [=====>........................] - ETA: 0s - loss: 0.0050 - accuracy: 1.0000\n",
            "Epoch 163: saving model to model\\training_classifierf.hdf5\n",
            "5/5 [==============================] - 0s 20ms/step - loss: 0.0091 - accuracy: 0.9963 - val_loss: 3.1621e-05 - val_accuracy: 1.0000\n",
            "Epoch 164/1000\n",
            "1/5 [=====>........................] - ETA: 0s - loss: 0.0091 - accuracy: 1.0000\n",
            "Epoch 164: saving model to model\\training_classifierf.hdf5\n",
            "5/5 [==============================] - 0s 32ms/step - loss: 0.0077 - accuracy: 0.9981 - val_loss: 3.0369e-05 - val_accuracy: 1.0000\n",
            "Epoch 165/1000\n",
            "1/5 [=====>........................] - ETA: 0s - loss: 0.0025 - accuracy: 1.0000\n",
            "Epoch 165: saving model to model\\training_classifierf.hdf5\n",
            "5/5 [==============================] - 0s 24ms/step - loss: 0.0098 - accuracy: 0.9963 - val_loss: 2.9725e-05 - val_accuracy: 1.0000\n",
            "Epoch 166/1000\n",
            "1/5 [=====>........................] - ETA: 0s - loss: 0.0077 - accuracy: 1.0000\n",
            "Epoch 166: saving model to model\\training_classifierf.hdf5\n",
            "5/5 [==============================] - 0s 27ms/step - loss: 0.0093 - accuracy: 1.0000 - val_loss: 2.9167e-05 - val_accuracy: 1.0000\n",
            "Epoch 167/1000\n",
            "1/5 [=====>........................] - ETA: 0s - loss: 0.0103 - accuracy: 1.0000\n",
            "Epoch 167: saving model to model\\training_classifierf.hdf5\n",
            "5/5 [==============================] - 0s 20ms/step - loss: 0.0115 - accuracy: 0.9963 - val_loss: 2.8712e-05 - val_accuracy: 1.0000\n",
            "Epoch 168/1000\n",
            "1/5 [=====>........................] - ETA: 0s - loss: 0.0105 - accuracy: 0.9922\n",
            "Epoch 168: saving model to model\\training_classifierf.hdf5\n",
            "5/5 [==============================] - 0s 31ms/step - loss: 0.0153 - accuracy: 0.9906 - val_loss: 2.8220e-05 - val_accuracy: 1.0000\n",
            "Epoch 169/1000\n",
            "1/5 [=====>........................] - ETA: 0s - loss: 0.0017 - accuracy: 1.0000\n",
            "Epoch 169: saving model to model\\training_classifierf.hdf5\n",
            "5/5 [==============================] - 0s 41ms/step - loss: 0.0074 - accuracy: 1.0000 - val_loss: 2.7562e-05 - val_accuracy: 1.0000\n",
            "Epoch 170/1000\n",
            "1/5 [=====>........................] - ETA: 0s - loss: 0.0029 - accuracy: 1.0000\n",
            "Epoch 170: saving model to model\\training_classifierf.hdf5\n",
            "5/5 [==============================] - 0s 33ms/step - loss: 0.0155 - accuracy: 0.9944 - val_loss: 2.6792e-05 - val_accuracy: 1.0000\n",
            "Epoch 171/1000\n",
            "1/5 [=====>........................] - ETA: 0s - loss: 0.0183 - accuracy: 0.9844\n",
            "Epoch 171: saving model to model\\training_classifierf.hdf5\n",
            "5/5 [==============================] - 0s 30ms/step - loss: 0.0127 - accuracy: 0.9925 - val_loss: 2.7305e-05 - val_accuracy: 1.0000\n",
            "Epoch 172/1000\n",
            "1/5 [=====>........................] - ETA: 0s - loss: 0.0150 - accuracy: 0.9922\n",
            "Epoch 172: saving model to model\\training_classifierf.hdf5\n",
            "5/5 [==============================] - 0s 30ms/step - loss: 0.0079 - accuracy: 0.9963 - val_loss: 2.7478e-05 - val_accuracy: 1.0000\n",
            "Epoch 173/1000\n",
            "1/5 [=====>........................] - ETA: 0s - loss: 0.0024 - accuracy: 1.0000\n",
            "Epoch 173: saving model to model\\training_classifierf.hdf5\n",
            "5/5 [==============================] - 0s 24ms/step - loss: 0.0129 - accuracy: 0.9981 - val_loss: 2.7515e-05 - val_accuracy: 1.0000\n",
            "Epoch 174/1000\n",
            "1/5 [=====>........................] - ETA: 0s - loss: 0.0373 - accuracy: 0.9766\n",
            "Epoch 174: saving model to model\\training_classifierf.hdf5\n",
            "5/5 [==============================] - 0s 22ms/step - loss: 0.0137 - accuracy: 0.9944 - val_loss: 2.7238e-05 - val_accuracy: 1.0000\n",
            "Epoch 175/1000\n",
            "1/5 [=====>........................] - ETA: 0s - loss: 0.0220 - accuracy: 0.9922\n",
            "Epoch 175: saving model to model\\training_classifierf.hdf5\n",
            "5/5 [==============================] - 0s 19ms/step - loss: 0.0083 - accuracy: 0.9981 - val_loss: 2.6719e-05 - val_accuracy: 1.0000\n",
            "Epoch 176/1000\n",
            "1/5 [=====>........................] - ETA: 0s - loss: 0.0017 - accuracy: 1.0000\n",
            "Epoch 176: saving model to model\\training_classifierf.hdf5\n",
            "5/5 [==============================] - 0s 20ms/step - loss: 0.0030 - accuracy: 1.0000 - val_loss: 2.5927e-05 - val_accuracy: 1.0000\n",
            "Epoch 177/1000\n",
            "1/5 [=====>........................] - ETA: 0s - loss: 0.0052 - accuracy: 1.0000\n",
            "Epoch 177: saving model to model\\training_classifierf.hdf5\n",
            "5/5 [==============================] - 0s 19ms/step - loss: 0.0090 - accuracy: 0.9981 - val_loss: 2.4237e-05 - val_accuracy: 1.0000\n",
            "Epoch 178/1000\n",
            "1/5 [=====>........................] - ETA: 0s - loss: 0.0098 - accuracy: 0.9922\n",
            "Epoch 178: saving model to model\\training_classifierf.hdf5\n",
            "5/5 [==============================] - 0s 25ms/step - loss: 0.0062 - accuracy: 0.9981 - val_loss: 2.2741e-05 - val_accuracy: 1.0000\n",
            "Epoch 179/1000\n",
            "1/5 [=====>........................] - ETA: 0s - loss: 0.0119 - accuracy: 0.9922\n",
            "Epoch 179: saving model to model\\training_classifierf.hdf5\n",
            "5/5 [==============================] - 0s 26ms/step - loss: 0.0045 - accuracy: 0.9981 - val_loss: 2.1550e-05 - val_accuracy: 1.0000\n",
            "Epoch 180/1000\n",
            "1/5 [=====>........................] - ETA: 0s - loss: 0.0037 - accuracy: 1.0000\n",
            "Epoch 180: saving model to model\\training_classifierf.hdf5\n",
            "5/5 [==============================] - 0s 25ms/step - loss: 0.0027 - accuracy: 1.0000 - val_loss: 2.0709e-05 - val_accuracy: 1.0000\n",
            "Epoch 181/1000\n",
            "1/5 [=====>........................] - ETA: 0s - loss: 8.5201e-04 - accuracy: 1.0000\n",
            "Epoch 181: saving model to model\\training_classifierf.hdf5\n",
            "5/5 [==============================] - 0s 27ms/step - loss: 0.0084 - accuracy: 0.9963 - val_loss: 2.0219e-05 - val_accuracy: 1.0000\n",
            "Epoch 182/1000\n",
            "1/5 [=====>........................] - ETA: 0s - loss: 0.0330 - accuracy: 0.9922\n",
            "Epoch 182: saving model to model\\training_classifierf.hdf5\n",
            "5/5 [==============================] - 0s 25ms/step - loss: 0.0148 - accuracy: 0.9963 - val_loss: 2.0294e-05 - val_accuracy: 1.0000\n",
            "Epoch 183/1000\n",
            "1/5 [=====>........................] - ETA: 0s - loss: 0.0100 - accuracy: 0.9922\n",
            "Epoch 183: saving model to model\\training_classifierf.hdf5\n",
            "5/5 [==============================] - 0s 27ms/step - loss: 0.0091 - accuracy: 0.9963 - val_loss: 2.0003e-05 - val_accuracy: 1.0000\n",
            "Epoch 184/1000\n",
            "1/5 [=====>........................] - ETA: 0s - loss: 0.0061 - accuracy: 1.0000\n",
            "Epoch 184: saving model to model\\training_classifierf.hdf5\n",
            "5/5 [==============================] - 0s 25ms/step - loss: 0.0063 - accuracy: 0.9981 - val_loss: 1.9432e-05 - val_accuracy: 1.0000\n",
            "Epoch 185/1000\n",
            "1/5 [=====>........................] - ETA: 0s - loss: 0.0210 - accuracy: 0.9922\n",
            "Epoch 185: saving model to model\\training_classifierf.hdf5\n",
            "5/5 [==============================] - 0s 23ms/step - loss: 0.0099 - accuracy: 0.9981 - val_loss: 1.9045e-05 - val_accuracy: 1.0000\n",
            "Epoch 186/1000\n",
            "1/5 [=====>........................] - ETA: 0s - loss: 0.0013 - accuracy: 1.0000\n",
            "Epoch 186: saving model to model\\training_classifierf.hdf5\n",
            "5/5 [==============================] - 0s 38ms/step - loss: 0.0063 - accuracy: 0.9981 - val_loss: 1.8603e-05 - val_accuracy: 1.0000\n",
            "Epoch 187/1000\n",
            "1/5 [=====>........................] - ETA: 0s - loss: 0.0141 - accuracy: 1.0000\n",
            "Epoch 187: saving model to model\\training_classifierf.hdf5\n",
            "5/5 [==============================] - 0s 27ms/step - loss: 0.0095 - accuracy: 0.9981 - val_loss: 1.8380e-05 - val_accuracy: 1.0000\n",
            "Epoch 188/1000\n",
            "1/5 [=====>........................] - ETA: 0s - loss: 0.0096 - accuracy: 1.0000\n",
            "Epoch 188: saving model to model\\training_classifierf.hdf5\n",
            "5/5 [==============================] - 0s 27ms/step - loss: 0.0107 - accuracy: 0.9981 - val_loss: 1.8231e-05 - val_accuracy: 1.0000\n",
            "Epoch 189/1000\n",
            "1/5 [=====>........................] - ETA: 0s - loss: 0.0077 - accuracy: 1.0000\n",
            "Epoch 189: saving model to model\\training_classifierf.hdf5\n",
            "5/5 [==============================] - 0s 23ms/step - loss: 0.0060 - accuracy: 0.9981 - val_loss: 1.7851e-05 - val_accuracy: 1.0000\n",
            "Epoch 190/1000\n",
            "1/5 [=====>........................] - ETA: 0s - loss: 0.0015 - accuracy: 1.0000\n",
            "Epoch 190: saving model to model\\training_classifierf.hdf5\n",
            "5/5 [==============================] - 0s 30ms/step - loss: 0.0085 - accuracy: 0.9981 - val_loss: 1.7487e-05 - val_accuracy: 1.0000\n",
            "Epoch 191/1000\n",
            "1/5 [=====>........................] - ETA: 0s - loss: 0.0012 - accuracy: 1.0000\n",
            "Epoch 191: saving model to model\\training_classifierf.hdf5\n",
            "5/5 [==============================] - 0s 28ms/step - loss: 0.0142 - accuracy: 0.9963 - val_loss: 1.7409e-05 - val_accuracy: 1.0000\n",
            "Epoch 192/1000\n",
            "1/5 [=====>........................] - ETA: 0s - loss: 0.0044 - accuracy: 1.0000\n",
            "Epoch 192: saving model to model\\training_classifierf.hdf5\n",
            "5/5 [==============================] - 0s 26ms/step - loss: 0.0059 - accuracy: 0.9981 - val_loss: 1.7477e-05 - val_accuracy: 1.0000\n",
            "Epoch 193/1000\n",
            "1/5 [=====>........................] - ETA: 0s - loss: 0.0106 - accuracy: 0.9922\n",
            "Epoch 193: saving model to model\\training_classifierf.hdf5\n",
            "5/5 [==============================] - 0s 25ms/step - loss: 0.0109 - accuracy: 0.9963 - val_loss: 1.7202e-05 - val_accuracy: 1.0000\n",
            "Epoch 194/1000\n",
            "1/5 [=====>........................] - ETA: 0s - loss: 0.0047 - accuracy: 1.0000\n",
            "Epoch 194: saving model to model\\training_classifierf.hdf5\n",
            "5/5 [==============================] - 0s 25ms/step - loss: 0.0070 - accuracy: 0.9963 - val_loss: 1.6823e-05 - val_accuracy: 1.0000\n",
            "Epoch 195/1000\n",
            "1/5 [=====>........................] - ETA: 0s - loss: 0.0047 - accuracy: 1.0000\n",
            "Epoch 195: saving model to model\\training_classifierf.hdf5\n",
            "5/5 [==============================] - 0s 26ms/step - loss: 0.0101 - accuracy: 0.9944 - val_loss: 1.6623e-05 - val_accuracy: 1.0000\n",
            "Epoch 196/1000\n",
            "1/5 [=====>........................] - ETA: 0s - loss: 0.0045 - accuracy: 1.0000\n",
            "Epoch 196: saving model to model\\training_classifierf.hdf5\n",
            "5/5 [==============================] - 0s 24ms/step - loss: 0.0041 - accuracy: 1.0000 - val_loss: 1.6324e-05 - val_accuracy: 1.0000\n",
            "Epoch 197/1000\n",
            "1/5 [=====>........................] - ETA: 0s - loss: 0.0017 - accuracy: 1.0000\n",
            "Epoch 197: saving model to model\\training_classifierf.hdf5\n",
            "5/5 [==============================] - 0s 26ms/step - loss: 0.0062 - accuracy: 0.9981 - val_loss: 1.5721e-05 - val_accuracy: 1.0000\n",
            "Epoch 198/1000\n",
            "1/5 [=====>........................] - ETA: 0s - loss: 0.0103 - accuracy: 1.0000\n",
            "Epoch 198: saving model to model\\training_classifierf.hdf5\n",
            "5/5 [==============================] - 0s 30ms/step - loss: 0.0071 - accuracy: 0.9981 - val_loss: 1.5092e-05 - val_accuracy: 1.0000\n",
            "Epoch 199/1000\n",
            "1/5 [=====>........................] - ETA: 0s - loss: 0.0135 - accuracy: 0.9922\n",
            "Epoch 199: saving model to model\\training_classifierf.hdf5\n",
            "5/5 [==============================] - 0s 29ms/step - loss: 0.0110 - accuracy: 0.9944 - val_loss: 1.4215e-05 - val_accuracy: 1.0000\n",
            "Epoch 200/1000\n",
            "1/5 [=====>........................] - ETA: 0s - loss: 9.6551e-04 - accuracy: 1.0000\n",
            "Epoch 200: saving model to model\\training_classifierf.hdf5\n",
            "5/5 [==============================] - 0s 25ms/step - loss: 0.0104 - accuracy: 0.9925 - val_loss: 1.3625e-05 - val_accuracy: 1.0000\n",
            "Epoch 201/1000\n",
            "1/5 [=====>........................] - ETA: 0s - loss: 0.0066 - accuracy: 1.0000\n",
            "Epoch 201: saving model to model\\training_classifierf.hdf5\n",
            "5/5 [==============================] - 0s 24ms/step - loss: 0.0069 - accuracy: 0.9963 - val_loss: 1.3089e-05 - val_accuracy: 1.0000\n",
            "Epoch 202/1000\n",
            "1/5 [=====>........................] - ETA: 0s - loss: 0.0032 - accuracy: 1.0000\n",
            "Epoch 202: saving model to model\\training_classifierf.hdf5\n",
            "5/5 [==============================] - 0s 23ms/step - loss: 0.0026 - accuracy: 1.0000 - val_loss: 1.2587e-05 - val_accuracy: 1.0000\n",
            "Epoch 203/1000\n",
            "1/5 [=====>........................] - ETA: 0s - loss: 7.0204e-04 - accuracy: 1.0000\n",
            "Epoch 203: saving model to model\\training_classifierf.hdf5\n",
            "5/5 [==============================] - 0s 26ms/step - loss: 0.0065 - accuracy: 0.9981 - val_loss: 1.2265e-05 - val_accuracy: 1.0000\n",
            "Epoch 204/1000\n",
            "1/5 [=====>........................] - ETA: 0s - loss: 0.0044 - accuracy: 1.0000\n",
            "Epoch 204: saving model to model\\training_classifierf.hdf5\n",
            "5/5 [==============================] - 0s 26ms/step - loss: 0.0055 - accuracy: 1.0000 - val_loss: 1.1920e-05 - val_accuracy: 1.0000\n",
            "Epoch 205/1000\n",
            "1/5 [=====>........................] - ETA: 0s - loss: 0.0061 - accuracy: 1.0000\n",
            "Epoch 205: saving model to model\\training_classifierf.hdf5\n",
            "5/5 [==============================] - 0s 38ms/step - loss: 0.0085 - accuracy: 0.9963 - val_loss: 1.1625e-05 - val_accuracy: 1.0000\n",
            "Epoch 206/1000\n",
            "1/5 [=====>........................] - ETA: 0s - loss: 0.0119 - accuracy: 1.0000\n",
            "Epoch 206: saving model to model\\training_classifierf.hdf5\n",
            "5/5 [==============================] - 0s 21ms/step - loss: 0.0104 - accuracy: 0.9944 - val_loss: 1.1385e-05 - val_accuracy: 1.0000\n",
            "Epoch 207/1000\n",
            "1/5 [=====>........................] - ETA: 0s - loss: 0.0011 - accuracy: 1.0000\n",
            "Epoch 207: saving model to model\\training_classifierf.hdf5\n",
            "5/5 [==============================] - 0s 25ms/step - loss: 0.0034 - accuracy: 1.0000 - val_loss: 1.1063e-05 - val_accuracy: 1.0000\n",
            "Epoch 208/1000\n",
            "1/5 [=====>........................] - ETA: 0s - loss: 0.0050 - accuracy: 1.0000\n",
            "Epoch 208: saving model to model\\training_classifierf.hdf5\n",
            "5/5 [==============================] - 0s 21ms/step - loss: 0.0079 - accuracy: 0.9981 - val_loss: 1.0810e-05 - val_accuracy: 1.0000\n",
            "Epoch 209/1000\n",
            "1/5 [=====>........................] - ETA: 0s - loss: 0.0217 - accuracy: 0.9922\n",
            "Epoch 209: saving model to model\\training_classifierf.hdf5\n",
            "5/5 [==============================] - 0s 24ms/step - loss: 0.0152 - accuracy: 0.9963 - val_loss: 1.0786e-05 - val_accuracy: 1.0000\n",
            "Epoch 210/1000\n",
            "1/5 [=====>........................] - ETA: 0s - loss: 7.5177e-04 - accuracy: 1.0000\n",
            "Epoch 210: saving model to model\\training_classifierf.hdf5\n",
            "5/5 [==============================] - 0s 20ms/step - loss: 0.0033 - accuracy: 1.0000 - val_loss: 1.0683e-05 - val_accuracy: 1.0000\n",
            "Epoch 211/1000\n",
            "1/5 [=====>........................] - ETA: 0s - loss: 0.0053 - accuracy: 1.0000\n",
            "Epoch 211: saving model to model\\training_classifierf.hdf5\n",
            "5/5 [==============================] - 0s 20ms/step - loss: 0.0048 - accuracy: 1.0000 - val_loss: 1.0447e-05 - val_accuracy: 1.0000\n",
            "Epoch 212/1000\n",
            "1/5 [=====>........................] - ETA: 0s - loss: 0.0025 - accuracy: 1.0000\n",
            "Epoch 212: saving model to model\\training_classifierf.hdf5\n",
            "5/5 [==============================] - 0s 20ms/step - loss: 0.0040 - accuracy: 0.9981 - val_loss: 1.0162e-05 - val_accuracy: 1.0000\n",
            "Epoch 213/1000\n",
            "1/5 [=====>........................] - ETA: 0s - loss: 0.0129 - accuracy: 0.9922\n",
            "Epoch 213: saving model to model\\training_classifierf.hdf5\n",
            "5/5 [==============================] - 0s 21ms/step - loss: 0.0075 - accuracy: 0.9981 - val_loss: 9.9225e-06 - val_accuracy: 1.0000\n",
            "Epoch 214/1000\n",
            "1/5 [=====>........................] - ETA: 0s - loss: 6.3352e-04 - accuracy: 1.0000\n",
            "Epoch 214: saving model to model\\training_classifierf.hdf5\n",
            "5/5 [==============================] - 0s 20ms/step - loss: 0.0073 - accuracy: 0.9981 - val_loss: 9.7195e-06 - val_accuracy: 1.0000\n",
            "Epoch 215/1000\n",
            "1/5 [=====>........................] - ETA: 0s - loss: 0.0013 - accuracy: 1.0000\n",
            "Epoch 215: saving model to model\\training_classifierf.hdf5\n",
            "5/5 [==============================] - 0s 22ms/step - loss: 0.0021 - accuracy: 1.0000 - val_loss: 9.5347e-06 - val_accuracy: 1.0000\n",
            "Epoch 216/1000\n",
            "1/5 [=====>........................] - ETA: 0s - loss: 0.0204 - accuracy: 0.9922\n",
            "Epoch 216: saving model to model\\training_classifierf.hdf5\n",
            "5/5 [==============================] - 0s 21ms/step - loss: 0.0073 - accuracy: 0.9981 - val_loss: 9.3217e-06 - val_accuracy: 1.0000\n",
            "Epoch 217/1000\n",
            "1/5 [=====>........................] - ETA: 0s - loss: 7.4830e-04 - accuracy: 1.0000\n",
            "Epoch 217: saving model to model\\training_classifierf.hdf5\n",
            "5/5 [==============================] - 0s 20ms/step - loss: 0.0029 - accuracy: 1.0000 - val_loss: 9.0927e-06 - val_accuracy: 1.0000\n",
            "Epoch 218/1000\n",
            "1/5 [=====>........................] - ETA: 0s - loss: 0.0053 - accuracy: 1.0000\n",
            "Epoch 218: saving model to model\\training_classifierf.hdf5\n",
            "5/5 [==============================] - 0s 20ms/step - loss: 0.0030 - accuracy: 1.0000 - val_loss: 8.8818e-06 - val_accuracy: 1.0000\n",
            "Epoch 219/1000\n",
            "1/5 [=====>........................] - ETA: 0s - loss: 0.0011 - accuracy: 1.0000\n",
            "Epoch 219: saving model to model\\training_classifierf.hdf5\n",
            "5/5 [==============================] - 0s 21ms/step - loss: 0.0035 - accuracy: 0.9981 - val_loss: 8.6602e-06 - val_accuracy: 1.0000\n",
            "Epoch 220/1000\n",
            "1/5 [=====>........................] - ETA: 0s - loss: 0.0014 - accuracy: 1.0000\n",
            "Epoch 220: saving model to model\\training_classifierf.hdf5\n",
            "5/5 [==============================] - 0s 21ms/step - loss: 0.0066 - accuracy: 0.9963 - val_loss: 8.3555e-06 - val_accuracy: 1.0000\n",
            "Epoch 221/1000\n",
            "1/5 [=====>........................] - ETA: 0s - loss: 0.0059 - accuracy: 1.0000\n",
            "Epoch 221: saving model to model\\training_classifierf.hdf5\n",
            "5/5 [==============================] - 0s 21ms/step - loss: 0.0029 - accuracy: 1.0000 - val_loss: 8.1345e-06 - val_accuracy: 1.0000\n",
            "Epoch 222/1000\n",
            "1/5 [=====>........................] - ETA: 0s - loss: 0.0010 - accuracy: 1.0000\n",
            "Epoch 222: saving model to model\\training_classifierf.hdf5\n",
            "5/5 [==============================] - 0s 22ms/step - loss: 0.0054 - accuracy: 0.9981 - val_loss: 7.9022e-06 - val_accuracy: 1.0000\n",
            "Epoch 223/1000\n",
            "1/5 [=====>........................] - ETA: 0s - loss: 0.0062 - accuracy: 1.0000\n",
            "Epoch 223: saving model to model\\training_classifierf.hdf5\n",
            "5/5 [==============================] - 0s 21ms/step - loss: 0.0058 - accuracy: 1.0000 - val_loss: 7.7127e-06 - val_accuracy: 1.0000\n",
            "Epoch 224/1000\n",
            "1/5 [=====>........................] - ETA: 0s - loss: 0.0023 - accuracy: 1.0000\n",
            "Epoch 224: saving model to model\\training_classifierf.hdf5\n",
            "5/5 [==============================] - 0s 20ms/step - loss: 0.0023 - accuracy: 1.0000 - val_loss: 7.5433e-06 - val_accuracy: 1.0000\n",
            "Epoch 225/1000\n",
            "1/5 [=====>........................] - ETA: 0s - loss: 3.3749e-04 - accuracy: 1.0000\n",
            "Epoch 225: saving model to model\\training_classifierf.hdf5\n",
            "5/5 [==============================] - 0s 20ms/step - loss: 0.0012 - accuracy: 1.0000 - val_loss: 7.3966e-06 - val_accuracy: 1.0000\n",
            "Epoch 226/1000\n",
            "1/5 [=====>........................] - ETA: 0s - loss: 0.0047 - accuracy: 1.0000\n",
            "Epoch 226: saving model to model\\training_classifierf.hdf5\n",
            "5/5 [==============================] - 0s 21ms/step - loss: 0.0041 - accuracy: 1.0000 - val_loss: 7.2111e-06 - val_accuracy: 1.0000\n",
            "Epoch 227/1000\n",
            "1/5 [=====>........................] - ETA: 0s - loss: 0.0030 - accuracy: 1.0000\n",
            "Epoch 227: saving model to model\\training_classifierf.hdf5\n",
            "5/5 [==============================] - 0s 23ms/step - loss: 0.0047 - accuracy: 0.9981 - val_loss: 6.9848e-06 - val_accuracy: 1.0000\n",
            "Epoch 228/1000\n",
            "1/5 [=====>........................] - ETA: 0s - loss: 0.0052 - accuracy: 1.0000\n",
            "Epoch 228: saving model to model\\training_classifierf.hdf5\n",
            "5/5 [==============================] - 0s 21ms/step - loss: 0.0051 - accuracy: 0.9981 - val_loss: 6.7537e-06 - val_accuracy: 1.0000\n",
            "Epoch 229/1000\n",
            "1/5 [=====>........................] - ETA: 0s - loss: 0.0064 - accuracy: 1.0000\n",
            "Epoch 229: saving model to model\\training_classifierf.hdf5\n",
            "5/5 [==============================] - 0s 18ms/step - loss: 0.0112 - accuracy: 0.9944 - val_loss: 6.6974e-06 - val_accuracy: 1.0000\n",
            "Epoch 230/1000\n",
            "1/5 [=====>........................] - ETA: 0s - loss: 0.0094 - accuracy: 1.0000\n",
            "Epoch 230: saving model to model\\training_classifierf.hdf5\n",
            "5/5 [==============================] - 0s 24ms/step - loss: 0.0081 - accuracy: 0.9981 - val_loss: 7.2377e-06 - val_accuracy: 1.0000\n",
            "Epoch 231/1000\n",
            "1/5 [=====>........................] - ETA: 0s - loss: 0.0157 - accuracy: 0.9922\n",
            "Epoch 231: saving model to model\\training_classifierf.hdf5\n",
            "5/5 [==============================] - 0s 20ms/step - loss: 0.0245 - accuracy: 0.9906 - val_loss: 8.3532e-06 - val_accuracy: 1.0000\n",
            "Epoch 232/1000\n",
            "1/5 [=====>........................] - ETA: 0s - loss: 0.0016 - accuracy: 1.0000\n",
            "Epoch 232: saving model to model\\training_classifierf.hdf5\n",
            "5/5 [==============================] - 0s 23ms/step - loss: 0.0128 - accuracy: 0.9963 - val_loss: 9.3541e-06 - val_accuracy: 1.0000\n",
            "Epoch 233/1000\n",
            "1/5 [=====>........................] - ETA: 0s - loss: 0.0243 - accuracy: 0.9922\n",
            "Epoch 233: saving model to model\\training_classifierf.hdf5\n",
            "5/5 [==============================] - 0s 19ms/step - loss: 0.0263 - accuracy: 0.9906 - val_loss: 9.5008e-06 - val_accuracy: 1.0000\n",
            "Epoch 234/1000\n",
            "1/5 [=====>........................] - ETA: 0s - loss: 9.9933e-04 - accuracy: 1.0000\n",
            "Epoch 234: saving model to model\\training_classifierf.hdf5\n",
            "5/5 [==============================] - 0s 33ms/step - loss: 0.0022 - accuracy: 1.0000 - val_loss: 9.3529e-06 - val_accuracy: 1.0000\n",
            "Epoch 235/1000\n",
            "1/5 [=====>........................] - ETA: 0s - loss: 0.0324 - accuracy: 0.9922\n",
            "Epoch 235: saving model to model\\training_classifierf.hdf5\n",
            "5/5 [==============================] - 0s 22ms/step - loss: 0.0129 - accuracy: 0.9963 - val_loss: 9.1381e-06 - val_accuracy: 1.0000\n",
            "Epoch 236/1000\n",
            "1/5 [=====>........................] - ETA: 0s - loss: 0.0034 - accuracy: 1.0000\n",
            "Epoch 236: saving model to model\\training_classifierf.hdf5\n",
            "5/5 [==============================] - 0s 23ms/step - loss: 0.0035 - accuracy: 1.0000 - val_loss: 8.9748e-06 - val_accuracy: 1.0000\n",
            "Epoch 237/1000\n",
            "1/5 [=====>........................] - ETA: 0s - loss: 0.0057 - accuracy: 1.0000\n",
            "Epoch 237: saving model to model\\training_classifierf.hdf5\n",
            "5/5 [==============================] - 0s 26ms/step - loss: 0.0085 - accuracy: 0.9963 - val_loss: 8.8544e-06 - val_accuracy: 1.0000\n",
            "Epoch 238/1000\n",
            "1/5 [=====>........................] - ETA: 0s - loss: 0.0063 - accuracy: 1.0000\n",
            "Epoch 238: saving model to model\\training_classifierf.hdf5\n",
            "5/5 [==============================] - 0s 20ms/step - loss: 0.0096 - accuracy: 0.9944 - val_loss: 8.7440e-06 - val_accuracy: 1.0000\n",
            "Epoch 239/1000\n",
            "1/5 [=====>........................] - ETA: 0s - loss: 0.0025 - accuracy: 1.0000\n",
            "Epoch 239: saving model to model\\training_classifierf.hdf5\n",
            "5/5 [==============================] - 0s 19ms/step - loss: 0.0032 - accuracy: 1.0000 - val_loss: 8.7487e-06 - val_accuracy: 1.0000\n",
            "Epoch 240/1000\n",
            "1/5 [=====>........................] - ETA: 0s - loss: 0.0570 - accuracy: 0.9922\n",
            "Epoch 240: saving model to model\\training_classifierf.hdf5\n",
            "5/5 [==============================] - 0s 19ms/step - loss: 0.0174 - accuracy: 0.9963 - val_loss: 9.1030e-06 - val_accuracy: 1.0000\n",
            "Epoch 241/1000\n",
            "1/5 [=====>........................] - ETA: 0s - loss: 0.0280 - accuracy: 0.9844\n",
            "Epoch 241: saving model to model\\training_classifierf.hdf5\n",
            "5/5 [==============================] - 0s 18ms/step - loss: 0.0084 - accuracy: 0.9963 - val_loss: 9.3842e-06 - val_accuracy: 1.0000\n",
            "Epoch 242/1000\n",
            "1/5 [=====>........................] - ETA: 0s - loss: 0.0062 - accuracy: 1.0000\n",
            "Epoch 242: saving model to model\\training_classifierf.hdf5\n",
            "5/5 [==============================] - 0s 18ms/step - loss: 0.0120 - accuracy: 0.9944 - val_loss: 9.4974e-06 - val_accuracy: 1.0000\n",
            "Epoch 243/1000\n",
            "1/5 [=====>........................] - ETA: 0s - loss: 0.0054 - accuracy: 1.0000\n",
            "Epoch 243: saving model to model\\training_classifierf.hdf5\n",
            "5/5 [==============================] - 0s 22ms/step - loss: 0.0032 - accuracy: 1.0000 - val_loss: 9.5095e-06 - val_accuracy: 1.0000\n",
            "Epoch 244/1000\n",
            "1/5 [=====>........................] - ETA: 0s - loss: 0.0011 - accuracy: 1.0000\n",
            "Epoch 244: saving model to model\\training_classifierf.hdf5\n",
            "5/5 [==============================] - 0s 27ms/step - loss: 0.0052 - accuracy: 1.0000 - val_loss: 9.3842e-06 - val_accuracy: 1.0000\n",
            "Epoch 245/1000\n",
            "1/5 [=====>........................] - ETA: 0s - loss: 0.0024 - accuracy: 1.0000\n",
            "Epoch 245: saving model to model\\training_classifierf.hdf5\n",
            "5/5 [==============================] - 0s 34ms/step - loss: 0.0027 - accuracy: 1.0000 - val_loss: 8.9001e-06 - val_accuracy: 1.0000\n",
            "Epoch 246/1000\n",
            "1/5 [=====>........................] - ETA: 0s - loss: 0.0055 - accuracy: 1.0000\n",
            "Epoch 246: saving model to model\\training_classifierf.hdf5\n",
            "5/5 [==============================] - 0s 21ms/step - loss: 0.0055 - accuracy: 0.9981 - val_loss: 8.5130e-06 - val_accuracy: 1.0000\n",
            "Epoch 247/1000\n",
            "1/5 [=====>........................] - ETA: 0s - loss: 0.0164 - accuracy: 0.9922\n",
            "Epoch 247: saving model to model\\training_classifierf.hdf5\n",
            "5/5 [==============================] - 0s 20ms/step - loss: 0.0120 - accuracy: 0.9963 - val_loss: 8.3135e-06 - val_accuracy: 1.0000\n",
            "Epoch 248/1000\n",
            "1/5 [=====>........................] - ETA: 0s - loss: 0.0063 - accuracy: 1.0000\n",
            "Epoch 248: saving model to model\\training_classifierf.hdf5\n",
            "5/5 [==============================] - 0s 20ms/step - loss: 0.0028 - accuracy: 1.0000 - val_loss: 8.2612e-06 - val_accuracy: 1.0000\n",
            "Epoch 249/1000\n",
            "1/5 [=====>........................] - ETA: 0s - loss: 2.5580e-04 - accuracy: 1.0000\n",
            "Epoch 249: saving model to model\\training_classifierf.hdf5\n",
            "5/5 [==============================] - 0s 18ms/step - loss: 0.0045 - accuracy: 0.9981 - val_loss: 8.1916e-06 - val_accuracy: 1.0000\n",
            "Epoch 249: early stopping\n"
          ]
        },
        {
          "data": {
            "text/plain": [
              "<keras.callbacks.History at 0x1b4203f21a0>"
            ]
          },
          "execution_count": 63,
          "metadata": {},
          "output_type": "execute_result"
        }
      ],
      "source": [
        "model.fit(\n",
        "    X_train,\n",
        "    y_train,\n",
        "    epochs=1000,\n",
        "    batch_size=128,\n",
        "    validation_data=(X_test, y_test),\n",
        "    callbacks=[cp_callback, es_callback]\n",
        ")"
      ]
    },
    {
      "attachments": {},
      "cell_type": "markdown",
      "metadata": {},
      "source": [
        "# Training Evaluation"
      ]
    },
    {
      "cell_type": "code",
      "execution_count": 64,
      "metadata": {
        "colab": {
          "base_uri": "https://localhost:8080/"
        },
        "id": "pxvb2Y299hE3",
        "outputId": "59eb3185-2e37-4b9e-bc9d-ab1b8ac29b7f"
      },
      "outputs": [
        {
          "name": "stdout",
          "output_type": "stream",
          "text": [
            "2/2 [==============================] - 0s 2ms/step - loss: 8.1916e-06 - accuracy: 1.0000\n"
          ]
        }
      ],
      "source": [
        "# Model evaluation\n",
        "\n",
        "val_loss, val_acc = model.evaluate(X_test, y_test, batch_size=128)"
      ]
    },
    {
      "cell_type": "code",
      "execution_count": 65,
      "metadata": {
        "id": "RBkmDeUW9hE4"
      },
      "outputs": [],
      "source": [
        "# Loading the saved model\n",
        "\n",
        "model = tf.keras.models.load_model(model_save_path)"
      ]
    },
    {
      "cell_type": "code",
      "execution_count": 66,
      "metadata": {
        "colab": {
          "base_uri": "https://localhost:8080/"
        },
        "id": "tFz9Tb0I9hE4",
        "outputId": "1c3b3528-54ae-4ee2-ab04-77429211cbef"
      },
      "outputs": [
        {
          "name": "stdout",
          "output_type": "stream",
          "text": [
            "1/1 [==============================] - 0s 99ms/step\n",
            "[7.7494697e-08 1.7050802e-06 9.9999821e-01]\n",
            "2\n"
          ]
        }
      ],
      "source": [
        "# Inference Inference\n",
        "\n",
        "predict_result = model.predict(np.array([X_test[0]]))\n",
        "print(np.squeeze(predict_result))\n",
        "print(np.argmax(np.squeeze(predict_result)))"
      ]
    },
    {
      "attachments": {},
      "cell_type": "markdown",
      "metadata": {
        "id": "S3U4yNWx9hE4"
      },
      "source": [
        "# Confusion Matrix"
      ]
    },
    {
      "cell_type": "code",
      "execution_count": 68,
      "metadata": {
        "colab": {
          "base_uri": "https://localhost:8080/",
          "height": 582
        },
        "id": "AP1V6SCk9hE5",
        "outputId": "08e41a80-7a4a-4619-8125-ecc371368d19"
      },
      "outputs": [
        {
          "name": "stdout",
          "output_type": "stream",
          "text": [
            "6/6 [==============================] - 0s 2ms/step\n"
          ]
        },
        {
          "data": {
            "image/png": "[encoded data removed]",
            "text/plain": [
              "<Figure size 700x600 with 2 Axes>"
            ]
          },
          "metadata": {},
          "output_type": "display_data"
        },
        {
          "name": "stdout",
          "output_type": "stream",
          "text": [
            "Classification Report\n",
            "              precision    recall  f1-score   support\n",
            "\n",
            "           1       1.00      1.00      1.00        98\n",
            "           2       1.00      1.00      1.00        80\n",
            "\n",
            "    accuracy                           1.00       178\n",
            "   macro avg       1.00      1.00      1.00       178\n",
            "weighted avg       1.00      1.00      1.00       178\n",
            "\n"
          ]
        }
      ],
      "source": [
        "import pandas as pd\n",
        "import seaborn as sns\n",
        "import matplotlib.pyplot as plt\n",
        "from sklearn.metrics import confusion_matrix, classification_report\n",
        "\n",
        "def print_confusion_matrix(y_true, y_pred, report=True):\n",
        "    labels = sorted(list(set(y_true)))\n",
        "    cmx_data = confusion_matrix(y_true, y_pred, labels=labels)\n",
        "    \n",
        "    df_cmx = pd.DataFrame(cmx_data, index=labels, columns=labels)\n",
        " \n",
        "    fig, ax = plt.subplots(figsize=(7, 6))\n",
        "    sns.heatmap(df_cmx, annot=True, fmt='g' ,square=False, cmap=\"YlGnBu\")\n",
        "    ax.set_ylim(len(set(y_true)), 0)\n",
        "    plt.show()\n",
        "    \n",
        "    if report:\n",
        "        print('Classification Report')\n",
        "        print(classification_report(y_test, y_pred))\n",
        "\n",
        "Y_pred = model.predict(X_test)\n",
        "y_pred = np.argmax(Y_pred, axis=1)\n",
        "\n",
        "print_confusion_matrix(y_test, y_pred)"
      ]
    },
    {
      "attachments": {},
      "cell_type": "markdown",
      "metadata": {
        "id": "FNP6aqzc9hE5"
      },
      "source": [
        "# Convert Model for Tensorflow-Lite"
      ]
    },
    {
      "cell_type": "code",
      "execution_count": 69,
      "metadata": {
        "id": "ODjnYyld9hE6"
      },
      "outputs": [],
      "source": [
        "# Save as a model dedicated to inference\n",
        "\n",
        "model.save(model_save_path, include_optimizer=False)"
      ]
    },
    {
      "cell_type": "code",
      "execution_count": 70,
      "metadata": {
        "colab": {
          "base_uri": "https://localhost:8080/"
        },
        "id": "zRfuK8Y59hE6",
        "outputId": "a4ca585c-b5d5-4244-8291-8674063209bb"
      },
      "outputs": [
        {
          "name": "stdout",
          "output_type": "stream",
          "text": [
            "INFO:tensorflow:Assets written to: C:\\Users\\URSO_L~1.COM\\AppData\\Local\\Temp\\tmpfdhutqte\\assets\n"
          ]
        },
        {
          "data": {
            "text/plain": [
              "6496"
            ]
          },
          "execution_count": 70,
          "metadata": {},
          "output_type": "execute_result"
        }
      ],
      "source": [
        "# Transform model (quantization)\n",
        "\n",
        "converter = tf.lite.TFLiteConverter.from_keras_model(model)\n",
        "converter.optimizations = [tf.lite.Optimize.DEFAULT]\n",
        "tflite_quantized_model = converter.convert()\n",
        "\n",
        "open(tflite_save_path, 'wb').write(tflite_quantized_model)"
      ]
    },
    {
      "attachments": {},
      "cell_type": "markdown",
      "metadata": {
        "id": "CHBPBXdx9hE6"
      },
      "source": [
        "# Inference Test"
      ]
    },
    {
      "cell_type": "code",
      "execution_count": 72,
      "metadata": {
        "id": "mGAzLocO9hE7"
      },
      "outputs": [],
      "source": [
        "interpreter = tf.lite.Interpreter(model_path=tflite_save_path)\n",
        "interpreter.allocate_tensors()"
      ]
    },
    {
      "cell_type": "code",
      "execution_count": 73,
      "metadata": {
        "id": "oQuDK8YS9hE7"
      },
      "outputs": [],
      "source": [
        "# Get I / O tensor\n",
        "input_details = interpreter.get_input_details()\n",
        "output_details = interpreter.get_output_details()"
      ]
    },
    {
      "cell_type": "code",
      "execution_count": 74,
      "metadata": {
        "id": "2_ixAf_l9hE7"
      },
      "outputs": [],
      "source": [
        "interpreter.set_tensor(input_details[0]['index'], np.array([X_test[0]]))"
      ]
    },
    {
      "cell_type": "code",
      "execution_count": 75,
      "metadata": {
        "colab": {
          "base_uri": "https://localhost:8080/"
        },
        "id": "s4FoAnuc9hE7",
        "outputId": "91f18257-8d8b-4ef3-c558-e9b5f94fabbf",
        "scrolled": true
      },
      "outputs": [
        {
          "name": "stdout",
          "output_type": "stream",
          "text": [
            "CPU times: total: 0 ns\n",
            "Wall time: 0 ns\n"
          ]
        }
      ],
      "source": [
        "%%time\n",
        "# Inference implementation\n",
        "interpreter.invoke()\n",
        "tflite_results = interpreter.get_tensor(output_details[0]['index'])"
      ]
    },
    {
      "cell_type": "code",
      "execution_count": 76,
      "metadata": {
        "colab": {
          "base_uri": "https://localhost:8080/"
        },
        "id": "vONjp19J9hE8",
        "outputId": "77205e24-fd00-42c4-f7b6-e06e527c2cba"
      },
      "outputs": [
        {
          "name": "stdout",
          "output_type": "stream",
          "text": [
            "[7.7494555e-08 1.7050769e-06 9.9999821e-01]\n",
            "2\n"
          ]
        }
      ],
      "source": [
        "print(np.squeeze(tflite_results))\n",
        "print(np.argmax(np.squeeze(tflite_results)))"
      ]
    }
  ],
  "metadata": {
    "accelerator": "GPU",
    "colab": {
      "collapsed_sections": [],
      "name": "keypoint_classification_EN.ipynb",
      "provenance": [],
      "toc_visible": true
    },
    "kernelspec": {
      "display_name": "Python 3",
      "language": "python",
      "name": "python3"
    },
    "language_info": {
      "codemirror_mode": {
        "name": "ipython",
        "version": 3
      },
      "file_extension": ".py",
      "mimetype": "text/x-python",
      "name": "python",
      "nbconvert_exporter": "python",
      "pygments_lexer": "ipython3",
      "version": "3.10.8"
    },
    "vscode": {
      "interpreter": {
        "hash": "540b1d93a0206432ea81f0358eb88b71755f9df1b03cc764dbc9d8857e2e8ba5"
      }
    }
  },
  "nbformat": 4,
  "nbformat_minor": 0
}
