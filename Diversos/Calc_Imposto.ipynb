{
 "cells": [
  {
   "cell_type": "markdown",
   "metadata": {},
   "source": [
    "Este é um exemplo de utilização do Markdown para fazer codigos"
   ]
  },
  {
   "cell_type": "code",
   "execution_count": 15,
   "metadata": {},
   "outputs": [],
   "source": [
    "nome=\"\"\n",
    "l_nome=[]\n",
    "l_idade=[]\n",
    "l_salario=[]"
   ]
  },
  {
   "cell_type": "code",
   "execution_count": 16,
   "metadata": {},
   "outputs": [],
   "source": [
    "while nome.upper()!=\"FIM\":\n",
    "    nome=input(\"Qual o seu nome: \")\n",
    "    if nome.upper()!=\"FIM\":\n",
    "        l_nome.append(nome)\n",
    "        l_idade.append(int(input(\"Qual a sua idade: \")))\n",
    "        l_salario.append(float(input(\"Qual o seu salário: \")))"
   ]
  },
  {
   "cell_type": "code",
   "execution_count": 18,
   "metadata": {},
   "outputs": [
    {
     "name": "stdout",
     "output_type": "stream",
     "text": [
      "[1000.0, 2000.0, 0]\n"
     ]
    }
   ],
   "source": [
    "l_imposto=[]\n",
    "for i in range(len(l_nome)):\n",
    "    if l_salario[i]>2000:\n",
    "        l_imposto.append(l_salario[i]*0.10)\n",
    "    else:\n",
    "        l_imposto.append(0)\n",
    "              \n",
    "print(l_imposto)\n",
    "        "
   ]
  },
  {
   "cell_type": "code",
   "execution_count": 24,
   "metadata": {},
   "outputs": [
    {
     "name": "stdout",
     "output_type": "stream",
     "text": [
      "LUIS  idade: #d  50  salário:  10000.0  imposto devido:  1000.0\n",
      "LUCCA  idade: #d  19  salário:  20000.0  imposto devido:  2000.0\n",
      "JERIVALDO  idade: #d  30  salário:  1500.0  imposto devido:  0\n"
     ]
    }
   ],
   "source": [
    "for i in range(len(l_nome)):\n",
    "    print(l_nome[i],\" idade: \",l_idade[i],\" salário: \",l_salario[i],\" imposto devido: \",l_imposto[i])\n",
    "    "
   ]
  }
 ],
 "metadata": {
  "kernelspec": {
   "display_name": "Python 3.10.6 64-bit (windows store)",
   "language": "python",
   "name": "python3"
  },
  "language_info": {
   "codemirror_mode": {
    "name": "ipython",
    "version": 3
   },
   "file_extension": ".py",
   "mimetype": "text/x-python",
   "name": "python",
   "nbconvert_exporter": "python",
   "pygments_lexer": "ipython3",
   "version": "3.10.6"
  },
  "orig_nbformat": 4,
  "vscode": {
   "interpreter": {
    "hash": "540b1d93a0206432ea81f0358eb88b71755f9df1b03cc764dbc9d8857e2e8ba5"
   }
  }
 },
 "nbformat": 4,
 "nbformat_minor": 2
}
