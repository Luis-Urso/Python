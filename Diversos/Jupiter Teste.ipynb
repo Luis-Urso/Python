{
 "cells": [
  {
   "cell_type": "markdown",
   "metadata": {},
   "source": [
    "Esse é um bom exemplo da utilização do Markdown"
   ]
  },
  {
   "cell_type": "code",
   "execution_count": 9,
   "metadata": {},
   "outputs": [
    {
     "ename": "NameError",
     "evalue": "name 'sin' is not defined",
     "output_type": "error",
     "traceback": [
      "\u001b[1;31m---------------------------------------------------------------------------\u001b[0m",
      "\u001b[1;31mNameError\u001b[0m                                 Traceback (most recent call last)",
      "\u001b[1;32mc:\\Users\\urso_luis_a@lilly.com\\OneDrive - Eli Lilly and Company\\Documents\\Development\\Python\\Diversos\\Jupiter Teste.ipynb Cell 2\u001b[0m in \u001b[0;36m<cell line: 7>\u001b[1;34m()\u001b[0m\n\u001b[0;32m      <a href='vscode-notebook-cell:/c%3A/Users/urso_luis_a%40lilly.com/OneDrive%20-%20Eli%20Lilly%20and%20Company/Documents/Development/Python/Diversos/Jupiter%20Teste.ipynb#W1sZmlsZQ%3D%3D?line=6'>7</a>\u001b[0m \u001b[39mfor\u001b[39;00m i \u001b[39min\u001b[39;00m \u001b[39mrange\u001b[39m(\u001b[39m100\u001b[39m):\n\u001b[0;32m      <a href='vscode-notebook-cell:/c%3A/Users/urso_luis_a%40lilly.com/OneDrive%20-%20Eli%20Lilly%20and%20Company/Documents/Development/Python/Diversos/Jupiter%20Teste.ipynb#W1sZmlsZQ%3D%3D?line=7'>8</a>\u001b[0m     x\u001b[39m=\u001b[39mi\u001b[39m*\u001b[39m\u001b[39m2\u001b[39m\n\u001b[1;32m----> <a href='vscode-notebook-cell:/c%3A/Users/urso_luis_a%40lilly.com/OneDrive%20-%20Eli%20Lilly%20and%20Company/Documents/Development/Python/Diversos/Jupiter%20Teste.ipynb#W1sZmlsZQ%3D%3D?line=8'>9</a>\u001b[0m     y\u001b[39m=\u001b[39msin(x)\n\u001b[0;32m     <a href='vscode-notebook-cell:/c%3A/Users/urso_luis_a%40lilly.com/OneDrive%20-%20Eli%20Lilly%20and%20Company/Documents/Development/Python/Diversos/Jupiter%20Teste.ipynb#W1sZmlsZQ%3D%3D?line=10'>11</a>\u001b[0m plt\u001b[39m.\u001b[39mplot(x,y)\n",
      "\u001b[1;31mNameError\u001b[0m: name 'sin' is not defined"
     ]
    }
   ],
   "source": [
    "\n",
    "from matplotlib import pyplot as plt\n",
    "import numpy as np\n",
    "\n",
    "x=[]\n",
    "y=[]\n",
    "\n",
    "for i in range(100):\n",
    "    x=i*2\n",
    "    y=x**2\n",
    "        \n",
    "plt.plot(x,y)\n",
    "\n",
    "\n",
    "\n"
   ]
  }
 ],
 "metadata": {
  "kernelspec": {
   "display_name": "Python 3.10.6 64-bit (windows store)",
   "language": "python",
   "name": "python3"
  },
  "language_info": {
   "codemirror_mode": {
    "name": "ipython",
    "version": 3
   },
   "file_extension": ".py",
   "mimetype": "text/x-python",
   "name": "python",
   "nbconvert_exporter": "python",
   "pygments_lexer": "ipython3",
   "version": "3.10.6"
  },
  "orig_nbformat": 4,
  "vscode": {
   "interpreter": {
    "hash": "540b1d93a0206432ea81f0358eb88b71755f9df1b03cc764dbc9d8857e2e8ba5"
   }
  }
 },
 "nbformat": 4,
 "nbformat_minor": 2
}
